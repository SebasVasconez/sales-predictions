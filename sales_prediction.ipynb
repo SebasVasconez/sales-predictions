{
  "nbformat": 4,
  "nbformat_minor": 0,
  "metadata": {
    "colab": {
      "provenance": [],
      "authorship_tag": "ABX9TyOAiXmjjf6ZFR+ABDYNvQdJ",
      "include_colab_link": true
    },
    "kernelspec": {
      "name": "python3",
      "display_name": "Python 3"
    },
    "language_info": {
      "name": "python"
    }
  },
  "cells": [
    {
      "cell_type": "markdown",
      "metadata": {
        "id": "view-in-github",
        "colab_type": "text"
      },
      "source": [
        "<a href=\"https://colab.research.google.com/github/SebasVasconez/sales-predictions/blob/main/sales_prediction.ipynb\" target=\"_parent\"><img src=\"https://colab.research.google.com/assets/colab-badge.svg\" alt=\"Open In Colab\"/></a>"
      ]
    },
    {
      "cell_type": "markdown",
      "source": [
        "#**CODING DOJO**\n",
        "##Creado por: Sebastian Vasconez\n",
        "\n",
        "* Fecha creado: 18/02/2023\n",
        "* Fecha actualizacion: 19/03/2023\n",
        "* Descripcion: Proyecto 1: parte 5"
      ],
      "metadata": {
        "id": "A-UJXNp94-VL"
      }
    },
    {
      "cell_type": "code",
      "execution_count": 1,
      "metadata": {
        "colab": {
          "base_uri": "https://localhost:8080/",
          "height": 357
        },
        "id": "uU1JZBhm34lR",
        "outputId": "dc6c195f-ae6e-4e06-ece6-8d1b0a1c74dc"
      },
      "outputs": [
        {
          "output_type": "execute_result",
          "data": {
            "text/plain": [
              "  Item_Identifier  Item_Weight Item_Fat_Content  Item_Visibility  \\\n",
              "0           FDA15         9.30          Low Fat         0.016047   \n",
              "1           DRC01         5.92          Regular         0.019278   \n",
              "2           FDN15        17.50          Low Fat         0.016760   \n",
              "3           FDX07        19.20          Regular         0.000000   \n",
              "4           NCD19         8.93          Low Fat         0.000000   \n",
              "\n",
              "               Item_Type  Item_MRP Outlet_Identifier  \\\n",
              "0                  Dairy  249.8092            OUT049   \n",
              "1            Soft Drinks   48.2692            OUT018   \n",
              "2                   Meat  141.6180            OUT049   \n",
              "3  Fruits and Vegetables  182.0950            OUT010   \n",
              "4              Household   53.8614            OUT013   \n",
              "\n",
              "   Outlet_Establishment_Year Outlet_Size Outlet_Location_Type  \\\n",
              "0                       1999      Medium               Tier 1   \n",
              "1                       2009      Medium               Tier 3   \n",
              "2                       1999      Medium               Tier 1   \n",
              "3                       1998         NaN               Tier 3   \n",
              "4                       1987        High               Tier 3   \n",
              "\n",
              "         Outlet_Type  Item_Outlet_Sales  \n",
              "0  Supermarket Type1          3735.1380  \n",
              "1  Supermarket Type2           443.4228  \n",
              "2  Supermarket Type1          2097.2700  \n",
              "3      Grocery Store           732.3800  \n",
              "4  Supermarket Type1           994.7052  "
            ],
            "text/html": [
              "\n",
              "  <div id=\"df-55bbc9cf-9129-4c4f-ba79-069ee83c8ef7\">\n",
              "    <div class=\"colab-df-container\">\n",
              "      <div>\n",
              "<style scoped>\n",
              "    .dataframe tbody tr th:only-of-type {\n",
              "        vertical-align: middle;\n",
              "    }\n",
              "\n",
              "    .dataframe tbody tr th {\n",
              "        vertical-align: top;\n",
              "    }\n",
              "\n",
              "    .dataframe thead th {\n",
              "        text-align: right;\n",
              "    }\n",
              "</style>\n",
              "<table border=\"1\" class=\"dataframe\">\n",
              "  <thead>\n",
              "    <tr style=\"text-align: right;\">\n",
              "      <th></th>\n",
              "      <th>Item_Identifier</th>\n",
              "      <th>Item_Weight</th>\n",
              "      <th>Item_Fat_Content</th>\n",
              "      <th>Item_Visibility</th>\n",
              "      <th>Item_Type</th>\n",
              "      <th>Item_MRP</th>\n",
              "      <th>Outlet_Identifier</th>\n",
              "      <th>Outlet_Establishment_Year</th>\n",
              "      <th>Outlet_Size</th>\n",
              "      <th>Outlet_Location_Type</th>\n",
              "      <th>Outlet_Type</th>\n",
              "      <th>Item_Outlet_Sales</th>\n",
              "    </tr>\n",
              "  </thead>\n",
              "  <tbody>\n",
              "    <tr>\n",
              "      <th>0</th>\n",
              "      <td>FDA15</td>\n",
              "      <td>9.30</td>\n",
              "      <td>Low Fat</td>\n",
              "      <td>0.016047</td>\n",
              "      <td>Dairy</td>\n",
              "      <td>249.8092</td>\n",
              "      <td>OUT049</td>\n",
              "      <td>1999</td>\n",
              "      <td>Medium</td>\n",
              "      <td>Tier 1</td>\n",
              "      <td>Supermarket Type1</td>\n",
              "      <td>3735.1380</td>\n",
              "    </tr>\n",
              "    <tr>\n",
              "      <th>1</th>\n",
              "      <td>DRC01</td>\n",
              "      <td>5.92</td>\n",
              "      <td>Regular</td>\n",
              "      <td>0.019278</td>\n",
              "      <td>Soft Drinks</td>\n",
              "      <td>48.2692</td>\n",
              "      <td>OUT018</td>\n",
              "      <td>2009</td>\n",
              "      <td>Medium</td>\n",
              "      <td>Tier 3</td>\n",
              "      <td>Supermarket Type2</td>\n",
              "      <td>443.4228</td>\n",
              "    </tr>\n",
              "    <tr>\n",
              "      <th>2</th>\n",
              "      <td>FDN15</td>\n",
              "      <td>17.50</td>\n",
              "      <td>Low Fat</td>\n",
              "      <td>0.016760</td>\n",
              "      <td>Meat</td>\n",
              "      <td>141.6180</td>\n",
              "      <td>OUT049</td>\n",
              "      <td>1999</td>\n",
              "      <td>Medium</td>\n",
              "      <td>Tier 1</td>\n",
              "      <td>Supermarket Type1</td>\n",
              "      <td>2097.2700</td>\n",
              "    </tr>\n",
              "    <tr>\n",
              "      <th>3</th>\n",
              "      <td>FDX07</td>\n",
              "      <td>19.20</td>\n",
              "      <td>Regular</td>\n",
              "      <td>0.000000</td>\n",
              "      <td>Fruits and Vegetables</td>\n",
              "      <td>182.0950</td>\n",
              "      <td>OUT010</td>\n",
              "      <td>1998</td>\n",
              "      <td>NaN</td>\n",
              "      <td>Tier 3</td>\n",
              "      <td>Grocery Store</td>\n",
              "      <td>732.3800</td>\n",
              "    </tr>\n",
              "    <tr>\n",
              "      <th>4</th>\n",
              "      <td>NCD19</td>\n",
              "      <td>8.93</td>\n",
              "      <td>Low Fat</td>\n",
              "      <td>0.000000</td>\n",
              "      <td>Household</td>\n",
              "      <td>53.8614</td>\n",
              "      <td>OUT013</td>\n",
              "      <td>1987</td>\n",
              "      <td>High</td>\n",
              "      <td>Tier 3</td>\n",
              "      <td>Supermarket Type1</td>\n",
              "      <td>994.7052</td>\n",
              "    </tr>\n",
              "  </tbody>\n",
              "</table>\n",
              "</div>\n",
              "      <button class=\"colab-df-convert\" onclick=\"convertToInteractive('df-55bbc9cf-9129-4c4f-ba79-069ee83c8ef7')\"\n",
              "              title=\"Convert this dataframe to an interactive table.\"\n",
              "              style=\"display:none;\">\n",
              "        \n",
              "  <svg xmlns=\"http://www.w3.org/2000/svg\" height=\"24px\"viewBox=\"0 0 24 24\"\n",
              "       width=\"24px\">\n",
              "    <path d=\"M0 0h24v24H0V0z\" fill=\"none\"/>\n",
              "    <path d=\"M18.56 5.44l.94 2.06.94-2.06 2.06-.94-2.06-.94-.94-2.06-.94 2.06-2.06.94zm-11 1L8.5 8.5l.94-2.06 2.06-.94-2.06-.94L8.5 2.5l-.94 2.06-2.06.94zm10 10l.94 2.06.94-2.06 2.06-.94-2.06-.94-.94-2.06-.94 2.06-2.06.94z\"/><path d=\"M17.41 7.96l-1.37-1.37c-.4-.4-.92-.59-1.43-.59-.52 0-1.04.2-1.43.59L10.3 9.45l-7.72 7.72c-.78.78-.78 2.05 0 2.83L4 21.41c.39.39.9.59 1.41.59.51 0 1.02-.2 1.41-.59l7.78-7.78 2.81-2.81c.8-.78.8-2.07 0-2.86zM5.41 20L4 18.59l7.72-7.72 1.47 1.35L5.41 20z\"/>\n",
              "  </svg>\n",
              "      </button>\n",
              "      \n",
              "  <style>\n",
              "    .colab-df-container {\n",
              "      display:flex;\n",
              "      flex-wrap:wrap;\n",
              "      gap: 12px;\n",
              "    }\n",
              "\n",
              "    .colab-df-convert {\n",
              "      background-color: #E8F0FE;\n",
              "      border: none;\n",
              "      border-radius: 50%;\n",
              "      cursor: pointer;\n",
              "      display: none;\n",
              "      fill: #1967D2;\n",
              "      height: 32px;\n",
              "      padding: 0 0 0 0;\n",
              "      width: 32px;\n",
              "    }\n",
              "\n",
              "    .colab-df-convert:hover {\n",
              "      background-color: #E2EBFA;\n",
              "      box-shadow: 0px 1px 2px rgba(60, 64, 67, 0.3), 0px 1px 3px 1px rgba(60, 64, 67, 0.15);\n",
              "      fill: #174EA6;\n",
              "    }\n",
              "\n",
              "    [theme=dark] .colab-df-convert {\n",
              "      background-color: #3B4455;\n",
              "      fill: #D2E3FC;\n",
              "    }\n",
              "\n",
              "    [theme=dark] .colab-df-convert:hover {\n",
              "      background-color: #434B5C;\n",
              "      box-shadow: 0px 1px 3px 1px rgba(0, 0, 0, 0.15);\n",
              "      filter: drop-shadow(0px 1px 2px rgba(0, 0, 0, 0.3));\n",
              "      fill: #FFFFFF;\n",
              "    }\n",
              "  </style>\n",
              "\n",
              "      <script>\n",
              "        const buttonEl =\n",
              "          document.querySelector('#df-55bbc9cf-9129-4c4f-ba79-069ee83c8ef7 button.colab-df-convert');\n",
              "        buttonEl.style.display =\n",
              "          google.colab.kernel.accessAllowed ? 'block' : 'none';\n",
              "\n",
              "        async function convertToInteractive(key) {\n",
              "          const element = document.querySelector('#df-55bbc9cf-9129-4c4f-ba79-069ee83c8ef7');\n",
              "          const dataTable =\n",
              "            await google.colab.kernel.invokeFunction('convertToInteractive',\n",
              "                                                     [key], {});\n",
              "          if (!dataTable) return;\n",
              "\n",
              "          const docLinkHtml = 'Like what you see? Visit the ' +\n",
              "            '<a target=\"_blank\" href=https://colab.research.google.com/notebooks/data_table.ipynb>data table notebook</a>'\n",
              "            + ' to learn more about interactive tables.';\n",
              "          element.innerHTML = '';\n",
              "          dataTable['output_type'] = 'display_data';\n",
              "          await google.colab.output.renderOutput(dataTable, element);\n",
              "          const docLink = document.createElement('div');\n",
              "          docLink.innerHTML = docLinkHtml;\n",
              "          element.appendChild(docLink);\n",
              "        }\n",
              "      </script>\n",
              "    </div>\n",
              "  </div>\n",
              "  "
            ]
          },
          "metadata": {},
          "execution_count": 1
        }
      ],
      "source": [
        "import pandas as pd\n",
        "import numpy as np\n",
        "\n",
        "import seaborn as sn\n",
        "import matplotlib.pyplot as plt\n",
        "import seaborn as sns\n",
        "\n",
        "from sklearn.model_selection import train_test_split\n",
        "from sklearn.compose import make_column_selector, make_column_transformer\n",
        "from sklearn.impute import SimpleImputer\n",
        "from sklearn import set_config\n",
        "set_config(display='diagram')\n",
        "\n",
        "d=\"/content/sales_predictions.csv\"\n",
        "\n",
        "df=pd.read_csv(d)\n",
        "df.head()\n",
        "\n"
      ]
    },
    {
      "cell_type": "code",
      "source": [
        "df.info()"
      ],
      "metadata": {
        "id": "1QmMHpEYBL1O",
        "outputId": "0639fbdd-7ed8-44a9-eccc-db2c48a08ae3",
        "colab": {
          "base_uri": "https://localhost:8080/"
        }
      },
      "execution_count": 2,
      "outputs": [
        {
          "output_type": "stream",
          "name": "stdout",
          "text": [
            "<class 'pandas.core.frame.DataFrame'>\n",
            "RangeIndex: 8523 entries, 0 to 8522\n",
            "Data columns (total 12 columns):\n",
            " #   Column                     Non-Null Count  Dtype  \n",
            "---  ------                     --------------  -----  \n",
            " 0   Item_Identifier            8523 non-null   object \n",
            " 1   Item_Weight                7060 non-null   float64\n",
            " 2   Item_Fat_Content           8523 non-null   object \n",
            " 3   Item_Visibility            8523 non-null   float64\n",
            " 4   Item_Type                  8523 non-null   object \n",
            " 5   Item_MRP                   8523 non-null   float64\n",
            " 6   Outlet_Identifier          8523 non-null   object \n",
            " 7   Outlet_Establishment_Year  8523 non-null   int64  \n",
            " 8   Outlet_Size                6113 non-null   object \n",
            " 9   Outlet_Location_Type       8523 non-null   object \n",
            " 10  Outlet_Type                8523 non-null   object \n",
            " 11  Item_Outlet_Sales          8523 non-null   float64\n",
            "dtypes: float64(4), int64(1), object(7)\n",
            "memory usage: 799.2+ KB\n"
          ]
        }
      ]
    },
    {
      "cell_type": "code",
      "source": [
        "df.describe()"
      ],
      "metadata": {
        "id": "nphE4MT-BOQd",
        "outputId": "f3ba440d-a88e-42a3-db6b-f6d9762dabac",
        "colab": {
          "base_uri": "https://localhost:8080/",
          "height": 300
        }
      },
      "execution_count": 3,
      "outputs": [
        {
          "output_type": "execute_result",
          "data": {
            "text/plain": [
              "       Item_Weight  Item_Visibility     Item_MRP  Outlet_Establishment_Year  \\\n",
              "count  7060.000000      8523.000000  8523.000000                8523.000000   \n",
              "mean     12.857645         0.066132   140.992782                1997.831867   \n",
              "std       4.643456         0.051598    62.275067                   8.371760   \n",
              "min       4.555000         0.000000    31.290000                1985.000000   \n",
              "25%       8.773750         0.026989    93.826500                1987.000000   \n",
              "50%      12.600000         0.053931   143.012800                1999.000000   \n",
              "75%      16.850000         0.094585   185.643700                2004.000000   \n",
              "max      21.350000         0.328391   266.888400                2009.000000   \n",
              "\n",
              "       Item_Outlet_Sales  \n",
              "count        8523.000000  \n",
              "mean         2181.288914  \n",
              "std          1706.499616  \n",
              "min            33.290000  \n",
              "25%           834.247400  \n",
              "50%          1794.331000  \n",
              "75%          3101.296400  \n",
              "max         13086.964800  "
            ],
            "text/html": [
              "\n",
              "  <div id=\"df-34d6c8f6-ebc7-46b8-ad2b-1091f8316f63\">\n",
              "    <div class=\"colab-df-container\">\n",
              "      <div>\n",
              "<style scoped>\n",
              "    .dataframe tbody tr th:only-of-type {\n",
              "        vertical-align: middle;\n",
              "    }\n",
              "\n",
              "    .dataframe tbody tr th {\n",
              "        vertical-align: top;\n",
              "    }\n",
              "\n",
              "    .dataframe thead th {\n",
              "        text-align: right;\n",
              "    }\n",
              "</style>\n",
              "<table border=\"1\" class=\"dataframe\">\n",
              "  <thead>\n",
              "    <tr style=\"text-align: right;\">\n",
              "      <th></th>\n",
              "      <th>Item_Weight</th>\n",
              "      <th>Item_Visibility</th>\n",
              "      <th>Item_MRP</th>\n",
              "      <th>Outlet_Establishment_Year</th>\n",
              "      <th>Item_Outlet_Sales</th>\n",
              "    </tr>\n",
              "  </thead>\n",
              "  <tbody>\n",
              "    <tr>\n",
              "      <th>count</th>\n",
              "      <td>7060.000000</td>\n",
              "      <td>8523.000000</td>\n",
              "      <td>8523.000000</td>\n",
              "      <td>8523.000000</td>\n",
              "      <td>8523.000000</td>\n",
              "    </tr>\n",
              "    <tr>\n",
              "      <th>mean</th>\n",
              "      <td>12.857645</td>\n",
              "      <td>0.066132</td>\n",
              "      <td>140.992782</td>\n",
              "      <td>1997.831867</td>\n",
              "      <td>2181.288914</td>\n",
              "    </tr>\n",
              "    <tr>\n",
              "      <th>std</th>\n",
              "      <td>4.643456</td>\n",
              "      <td>0.051598</td>\n",
              "      <td>62.275067</td>\n",
              "      <td>8.371760</td>\n",
              "      <td>1706.499616</td>\n",
              "    </tr>\n",
              "    <tr>\n",
              "      <th>min</th>\n",
              "      <td>4.555000</td>\n",
              "      <td>0.000000</td>\n",
              "      <td>31.290000</td>\n",
              "      <td>1985.000000</td>\n",
              "      <td>33.290000</td>\n",
              "    </tr>\n",
              "    <tr>\n",
              "      <th>25%</th>\n",
              "      <td>8.773750</td>\n",
              "      <td>0.026989</td>\n",
              "      <td>93.826500</td>\n",
              "      <td>1987.000000</td>\n",
              "      <td>834.247400</td>\n",
              "    </tr>\n",
              "    <tr>\n",
              "      <th>50%</th>\n",
              "      <td>12.600000</td>\n",
              "      <td>0.053931</td>\n",
              "      <td>143.012800</td>\n",
              "      <td>1999.000000</td>\n",
              "      <td>1794.331000</td>\n",
              "    </tr>\n",
              "    <tr>\n",
              "      <th>75%</th>\n",
              "      <td>16.850000</td>\n",
              "      <td>0.094585</td>\n",
              "      <td>185.643700</td>\n",
              "      <td>2004.000000</td>\n",
              "      <td>3101.296400</td>\n",
              "    </tr>\n",
              "    <tr>\n",
              "      <th>max</th>\n",
              "      <td>21.350000</td>\n",
              "      <td>0.328391</td>\n",
              "      <td>266.888400</td>\n",
              "      <td>2009.000000</td>\n",
              "      <td>13086.964800</td>\n",
              "    </tr>\n",
              "  </tbody>\n",
              "</table>\n",
              "</div>\n",
              "      <button class=\"colab-df-convert\" onclick=\"convertToInteractive('df-34d6c8f6-ebc7-46b8-ad2b-1091f8316f63')\"\n",
              "              title=\"Convert this dataframe to an interactive table.\"\n",
              "              style=\"display:none;\">\n",
              "        \n",
              "  <svg xmlns=\"http://www.w3.org/2000/svg\" height=\"24px\"viewBox=\"0 0 24 24\"\n",
              "       width=\"24px\">\n",
              "    <path d=\"M0 0h24v24H0V0z\" fill=\"none\"/>\n",
              "    <path d=\"M18.56 5.44l.94 2.06.94-2.06 2.06-.94-2.06-.94-.94-2.06-.94 2.06-2.06.94zm-11 1L8.5 8.5l.94-2.06 2.06-.94-2.06-.94L8.5 2.5l-.94 2.06-2.06.94zm10 10l.94 2.06.94-2.06 2.06-.94-2.06-.94-.94-2.06-.94 2.06-2.06.94z\"/><path d=\"M17.41 7.96l-1.37-1.37c-.4-.4-.92-.59-1.43-.59-.52 0-1.04.2-1.43.59L10.3 9.45l-7.72 7.72c-.78.78-.78 2.05 0 2.83L4 21.41c.39.39.9.59 1.41.59.51 0 1.02-.2 1.41-.59l7.78-7.78 2.81-2.81c.8-.78.8-2.07 0-2.86zM5.41 20L4 18.59l7.72-7.72 1.47 1.35L5.41 20z\"/>\n",
              "  </svg>\n",
              "      </button>\n",
              "      \n",
              "  <style>\n",
              "    .colab-df-container {\n",
              "      display:flex;\n",
              "      flex-wrap:wrap;\n",
              "      gap: 12px;\n",
              "    }\n",
              "\n",
              "    .colab-df-convert {\n",
              "      background-color: #E8F0FE;\n",
              "      border: none;\n",
              "      border-radius: 50%;\n",
              "      cursor: pointer;\n",
              "      display: none;\n",
              "      fill: #1967D2;\n",
              "      height: 32px;\n",
              "      padding: 0 0 0 0;\n",
              "      width: 32px;\n",
              "    }\n",
              "\n",
              "    .colab-df-convert:hover {\n",
              "      background-color: #E2EBFA;\n",
              "      box-shadow: 0px 1px 2px rgba(60, 64, 67, 0.3), 0px 1px 3px 1px rgba(60, 64, 67, 0.15);\n",
              "      fill: #174EA6;\n",
              "    }\n",
              "\n",
              "    [theme=dark] .colab-df-convert {\n",
              "      background-color: #3B4455;\n",
              "      fill: #D2E3FC;\n",
              "    }\n",
              "\n",
              "    [theme=dark] .colab-df-convert:hover {\n",
              "      background-color: #434B5C;\n",
              "      box-shadow: 0px 1px 3px 1px rgba(0, 0, 0, 0.15);\n",
              "      filter: drop-shadow(0px 1px 2px rgba(0, 0, 0, 0.3));\n",
              "      fill: #FFFFFF;\n",
              "    }\n",
              "  </style>\n",
              "\n",
              "      <script>\n",
              "        const buttonEl =\n",
              "          document.querySelector('#df-34d6c8f6-ebc7-46b8-ad2b-1091f8316f63 button.colab-df-convert');\n",
              "        buttonEl.style.display =\n",
              "          google.colab.kernel.accessAllowed ? 'block' : 'none';\n",
              "\n",
              "        async function convertToInteractive(key) {\n",
              "          const element = document.querySelector('#df-34d6c8f6-ebc7-46b8-ad2b-1091f8316f63');\n",
              "          const dataTable =\n",
              "            await google.colab.kernel.invokeFunction('convertToInteractive',\n",
              "                                                     [key], {});\n",
              "          if (!dataTable) return;\n",
              "\n",
              "          const docLinkHtml = 'Like what you see? Visit the ' +\n",
              "            '<a target=\"_blank\" href=https://colab.research.google.com/notebooks/data_table.ipynb>data table notebook</a>'\n",
              "            + ' to learn more about interactive tables.';\n",
              "          element.innerHTML = '';\n",
              "          dataTable['output_type'] = 'display_data';\n",
              "          await google.colab.output.renderOutput(dataTable, element);\n",
              "          const docLink = document.createElement('div');\n",
              "          docLink.innerHTML = docLinkHtml;\n",
              "          element.appendChild(docLink);\n",
              "        }\n",
              "      </script>\n",
              "    </div>\n",
              "  </div>\n",
              "  "
            ]
          },
          "metadata": {},
          "execution_count": 3
        }
      ]
    },
    {
      "cell_type": "code",
      "source": [
        "#Revision de duplicados\n",
        "df.duplicated().value_counts()"
      ],
      "metadata": {
        "id": "RTloRBEjDO-X",
        "outputId": "aee22e1d-44d1-4cfa-a5fb-0a3e63013c9f",
        "colab": {
          "base_uri": "https://localhost:8080/"
        }
      },
      "execution_count": 4,
      "outputs": [
        {
          "output_type": "execute_result",
          "data": {
            "text/plain": [
              "False    8523\n",
              "dtype: int64"
            ]
          },
          "metadata": {},
          "execution_count": 4
        }
      ]
    },
    {
      "cell_type": "code",
      "source": [
        "#Revision de columnas innecesarias."
      ],
      "metadata": {
        "id": "ivoboPdIFC76"
      },
      "execution_count": null,
      "outputs": []
    },
    {
      "cell_type": "code",
      "source": [
        " #medir correlacion entre año de establecimiento y ventas para determinar si se elimina la columa\n",
        "\n",
        " df['Outlet_Establishment_Year'].corr(df['Item_Outlet_Sales'], method='pearson')\n",
        " #no tienen correlacion, podemos eliminar la columna ya que no aporta a nuestro estudio. \n",
        " #En que año abrio no determinará el exito de las ventas del producto"
      ],
      "metadata": {
        "id": "gTQqpLeNFwkc",
        "outputId": "6f26413b-fc75-48e5-cfaa-5b389ad814e1",
        "colab": {
          "base_uri": "https://localhost:8080/"
        }
      },
      "execution_count": 5,
      "outputs": [
        {
          "output_type": "execute_result",
          "data": {
            "text/plain": [
              "-0.04913497044082089"
            ]
          },
          "metadata": {},
          "execution_count": 5
        }
      ]
    },
    {
      "cell_type": "code",
      "source": [
        " df['Item_Weight'].corr(df['Item_Outlet_Sales'], method='pearson')\n",
        " #Tiene correlacion baja, aun así podría dar una pista de como afecta el peso del producto"
      ],
      "metadata": {
        "id": "dgc16M9gHufI",
        "outputId": "021e18c6-1836-4c32-97d5-2d69d4dab48f",
        "colab": {
          "base_uri": "https://localhost:8080/"
        }
      },
      "execution_count": 6,
      "outputs": [
        {
          "output_type": "execute_result",
          "data": {
            "text/plain": [
              "0.014122739280056456"
            ]
          },
          "metadata": {},
          "execution_count": 6
        }
      ]
    },
    {
      "cell_type": "code",
      "source": [
        " df['Item_Visibility'].corr(df['Item_Outlet_Sales'], method='pearson')"
      ],
      "metadata": {
        "id": "PElzKv_lH5VD",
        "outputId": "fce84826-ee34-43be-f69e-2509f247ab47",
        "colab": {
          "base_uri": "https://localhost:8080/"
        }
      },
      "execution_count": 7,
      "outputs": [
        {
          "output_type": "execute_result",
          "data": {
            "text/plain": [
              "-0.12862461222077026"
            ]
          },
          "metadata": {},
          "execution_count": 7
        }
      ]
    },
    {
      "cell_type": "code",
      "source": [
        " df['Item_MRP'].corr(df['Item_Outlet_Sales'], method='pearson')"
      ],
      "metadata": {
        "id": "0XFFQtyQH5xl",
        "outputId": "c19cc812-f001-4700-84df-b1620f5dc8a7",
        "colab": {
          "base_uri": "https://localhost:8080/"
        }
      },
      "execution_count": 8,
      "outputs": [
        {
          "output_type": "execute_result",
          "data": {
            "text/plain": [
              "0.5675744466569194"
            ]
          },
          "metadata": {},
          "execution_count": 8
        }
      ]
    },
    {
      "cell_type": "code",
      "source": [
        "#eliminacion columnas innecesarias\n",
        "df = df.drop(columns=['Item_Identifier','Outlet_Establishment_Year','Outlet_Identifier'])\n",
        "df.head()"
      ],
      "metadata": {
        "id": "wVYath8RIeKq",
        "outputId": "58e614dd-2fdf-4937-eef3-9357aa5ada72",
        "colab": {
          "base_uri": "https://localhost:8080/",
          "height": 206
        }
      },
      "execution_count": 9,
      "outputs": [
        {
          "output_type": "execute_result",
          "data": {
            "text/plain": [
              "   Item_Weight Item_Fat_Content  Item_Visibility              Item_Type  \\\n",
              "0         9.30          Low Fat         0.016047                  Dairy   \n",
              "1         5.92          Regular         0.019278            Soft Drinks   \n",
              "2        17.50          Low Fat         0.016760                   Meat   \n",
              "3        19.20          Regular         0.000000  Fruits and Vegetables   \n",
              "4         8.93          Low Fat         0.000000              Household   \n",
              "\n",
              "   Item_MRP Outlet_Size Outlet_Location_Type        Outlet_Type  \\\n",
              "0  249.8092      Medium               Tier 1  Supermarket Type1   \n",
              "1   48.2692      Medium               Tier 3  Supermarket Type2   \n",
              "2  141.6180      Medium               Tier 1  Supermarket Type1   \n",
              "3  182.0950         NaN               Tier 3      Grocery Store   \n",
              "4   53.8614        High               Tier 3  Supermarket Type1   \n",
              "\n",
              "   Item_Outlet_Sales  \n",
              "0          3735.1380  \n",
              "1           443.4228  \n",
              "2          2097.2700  \n",
              "3           732.3800  \n",
              "4           994.7052  "
            ],
            "text/html": [
              "\n",
              "  <div id=\"df-0376959e-db1b-4cab-936d-51de193996a7\">\n",
              "    <div class=\"colab-df-container\">\n",
              "      <div>\n",
              "<style scoped>\n",
              "    .dataframe tbody tr th:only-of-type {\n",
              "        vertical-align: middle;\n",
              "    }\n",
              "\n",
              "    .dataframe tbody tr th {\n",
              "        vertical-align: top;\n",
              "    }\n",
              "\n",
              "    .dataframe thead th {\n",
              "        text-align: right;\n",
              "    }\n",
              "</style>\n",
              "<table border=\"1\" class=\"dataframe\">\n",
              "  <thead>\n",
              "    <tr style=\"text-align: right;\">\n",
              "      <th></th>\n",
              "      <th>Item_Weight</th>\n",
              "      <th>Item_Fat_Content</th>\n",
              "      <th>Item_Visibility</th>\n",
              "      <th>Item_Type</th>\n",
              "      <th>Item_MRP</th>\n",
              "      <th>Outlet_Size</th>\n",
              "      <th>Outlet_Location_Type</th>\n",
              "      <th>Outlet_Type</th>\n",
              "      <th>Item_Outlet_Sales</th>\n",
              "    </tr>\n",
              "  </thead>\n",
              "  <tbody>\n",
              "    <tr>\n",
              "      <th>0</th>\n",
              "      <td>9.30</td>\n",
              "      <td>Low Fat</td>\n",
              "      <td>0.016047</td>\n",
              "      <td>Dairy</td>\n",
              "      <td>249.8092</td>\n",
              "      <td>Medium</td>\n",
              "      <td>Tier 1</td>\n",
              "      <td>Supermarket Type1</td>\n",
              "      <td>3735.1380</td>\n",
              "    </tr>\n",
              "    <tr>\n",
              "      <th>1</th>\n",
              "      <td>5.92</td>\n",
              "      <td>Regular</td>\n",
              "      <td>0.019278</td>\n",
              "      <td>Soft Drinks</td>\n",
              "      <td>48.2692</td>\n",
              "      <td>Medium</td>\n",
              "      <td>Tier 3</td>\n",
              "      <td>Supermarket Type2</td>\n",
              "      <td>443.4228</td>\n",
              "    </tr>\n",
              "    <tr>\n",
              "      <th>2</th>\n",
              "      <td>17.50</td>\n",
              "      <td>Low Fat</td>\n",
              "      <td>0.016760</td>\n",
              "      <td>Meat</td>\n",
              "      <td>141.6180</td>\n",
              "      <td>Medium</td>\n",
              "      <td>Tier 1</td>\n",
              "      <td>Supermarket Type1</td>\n",
              "      <td>2097.2700</td>\n",
              "    </tr>\n",
              "    <tr>\n",
              "      <th>3</th>\n",
              "      <td>19.20</td>\n",
              "      <td>Regular</td>\n",
              "      <td>0.000000</td>\n",
              "      <td>Fruits and Vegetables</td>\n",
              "      <td>182.0950</td>\n",
              "      <td>NaN</td>\n",
              "      <td>Tier 3</td>\n",
              "      <td>Grocery Store</td>\n",
              "      <td>732.3800</td>\n",
              "    </tr>\n",
              "    <tr>\n",
              "      <th>4</th>\n",
              "      <td>8.93</td>\n",
              "      <td>Low Fat</td>\n",
              "      <td>0.000000</td>\n",
              "      <td>Household</td>\n",
              "      <td>53.8614</td>\n",
              "      <td>High</td>\n",
              "      <td>Tier 3</td>\n",
              "      <td>Supermarket Type1</td>\n",
              "      <td>994.7052</td>\n",
              "    </tr>\n",
              "  </tbody>\n",
              "</table>\n",
              "</div>\n",
              "      <button class=\"colab-df-convert\" onclick=\"convertToInteractive('df-0376959e-db1b-4cab-936d-51de193996a7')\"\n",
              "              title=\"Convert this dataframe to an interactive table.\"\n",
              "              style=\"display:none;\">\n",
              "        \n",
              "  <svg xmlns=\"http://www.w3.org/2000/svg\" height=\"24px\"viewBox=\"0 0 24 24\"\n",
              "       width=\"24px\">\n",
              "    <path d=\"M0 0h24v24H0V0z\" fill=\"none\"/>\n",
              "    <path d=\"M18.56 5.44l.94 2.06.94-2.06 2.06-.94-2.06-.94-.94-2.06-.94 2.06-2.06.94zm-11 1L8.5 8.5l.94-2.06 2.06-.94-2.06-.94L8.5 2.5l-.94 2.06-2.06.94zm10 10l.94 2.06.94-2.06 2.06-.94-2.06-.94-.94-2.06-.94 2.06-2.06.94z\"/><path d=\"M17.41 7.96l-1.37-1.37c-.4-.4-.92-.59-1.43-.59-.52 0-1.04.2-1.43.59L10.3 9.45l-7.72 7.72c-.78.78-.78 2.05 0 2.83L4 21.41c.39.39.9.59 1.41.59.51 0 1.02-.2 1.41-.59l7.78-7.78 2.81-2.81c.8-.78.8-2.07 0-2.86zM5.41 20L4 18.59l7.72-7.72 1.47 1.35L5.41 20z\"/>\n",
              "  </svg>\n",
              "      </button>\n",
              "      \n",
              "  <style>\n",
              "    .colab-df-container {\n",
              "      display:flex;\n",
              "      flex-wrap:wrap;\n",
              "      gap: 12px;\n",
              "    }\n",
              "\n",
              "    .colab-df-convert {\n",
              "      background-color: #E8F0FE;\n",
              "      border: none;\n",
              "      border-radius: 50%;\n",
              "      cursor: pointer;\n",
              "      display: none;\n",
              "      fill: #1967D2;\n",
              "      height: 32px;\n",
              "      padding: 0 0 0 0;\n",
              "      width: 32px;\n",
              "    }\n",
              "\n",
              "    .colab-df-convert:hover {\n",
              "      background-color: #E2EBFA;\n",
              "      box-shadow: 0px 1px 2px rgba(60, 64, 67, 0.3), 0px 1px 3px 1px rgba(60, 64, 67, 0.15);\n",
              "      fill: #174EA6;\n",
              "    }\n",
              "\n",
              "    [theme=dark] .colab-df-convert {\n",
              "      background-color: #3B4455;\n",
              "      fill: #D2E3FC;\n",
              "    }\n",
              "\n",
              "    [theme=dark] .colab-df-convert:hover {\n",
              "      background-color: #434B5C;\n",
              "      box-shadow: 0px 1px 3px 1px rgba(0, 0, 0, 0.15);\n",
              "      filter: drop-shadow(0px 1px 2px rgba(0, 0, 0, 0.3));\n",
              "      fill: #FFFFFF;\n",
              "    }\n",
              "  </style>\n",
              "\n",
              "      <script>\n",
              "        const buttonEl =\n",
              "          document.querySelector('#df-0376959e-db1b-4cab-936d-51de193996a7 button.colab-df-convert');\n",
              "        buttonEl.style.display =\n",
              "          google.colab.kernel.accessAllowed ? 'block' : 'none';\n",
              "\n",
              "        async function convertToInteractive(key) {\n",
              "          const element = document.querySelector('#df-0376959e-db1b-4cab-936d-51de193996a7');\n",
              "          const dataTable =\n",
              "            await google.colab.kernel.invokeFunction('convertToInteractive',\n",
              "                                                     [key], {});\n",
              "          if (!dataTable) return;\n",
              "\n",
              "          const docLinkHtml = 'Like what you see? Visit the ' +\n",
              "            '<a target=\"_blank\" href=https://colab.research.google.com/notebooks/data_table.ipynb>data table notebook</a>'\n",
              "            + ' to learn more about interactive tables.';\n",
              "          element.innerHTML = '';\n",
              "          dataTable['output_type'] = 'display_data';\n",
              "          await google.colab.output.renderOutput(dataTable, element);\n",
              "          const docLink = document.createElement('div');\n",
              "          docLink.innerHTML = docLinkHtml;\n",
              "          element.appendChild(docLink);\n",
              "        }\n",
              "      </script>\n",
              "    </div>\n",
              "  </div>\n",
              "  "
            ]
          },
          "metadata": {},
          "execution_count": 9
        }
      ]
    },
    {
      "cell_type": "code",
      "source": [
        "#unicos en cada columna\n",
        "df.nunique()"
      ],
      "metadata": {
        "id": "Cjx-JbbNIvf8",
        "outputId": "f7441bb1-c36f-429c-ba6d-2d8d33a87e65",
        "colab": {
          "base_uri": "https://localhost:8080/"
        }
      },
      "execution_count": 10,
      "outputs": [
        {
          "output_type": "execute_result",
          "data": {
            "text/plain": [
              "Item_Weight              415\n",
              "Item_Fat_Content           5\n",
              "Item_Visibility         7880\n",
              "Item_Type                 16\n",
              "Item_MRP                5938\n",
              "Outlet_Size                3\n",
              "Outlet_Location_Type       3\n",
              "Outlet_Type                4\n",
              "Item_Outlet_Sales       3493\n",
              "dtype: int64"
            ]
          },
          "metadata": {},
          "execution_count": 10
        }
      ]
    },
    {
      "cell_type": "code",
      "source": [
        "#Revision de inconsistencias en variables categoricas\n",
        "df[\"Item_Fat_Content\"].value_counts()"
      ],
      "metadata": {
        "id": "bh_VY5oHK3-h",
        "outputId": "255c4aa1-d034-44cc-89a4-dc5b543a2f23",
        "colab": {
          "base_uri": "https://localhost:8080/"
        }
      },
      "execution_count": 11,
      "outputs": [
        {
          "output_type": "execute_result",
          "data": {
            "text/plain": [
              "Low Fat    5089\n",
              "Regular    2889\n",
              "LF          316\n",
              "reg         117\n",
              "low fat     112\n",
              "Name: Item_Fat_Content, dtype: int64"
            ]
          },
          "metadata": {},
          "execution_count": 11
        }
      ]
    },
    {
      "cell_type": "code",
      "source": [
        "df['Item_Fat_Content'] = df['Item_Fat_Content'].replace('LF', 'Low Fat')\n",
        "df['Item_Fat_Content'] = df['Item_Fat_Content'].replace('low fat', 'Low Fat')\n",
        "df['Item_Fat_Content'] = df['Item_Fat_Content'].replace('reg', 'Regular')\n",
        "df[\"Item_Fat_Content\"].value_counts()"
      ],
      "metadata": {
        "id": "utj-83QcLP0W",
        "outputId": "a452a252-06d2-4fd4-b7cc-14b08fe57b56",
        "colab": {
          "base_uri": "https://localhost:8080/"
        }
      },
      "execution_count": 12,
      "outputs": [
        {
          "output_type": "execute_result",
          "data": {
            "text/plain": [
              "Low Fat    5517\n",
              "Regular    3006\n",
              "Name: Item_Fat_Content, dtype: int64"
            ]
          },
          "metadata": {},
          "execution_count": 12
        }
      ]
    },
    {
      "cell_type": "code",
      "source": [
        "df[\"Item_Type\"].value_counts()"
      ],
      "metadata": {
        "id": "0B3hbGVZLoez",
        "outputId": "1b16029f-5b2a-48e2-9c4b-7d58840cf1a5",
        "colab": {
          "base_uri": "https://localhost:8080/"
        }
      },
      "execution_count": 13,
      "outputs": [
        {
          "output_type": "execute_result",
          "data": {
            "text/plain": [
              "Fruits and Vegetables    1232\n",
              "Snack Foods              1200\n",
              "Household                 910\n",
              "Frozen Foods              856\n",
              "Dairy                     682\n",
              "Canned                    649\n",
              "Baking Goods              648\n",
              "Health and Hygiene        520\n",
              "Soft Drinks               445\n",
              "Meat                      425\n",
              "Breads                    251\n",
              "Hard Drinks               214\n",
              "Others                    169\n",
              "Starchy Foods             148\n",
              "Breakfast                 110\n",
              "Seafood                    64\n",
              "Name: Item_Type, dtype: int64"
            ]
          },
          "metadata": {},
          "execution_count": 13
        }
      ]
    },
    {
      "cell_type": "code",
      "source": [
        "df[\"Outlet_Size\"].value_counts()"
      ],
      "metadata": {
        "id": "5EAzxNxFL05q",
        "outputId": "728433ee-7bb1-4edd-f9e5-c3374d4d1868",
        "colab": {
          "base_uri": "https://localhost:8080/"
        }
      },
      "execution_count": 14,
      "outputs": [
        {
          "output_type": "execute_result",
          "data": {
            "text/plain": [
              "Medium    2793\n",
              "Small     2388\n",
              "High       932\n",
              "Name: Outlet_Size, dtype: int64"
            ]
          },
          "metadata": {},
          "execution_count": 14
        }
      ]
    },
    {
      "cell_type": "code",
      "source": [
        "df[\"Outlet_Location_Type\"].value_counts()\n"
      ],
      "metadata": {
        "id": "6CS-eA9LL9OX",
        "outputId": "b5825f85-ff0e-47e2-9ef5-011e24051f17",
        "colab": {
          "base_uri": "https://localhost:8080/"
        }
      },
      "execution_count": 15,
      "outputs": [
        {
          "output_type": "execute_result",
          "data": {
            "text/plain": [
              "Tier 3    3350\n",
              "Tier 2    2785\n",
              "Tier 1    2388\n",
              "Name: Outlet_Location_Type, dtype: int64"
            ]
          },
          "metadata": {},
          "execution_count": 15
        }
      ]
    },
    {
      "cell_type": "code",
      "source": [
        "df[\"Outlet_Type\"].value_counts()"
      ],
      "metadata": {
        "id": "U5ENcIdgMDFF",
        "outputId": "b5e3794c-e0ba-4207-9624-e4c3b759b4bf",
        "colab": {
          "base_uri": "https://localhost:8080/"
        }
      },
      "execution_count": 16,
      "outputs": [
        {
          "output_type": "execute_result",
          "data": {
            "text/plain": [
              "Supermarket Type1    5577\n",
              "Grocery Store        1083\n",
              "Supermarket Type3     935\n",
              "Supermarket Type2     928\n",
              "Name: Outlet_Type, dtype: int64"
            ]
          },
          "metadata": {},
          "execution_count": 16
        }
      ]
    },
    {
      "cell_type": "code",
      "source": [
        "#Identificacion de informacion faltante\n",
        "df.isna().sum()"
      ],
      "metadata": {
        "id": "3QgsQ5pbMM6I",
        "outputId": "34f24054-ed30-4c19-9746-f94ed3c0575d",
        "colab": {
          "base_uri": "https://localhost:8080/"
        }
      },
      "execution_count": 17,
      "outputs": [
        {
          "output_type": "execute_result",
          "data": {
            "text/plain": [
              "Item_Weight             1463\n",
              "Item_Fat_Content           0\n",
              "Item_Visibility            0\n",
              "Item_Type                  0\n",
              "Item_MRP                   0\n",
              "Outlet_Size             2410\n",
              "Outlet_Location_Type       0\n",
              "Outlet_Type                0\n",
              "Item_Outlet_Sales          0\n",
              "dtype: int64"
            ]
          },
          "metadata": {},
          "execution_count": 17
        }
      ]
    },
    {
      "cell_type": "code",
      "source": [
        "df[\"Item_Weight\"].hist(width=1.2, edgecolor='black')\n",
        "plt.style.use('seaborn')\n",
        "plt.title(\"Distribución peso de productos\")\n",
        "plt.xlabel(\"Peso\")\n",
        "plt.ylabel(\"Frecuencia\")"
      ],
      "metadata": {
        "id": "MHh0G-ih6fdT",
        "outputId": "238d78c9-c138-439d-aa1d-ea14c2364f26",
        "colab": {
          "base_uri": "https://localhost:8080/",
          "height": 366
        }
      },
      "execution_count": 18,
      "outputs": [
        {
          "output_type": "stream",
          "name": "stderr",
          "text": [
            "<ipython-input-18-0da47deb57d9>:2: MatplotlibDeprecationWarning: The seaborn styles shipped by Matplotlib are deprecated since 3.6, as they no longer correspond to the styles shipped by seaborn. However, they will remain available as 'seaborn-v0_8-<style>'. Alternatively, directly use the seaborn API instead.\n",
            "  plt.style.use('seaborn')\n"
          ]
        },
        {
          "output_type": "execute_result",
          "data": {
            "text/plain": [
              "Text(0, 0.5, 'Frecuencia')"
            ]
          },
          "metadata": {},
          "execution_count": 18
        },
        {
          "output_type": "display_data",
          "data": {
            "text/plain": [
              "<Figure size 432x288 with 1 Axes>"
            ],
            "image/png": "[encoded data removed]"
          },
          "metadata": {
            "needs_background": "light"
          }
        }
      ]
    },
    {
      "cell_type": "code",
      "source": [
        "df[\"Item_Fat_Content\"].hist(edgecolor='black')\n",
        "plt.style.use('seaborn')\n",
        "plt.title(\"Distribución de contenido de grasa\")\n",
        "plt.xlabel(\"Grasa\")\n",
        "plt.ylabel(\"Frecuencia\")"
      ],
      "metadata": {
        "id": "qiQmzrJd7wP0",
        "outputId": "577794f9-9d31-4173-d35f-4a72528ffa15",
        "colab": {
          "base_uri": "https://localhost:8080/",
          "height": 448
        }
      },
      "execution_count": 19,
      "outputs": [
        {
          "output_type": "stream",
          "name": "stderr",
          "text": [
            "<ipython-input-19-ddcf6fa11e2c>:2: MatplotlibDeprecationWarning: The seaborn styles shipped by Matplotlib are deprecated since 3.6, as they no longer correspond to the styles shipped by seaborn. However, they will remain available as 'seaborn-v0_8-<style>'. Alternatively, directly use the seaborn API instead.\n",
            "  plt.style.use('seaborn')\n"
          ]
        },
        {
          "output_type": "execute_result",
          "data": {
            "text/plain": [
              "Text(0, 0.5, 'Frecuencia')"
            ]
          },
          "metadata": {},
          "execution_count": 19
        },
        {
          "output_type": "display_data",
          "data": {
            "text/plain": [
              "<Figure size 576x396 with 1 Axes>"
            ],
            "image/png": "[encoded data removed]"
          },
          "metadata": {}
        }
      ]
    },
    {
      "cell_type": "code",
      "source": [
        "df[\"Item_Type\"].hist(edgecolor='black')\n",
        "plt.style.use('seaborn')\n",
        "plt.title(\"Distribución de tipo de producto\")\n",
        "plt.xlabel(\"Producto\")\n",
        "plt.ylabel(\"Frecuencia\")\n",
        "plt.tick_params(axis='x', rotation=60)"
      ],
      "metadata": {
        "id": "ZkI5PO198i09",
        "outputId": "f9cd5dd2-66e2-44b4-d500-98d56e91c461",
        "colab": {
          "base_uri": "https://localhost:8080/",
          "height": 510
        }
      },
      "execution_count": 20,
      "outputs": [
        {
          "output_type": "stream",
          "name": "stderr",
          "text": [
            "<ipython-input-20-7d244a058d8b>:2: MatplotlibDeprecationWarning: The seaborn styles shipped by Matplotlib are deprecated since 3.6, as they no longer correspond to the styles shipped by seaborn. However, they will remain available as 'seaborn-v0_8-<style>'. Alternatively, directly use the seaborn API instead.\n",
            "  plt.style.use('seaborn')\n"
          ]
        },
        {
          "output_type": "display_data",
          "data": {
            "text/plain": [
              "<Figure size 576x396 with 1 Axes>"
            ],
            "image/png": "[encoded data removed]"
          },
          "metadata": {}
        }
      ]
    },
    {
      "cell_type": "code",
      "source": [
        "sns.heatmap(df.corr(), annot = True, cmap = \"Blues\")\n",
        "plt.savefig('Matriz de correlación.png', dpi=400)"
      ],
      "metadata": {
        "colab": {
          "base_uri": "https://localhost:8080/",
          "height": 358
        },
        "id": "5JMIo7owQGdw",
        "outputId": "6465a01c-e941-4ec8-f7d0-f478b3732e20"
      },
      "execution_count": 78,
      "outputs": [
        {
          "output_type": "display_data",
          "data": {
            "text/plain": [
              "<Figure size 576x396 with 2 Axes>"
            ],
            "image/png": "[encoded data removed]"
          },
          "metadata": {}
        }
      ]
    },
    {
      "cell_type": "code",
      "source": [
        "Producto=df[\"Item_Type\"].value_counts()\n",
        "sns.barplot(x=Producto.index, y=Producto.values)\n",
        "plt.title('Distribución de productos vendidos', fontsize=24)\n",
        "plt.xticks(rotation=60)\n",
        "plt.xlabel('Tipo de productos')\n",
        "plt.ylabel('Productos vendidos')\n",
        "sns.color_palette(\"Paired\")\n",
        "plt.savefig('Distribucion productos.png', dpi=400)\n",
        "plt.show()\n",
        "     "
      ],
      "metadata": {
        "colab": {
          "base_uri": "https://localhost:8080/",
          "height": 495
        },
        "id": "3FgSyOksIFQ_",
        "outputId": "d317b7e5-4767-4afa-8516-71250666ef26"
      },
      "execution_count": 79,
      "outputs": [
        {
          "output_type": "display_data",
          "data": {
            "text/plain": [
              "<Figure size 576x396 with 1 Axes>"
            ],
            "image/png": "[encoded data removed]"
          },
          "metadata": {}
        }
      ]
    },
    {
      "cell_type": "code",
      "source": [
        "v1= df.loc[:, [\"Item_Outlet_Sales\",\"Outlet_Type\"]]\n",
        "\n",
        "sns.set_theme(style=\"ticks\")\n",
        "sns.pairplot(v1, hue=\"Outlet_Type\")\n",
        "plt.figure(figsize = (15,20))\n",
        "plt.show()"
      ],
      "metadata": {
        "colab": {
          "base_uri": "https://localhost:8080/",
          "height": 212
        },
        "id": "WMy74lovO1zZ",
        "outputId": "bb0b6a89-7439-4875-8b20-a95bfa74f2c4"
      },
      "execution_count": 27,
      "outputs": [
        {
          "output_type": "display_data",
          "data": {
            "text/plain": [
              "<Figure size 259.675x180 with 2 Axes>"
            ],
            "image/png": "[encoded data removed]"
          },
          "metadata": {}
        },
        {
          "output_type": "display_data",
          "data": {
            "text/plain": [
              "<Figure size 1080x1440 with 0 Axes>"
            ]
          },
          "metadata": {}
        }
      ]
    },
    {
      "cell_type": "code",
      "source": [
        "sns.displot(df, x=\"Item_Outlet_Sales\", hue=\"Outlet_Type\")"
      ],
      "metadata": {
        "colab": {
          "base_uri": "https://localhost:8080/",
          "height": 382
        },
        "id": "EjshukNCF0DV",
        "outputId": "348d93c9-5ee5-41dd-e605-cf4e2a248991"
      },
      "execution_count": 39,
      "outputs": [
        {
          "output_type": "execute_result",
          "data": {
            "text/plain": [
              "<seaborn.axisgrid.FacetGrid at 0x7f4503b8ce20>"
            ]
          },
          "metadata": {},
          "execution_count": 39
        },
        {
          "output_type": "display_data",
          "data": {
            "text/plain": [
              "<Figure size 506.975x360 with 1 Axes>"
            ],
            "image/png": "[encoded data removed]"
          },
          "metadata": {}
        }
      ]
    },
    {
      "cell_type": "code",
      "source": [
        "sns.histplot(df, x=\"Item_Outlet_Sales\", hue=\"Outlet_Type\")\n",
        "plt.savefig('Conteo de ventas.png', dpi=400)"
      ],
      "metadata": {
        "colab": {
          "base_uri": "https://localhost:8080/",
          "height": 370
        },
        "id": "HVKxj6UoHmcV",
        "outputId": "65f871b5-0532-480e-efaf-defe79a51a3c"
      },
      "execution_count": 81,
      "outputs": [
        {
          "output_type": "display_data",
          "data": {
            "text/plain": [
              "<Figure size 576x396 with 1 Axes>"
            ],
            "image/png": "[encoded data removed]"
          },
          "metadata": {}
        }
      ]
    },
    {
      "cell_type": "code",
      "source": [
        "xx=df.groupby(df['Outlet_Type'])[\"Item_Outlet_Sales\"].sum()\n",
        "xx\n"
      ],
      "metadata": {
        "colab": {
          "base_uri": "https://localhost:8080/"
        },
        "id": "Mmr0cw7UIy8Z",
        "outputId": "1c5bb49e-7b43-46f1-af51-2936533793e7"
      },
      "execution_count": 82,
      "outputs": [
        {
          "output_type": "execute_result",
          "data": {
            "text/plain": [
              "Outlet_Type\n",
              "Grocery Store        3.680343e+05\n",
              "Supermarket Type1    1.291734e+07\n",
              "Supermarket Type2    1.851823e+06\n",
              "Supermarket Type3    3.453926e+06\n",
              "Name: Item_Outlet_Sales, dtype: float64"
            ]
          },
          "metadata": {},
          "execution_count": 82
        }
      ]
    },
    {
      "cell_type": "code",
      "source": [
        "import plotly.express as px\n",
        "color_map={'Supermarket Type1':'lightcyan','Supermarket Type2':'cyan','Supermarket Type3':'royalblue','Grocery Store':'darkblue'}\n",
        "fig = px.pie(df, values='Item_Outlet_Sales', names='Outlet_Type', title='Ventas por tipo de Mercado'\n",
        ",color_discrete_map=color_map)\n",
        "plt.savefig('Piechart ventas.png', dpi=400)\n",
        "fig.show()"
      ],
      "metadata": {
        "colab": {
          "base_uri": "https://localhost:8080/",
          "height": 559
        },
        "id": "KVwKwyxCKV9M",
        "outputId": "d494641b-5f90-41dd-833e-1708c2820c7b"
      },
      "execution_count": 121,
      "outputs": [
        {
          "output_type": "display_data",
          "data": {
            "text/html": [
              "<html>\n",
              "<head><meta charset=\"utf-8\" /></head>\n",
              "<body>\n",
              "    <div>            <script src=\"https://cdnjs.cloudflare.com/ajax/libs/mathjax/2.7.5/MathJax.js?config=TeX-AMS-MML_SVG\"></script><script type=\"text/javascript\">if (window.MathJax && window.MathJax.Hub && window.MathJax.Hub.Config) {window.MathJax.Hub.Config({SVG: {font: \"STIX-Web\"}});}</script>                <script type=\"text/javascript\">window.PlotlyConfig = {MathJaxConfig: 'local'};</script>\n",
              "        <script src=\"https://cdn.plot.ly/plotly-2.18.2.min.js\"></script>                <div id=\"1ff62de2-5613-454e-912c-779320fe8df3\" class=\"plotly-graph-div\" style=\"height:525px; width:100%;\"></div>            <script type=\"text/javascript\">                                    window.PLOTLYENV=window.PLOTLYENV || {};                                    if (document.getElementById(\"1ff62de2-5613-454e-912c-779320fe8df3\")) {                    Plotly.newPlot(                        \"1ff62de2-5613-454e-912c-779320fe8df3\",                        [{\"domain\":{\"x\":[0.0,1.0],\"y\":[0.0,1.0]},\"hovertemplate\":\"Outlet_Type=%{label}<br>Item_Outlet_Sales=%{value}<extra></extra>\",\"labels\":[1.0,2.0,1.0,0.0,1.0,2.0,1.0,3.0,1.0,1.0,1.0,1.0,1.0,1.0,1.0,1.0,2.0,1.0,3.0,1.0,1.0,3.0,1.0,0.0,1.0,1.0,1.0,1.0,0.0,0.0,0.0,2.0,2.0,1.0,1.0,1.0,3.0,2.0,3.0,3.0,1.0,1.0,1.0,2.0,1.0,0.0,1.0,1.0,1.0,0.0,1.0,1.0,1.0,1.0,1.0,2.0,1.0,1.0,1.0,0.0,2.0,1.0,3.0,0.0,3.0,0.0,1.0,1.0,1.0,1.0,1.0,1.0,1.0,1.0,1.0,1.0,1.0,0.0,1.0,1.0,1.0,1.0,2.0,0.0,3.0,1.0,1.0,3.0,1.0,1.0,0.0,1.0,1.0,1.0,1.0,0.0,1.0,1.0,3.0,1.0,1.0,3.0,1.0,1.0,2.0,1.0,1.0,1.0,0.0,1.0,1.0,1.0,0.0,3.0,1.0,1.0,1.0,1.0,1.0,2.0,1.0,1.0,0.0,1.0,1.0,1.0,1.0,1.0,1.0,1.0,3.0,1.0,3.0,0.0,2.0,1.0,3.0,1.0,1.0,0.0,1.0,1.0,1.0,1.0,1.0,1.0,1.0,1.0,1.0,1.0,1.0,2.0,2.0,3.0,1.0,2.0,2.0,1.0,1.0,1.0,1.0,3.0,2.0,1.0,1.0,1.0,1.0,2.0,3.0,2.0,1.0,1.0,1.0,1.0,0.0,0.0,1.0,0.0,0.0,1.0,3.0,1.0,0.0,1.0,3.0,2.0,0.0,1.0,1.0,1.0,1.0,1.0,1.0,2.0,3.0,1.0,1.0,1.0,3.0,3.0,1.0,1.0,1.0,3.0,1.0,0.0,1.0,1.0,0.0,0.0,1.0,1.0,1.0,1.0,0.0,0.0,0.0,0.0,1.0,1.0,1.0,1.0,1.0,1.0,1.0,0.0,1.0,0.0,1.0,3.0,3.0,3.0,1.0,1.0,1.0,3.0,0.0,1.0,3.0,3.0,1.0,1.0,1.0,1.0,1.0,1.0,1.0,1.0,1.0,1.0,0.0,2.0,1.0,1.0,1.0,0.0,1.0,1.0,1.0,1.0,1.0,1.0,1.0,1.0,1.0,1.0,1.0,1.0,1.0,1.0,1.0,1.0,1.0,1.0,1.0,3.0,1.0,1.0,0.0,3.0,2.0,1.0,3.0,1.0,0.0,1.0,0.0,2.0,1.0,1.0,1.0,3.0,1.0,2.0,3.0,1.0,1.0,1.0,1.0,1.0,3.0,0.0,1.0,2.0,1.0,1.0,1.0,2.0,1.0,1.0,1.0,1.0,1.0,3.0,1.0,1.0,1.0,0.0,1.0,3.0,3.0,1.0,1.0,1.0,1.0,0.0,1.0,1.0,3.0,1.0,1.0,3.0,1.0,3.0,0.0,3.0,1.0,1.0,1.0,1.0,3.0,1.0,1.0,1.0,0.0,1.0,1.0,1.0,1.0,2.0,2.0,1.0,1.0,1.0,1.0,1.0,1.0,3.0,1.0,3.0,2.0,1.0,1.0,1.0,0.0,1.0,1.0,1.0,2.0,1.0,3.0,0.0,1.0,1.0,1.0,2.0,1.0,1.0,1.0,1.0,3.0,3.0,2.0,1.0,1.0,1.0,1.0,0.0,3.0,1.0,1.0,1.0,1.0,0.0,1.0,1.0,1.0,1.0,2.0,1.0,3.0,1.0,1.0,1.0,3.0,0.0,1.0,1.0,1.0,3.0,1.0,0.0,2.0,1.0,1.0,1.0,1.0,0.0,1.0,1.0,0.0,1.0,1.0,2.0,1.0,1.0,2.0,2.0,1.0,1.0,0.0,1.0,1.0,0.0,0.0,1.0,1.0,1.0,1.0,1.0,1.0,1.0,1.0,1.0,2.0,1.0,0.0,1.0,1.0,3.0,1.0,1.0,2.0,1.0,1.0,1.0,3.0,1.0,3.0,1.0,1.0,1.0,1.0,1.0,2.0,1.0,1.0,1.0,1.0,2.0,1.0,1.0,3.0,1.0,1.0,1.0,1.0,0.0,1.0,1.0,1.0,1.0,1.0,0.0,1.0,3.0,1.0,0.0,1.0,0.0,0.0,3.0,1.0,0.0,1.0,1.0,1.0,3.0,1.0,1.0,1.0,1.0,0.0,1.0,3.0,2.0,2.0,1.0,1.0,0.0,0.0,1.0,2.0,1.0,1.0,1.0,1.0,2.0,3.0,3.0,1.0,0.0,0.0,1.0,1.0,1.0,2.0,0.0,1.0,1.0,1.0,0.0,0.0,1.0,1.0,1.0,1.0,3.0,1.0,1.0,0.0,1.0,3.0,1.0,1.0,0.0,1.0,0.0,1.0,1.0,1.0,1.0,0.0,1.0,1.0,1.0,3.0,3.0,1.0,1.0,2.0,0.0,1.0,0.0,1.0,1.0,1.0,1.0,1.0,1.0,1.0,2.0,1.0,2.0,0.0,2.0,1.0,1.0,1.0,1.0,1.0,1.0,2.0,1.0,1.0,1.0,1.0,1.0,3.0,1.0,1.0,1.0,1.0,1.0,1.0,1.0,2.0,1.0,3.0,1.0,1.0,1.0,2.0,1.0,1.0,1.0,1.0,1.0,1.0,1.0,3.0,1.0,1.0,1.0,1.0,1.0,1.0,1.0,1.0,1.0,1.0,1.0,2.0,2.0,1.0,1.0,2.0,1.0,3.0,1.0,3.0,1.0,2.0,0.0,1.0,3.0,0.0,1.0,1.0,1.0,3.0,2.0,1.0,2.0,2.0,1.0,1.0,1.0,1.0,1.0,1.0,0.0,1.0,2.0,1.0,1.0,2.0,2.0,1.0,1.0,1.0,3.0,1.0,1.0,2.0,1.0,1.0,1.0,1.0,3.0,2.0,2.0,1.0,1.0,2.0,1.0,2.0,1.0,2.0,1.0,0.0,1.0,1.0,1.0,1.0,3.0,1.0,0.0,1.0,1.0,1.0,1.0,3.0,1.0,3.0,3.0,1.0,1.0,0.0,1.0,3.0,1.0,1.0,1.0,1.0,1.0,0.0,1.0,1.0,1.0,1.0,1.0,0.0,1.0,1.0,0.0,2.0,2.0,1.0,1.0,2.0,3.0,1.0,3.0,1.0,3.0,3.0,1.0,1.0,1.0,1.0,1.0,1.0,1.0,1.0,1.0,1.0,1.0,1.0,3.0,1.0,1.0,0.0,1.0,1.0,1.0,0.0,1.0,1.0,1.0,1.0,1.0,3.0,1.0,1.0,1.0,1.0,1.0,3.0,0.0,1.0,1.0,2.0,1.0,1.0,1.0,1.0,1.0,1.0,1.0,3.0,3.0,1.0,1.0,3.0,3.0,1.0,1.0,1.0,1.0,2.0,1.0,1.0,3.0,1.0,1.0,1.0,0.0,1.0,1.0,1.0,1.0,1.0,3.0,1.0,3.0,1.0,2.0,1.0,1.0,1.0,1.0,1.0,3.0,1.0,3.0,2.0,1.0,1.0,3.0,1.0,3.0,1.0,1.0,1.0,1.0,1.0,3.0,1.0,1.0,1.0,1.0,1.0,2.0,3.0,1.0,2.0,0.0,0.0,1.0,3.0,1.0,3.0,0.0,1.0,1.0,0.0,3.0,1.0,1.0,1.0,0.0,1.0,2.0,3.0,2.0,1.0,0.0,1.0,0.0,1.0,0.0,1.0,3.0,0.0,1.0,1.0,3.0,0.0,1.0,1.0,0.0,1.0,1.0,1.0,1.0,1.0,3.0,1.0,1.0,1.0,1.0,1.0,1.0,2.0,1.0,3.0,1.0,1.0,1.0,1.0,2.0,0.0,0.0,3.0,1.0,1.0,2.0,1.0,1.0,1.0,2.0,3.0,1.0,1.0,1.0,1.0,3.0,1.0,1.0,0.0,2.0,2.0,1.0,1.0,1.0,0.0,1.0,0.0,2.0,1.0,0.0,1.0,0.0,1.0,1.0,0.0,1.0,0.0,1.0,0.0,2.0,1.0,1.0,0.0,1.0,1.0,3.0,0.0,1.0,1.0,1.0,1.0,0.0,2.0,3.0,1.0,1.0,0.0,1.0,1.0,1.0,1.0,2.0,1.0,0.0,3.0,3.0,3.0,1.0,2.0,1.0,3.0,0.0,1.0,1.0,1.0,1.0,1.0,1.0,3.0,1.0,1.0,1.0,1.0,3.0,0.0,1.0,1.0,1.0,1.0,1.0,1.0,0.0,1.0,1.0,0.0,1.0,0.0,2.0,1.0,3.0,0.0,2.0,2.0,1.0,1.0,1.0,1.0,3.0,1.0,3.0,1.0,1.0,1.0,0.0,1.0,1.0,1.0,3.0,3.0,1.0,2.0,1.0,1.0,1.0,1.0,1.0,1.0,3.0,1.0,2.0,1.0,1.0,3.0,1.0,3.0,1.0,2.0,1.0,0.0,1.0,0.0,1.0,1.0,0.0,1.0,2.0,0.0,2.0,0.0,1.0,1.0,3.0,0.0,1.0,1.0,1.0,1.0,3.0,3.0,3.0,2.0,3.0,1.0,1.0,0.0,1.0,1.0,1.0,1.0,3.0,1.0,2.0,1.0,1.0,1.0,1.0,2.0,1.0,1.0,1.0,1.0,2.0,0.0,0.0,1.0,1.0,1.0,1.0,1.0,1.0,1.0,1.0,1.0,1.0,1.0,1.0,0.0,1.0,3.0,1.0,1.0,1.0,3.0,3.0,1.0,1.0,0.0,2.0,1.0,1.0,3.0,1.0,1.0,1.0,1.0,3.0,1.0,1.0,3.0,3.0,1.0,2.0,1.0,0.0,1.0,1.0,1.0,1.0,1.0,1.0,3.0,3.0,1.0,1.0,1.0,1.0,1.0,0.0,0.0,1.0,1.0,1.0,1.0,1.0,1.0,3.0,2.0,0.0,0.0,0.0,1.0,1.0,0.0,2.0,3.0,1.0,3.0,3.0,1.0,1.0,3.0,1.0,0.0,1.0,1.0,1.0,1.0,3.0,1.0,1.0,1.0,2.0,3.0,2.0,1.0,1.0,1.0,0.0,2.0,2.0,1.0,2.0,1.0,1.0,1.0,1.0,1.0,1.0,2.0,3.0,1.0,3.0,1.0,1.0,0.0,0.0,1.0,1.0,1.0,1.0,1.0,1.0,1.0,0.0,1.0,1.0,2.0,1.0,2.0,1.0,0.0,1.0,3.0,1.0,1.0,1.0,1.0,1.0,1.0,1.0,1.0,1.0,0.0,1.0,1.0,1.0,1.0,1.0,1.0,1.0,1.0,1.0,1.0,1.0,1.0,1.0,1.0,2.0,1.0,1.0,3.0,1.0,0.0,0.0,1.0,1.0,2.0,1.0,1.0,1.0,1.0,0.0,1.0,1.0,1.0,1.0,1.0,1.0,3.0,1.0,1.0,1.0,1.0,1.0,1.0,1.0,1.0,1.0,1.0,2.0,0.0,1.0,1.0,2.0,3.0,1.0,1.0,0.0,1.0,1.0,1.0,1.0,3.0,3.0,1.0,2.0,0.0,1.0,1.0,2.0,0.0,1.0,1.0,1.0,1.0,1.0,1.0,1.0,0.0,1.0,1.0,1.0,1.0,3.0,1.0,1.0,1.0,1.0,3.0,0.0,1.0,1.0,1.0,1.0,1.0,1.0,1.0,1.0,1.0,1.0,1.0,0.0,2.0,1.0,1.0,1.0,1.0,1.0,1.0,0.0,3.0,3.0,1.0,2.0,1.0,1.0,1.0,0.0,1.0,1.0,1.0,1.0,0.0,1.0,1.0,1.0,1.0,3.0,1.0,1.0,2.0,1.0,1.0,2.0,2.0,0.0,3.0,1.0,1.0,1.0,1.0,1.0,1.0,1.0,2.0,1.0,1.0,1.0,0.0,0.0,1.0,1.0,1.0,1.0,1.0,1.0,1.0,1.0,1.0,1.0,2.0,3.0,1.0,1.0,0.0,1.0,1.0,1.0,1.0,2.0,1.0,1.0,3.0,1.0,1.0,1.0,1.0,3.0,0.0,1.0,1.0,1.0,2.0,2.0,3.0,1.0,1.0,0.0,1.0,2.0,2.0,3.0,1.0,1.0,1.0,3.0,1.0,1.0,1.0,1.0,1.0,1.0,1.0,1.0,1.0,1.0,1.0,3.0,1.0,1.0,1.0,1.0,3.0,1.0,3.0,1.0,1.0,1.0,1.0,1.0,1.0,0.0,1.0,1.0,1.0,1.0,1.0,0.0,1.0,1.0,1.0,1.0,0.0,1.0,3.0,1.0,1.0,1.0,1.0,0.0,1.0,1.0,0.0,0.0,2.0,1.0,2.0,0.0,3.0,1.0,1.0,1.0,0.0,3.0,1.0,1.0,1.0,1.0,1.0,1.0,0.0,1.0,1.0,1.0,1.0,3.0,0.0,1.0,1.0,1.0,3.0,1.0,2.0,1.0,0.0,1.0,3.0,2.0,1.0,0.0,1.0,1.0,1.0,3.0,1.0,1.0,1.0,0.0,0.0,1.0,1.0,2.0,1.0,1.0,0.0,1.0,2.0,1.0,1.0,0.0,2.0,1.0,3.0,1.0,1.0,2.0,2.0,1.0,2.0,1.0,1.0,1.0,3.0,1.0,0.0,1.0,1.0,1.0,1.0,1.0,1.0,3.0,3.0,1.0,1.0,1.0,2.0,1.0,1.0,3.0,1.0,1.0,1.0,1.0,1.0,1.0,1.0,2.0,0.0,2.0,2.0,2.0,1.0,0.0,1.0,2.0,0.0,1.0,1.0,1.0,2.0,0.0,1.0,0.0,3.0,1.0,2.0,1.0,0.0,1.0,1.0,1.0,1.0,3.0,1.0,1.0,1.0,3.0,1.0,1.0,3.0,1.0,2.0,0.0,1.0,1.0,2.0,3.0,2.0,1.0,1.0,1.0,1.0,1.0,1.0,1.0,0.0,1.0,0.0,3.0,1.0,1.0,3.0,1.0,2.0,1.0,1.0,3.0,1.0,1.0,2.0,1.0,1.0,0.0,1.0,1.0,1.0,1.0,1.0,3.0,2.0,1.0,1.0,1.0,2.0,0.0,1.0,3.0,1.0,1.0,1.0,1.0,1.0,2.0,1.0,3.0,2.0,1.0,1.0,1.0,1.0,1.0,1.0,1.0,1.0,1.0,1.0,1.0,2.0,1.0,0.0,1.0,0.0,2.0,1.0,2.0,2.0,1.0,1.0,0.0,1.0,1.0,1.0,1.0,1.0,2.0,1.0,1.0,1.0,1.0,1.0,1.0,1.0,1.0,2.0,1.0,2.0,1.0,0.0,0.0,3.0,1.0,2.0,3.0,1.0,1.0,2.0,1.0,0.0,1.0,1.0,1.0,1.0,1.0,1.0,2.0,3.0,3.0,1.0,2.0,1.0,1.0,1.0,1.0,0.0,1.0,1.0,0.0,3.0,0.0,1.0,2.0,1.0,1.0,3.0,1.0,0.0,1.0,3.0,0.0,1.0,3.0,1.0,0.0,1.0,2.0,1.0,1.0,2.0,1.0,2.0,1.0,1.0,1.0,1.0,1.0,1.0,1.0,1.0,1.0,1.0,1.0,1.0,1.0,1.0,1.0,1.0,1.0,0.0,1.0,1.0,1.0,1.0,1.0,1.0,1.0,1.0,1.0,1.0,1.0,0.0,1.0,0.0,2.0,1.0,1.0,0.0,1.0,1.0,1.0,1.0,2.0,2.0,3.0,1.0,1.0,1.0,2.0,1.0,1.0,1.0,2.0,3.0,2.0,0.0,1.0,1.0,3.0,2.0,2.0,1.0,1.0,1.0,2.0,1.0,1.0,0.0,0.0,1.0,0.0,1.0,1.0,1.0,1.0,1.0,1.0,1.0,1.0,0.0,1.0,1.0,1.0,3.0,0.0,1.0,0.0,1.0,1.0,1.0,1.0,1.0,1.0,0.0,1.0,1.0,1.0,1.0,1.0,1.0,1.0,1.0,1.0,0.0,1.0,1.0,0.0,1.0,0.0,1.0,1.0,2.0,1.0,1.0,1.0,1.0,2.0,1.0,0.0,1.0,0.0,1.0,1.0,1.0,0.0,1.0,0.0,1.0,1.0,1.0,1.0,2.0,1.0,0.0,0.0,2.0,1.0,1.0,3.0,2.0,1.0,1.0,1.0,2.0,3.0,1.0,0.0,1.0,1.0,1.0,1.0,1.0,0.0,1.0,0.0,1.0,1.0,1.0,1.0,0.0,1.0,1.0,1.0,1.0,1.0,1.0,0.0,1.0,3.0,1.0,1.0,1.0,2.0,1.0,1.0,3.0,1.0,1.0,1.0,1.0,1.0,3.0,1.0,1.0,2.0,3.0,1.0,1.0,1.0,1.0,1.0,1.0,0.0,0.0,1.0,2.0,1.0,1.0,2.0,1.0,0.0,3.0,1.0,3.0,1.0,1.0,1.0,1.0,3.0,1.0,2.0,0.0,1.0,1.0,1.0,1.0,0.0,1.0,1.0,1.0,0.0,1.0,1.0,1.0,2.0,1.0,1.0,2.0,3.0,1.0,0.0,1.0,1.0,1.0,2.0,1.0,1.0,1.0,1.0,1.0,3.0,0.0,1.0,1.0,2.0,0.0,1.0,3.0,1.0,3.0,1.0,1.0,1.0,1.0,1.0,0.0,3.0,1.0,2.0,1.0,1.0,1.0,1.0,1.0,2.0,1.0,3.0,0.0,3.0,0.0,1.0,1.0,1.0,1.0,1.0,3.0,1.0,3.0,1.0,1.0,1.0,1.0,1.0,1.0,1.0,1.0,2.0,1.0,3.0,0.0,1.0,1.0,2.0,0.0,0.0,1.0,0.0,1.0,3.0,1.0,0.0,1.0,1.0,1.0,1.0,1.0,1.0,1.0,1.0,1.0,1.0,1.0,1.0,1.0,0.0,1.0,1.0,1.0,0.0,1.0,1.0,2.0,1.0,1.0,1.0,1.0,1.0,1.0,2.0,3.0,1.0,1.0,3.0,1.0,0.0,2.0,1.0,1.0,1.0,1.0,1.0,0.0,1.0,2.0,0.0,1.0,1.0,1.0,1.0,1.0,1.0,1.0,3.0,1.0,1.0,1.0,1.0,1.0,0.0,1.0,0.0,1.0,3.0,3.0,1.0,1.0,1.0,0.0,1.0,1.0,1.0,0.0,1.0,2.0,1.0,2.0,1.0,1.0,3.0,1.0,1.0,0.0,1.0,1.0,1.0,1.0,1.0,2.0,3.0,1.0,1.0,1.0,1.0,1.0,1.0,1.0,1.0,1.0,0.0,2.0,1.0,0.0,2.0,0.0,1.0,1.0,1.0,1.0,1.0,1.0,0.0,3.0,1.0,1.0,2.0,1.0,1.0,1.0,0.0,1.0,3.0,1.0,1.0,1.0,1.0,2.0,1.0,1.0,2.0,1.0,2.0,1.0,0.0,1.0,1.0,1.0,1.0,2.0,0.0,1.0,3.0,2.0,1.0,3.0,2.0,1.0,1.0,1.0,1.0,0.0,1.0,0.0,1.0,1.0,1.0,1.0,0.0,1.0,1.0,1.0,1.0,1.0,2.0,1.0,1.0,3.0,1.0,2.0,1.0,2.0,1.0,1.0,1.0,1.0,0.0,2.0,1.0,1.0,1.0,3.0,1.0,1.0,2.0,0.0,2.0,1.0,1.0,0.0,0.0,1.0,1.0,1.0,1.0,1.0,1.0,1.0,1.0,1.0,1.0,1.0,1.0,1.0,0.0,1.0,1.0,1.0,2.0,1.0,3.0,1.0,1.0,1.0,1.0,1.0,1.0,1.0,2.0,3.0,0.0,1.0,1.0,3.0,1.0,1.0,1.0,1.0,1.0,1.0,1.0,1.0,0.0,0.0,1.0,1.0,0.0,1.0,1.0,1.0,1.0,1.0,1.0,1.0,1.0,3.0,3.0,1.0,1.0,1.0,2.0,1.0,0.0,1.0,1.0,1.0,1.0,0.0,0.0,1.0,1.0,1.0,1.0,2.0,1.0,1.0,1.0,1.0,0.0,1.0,1.0,2.0,1.0,2.0,1.0,0.0,2.0,1.0,2.0,1.0,1.0,1.0,2.0,1.0,1.0,1.0,3.0,1.0,1.0,1.0,1.0,1.0,1.0,0.0,0.0,1.0,3.0,1.0,1.0,0.0,1.0,3.0,1.0,3.0,1.0,0.0,0.0,3.0,0.0,1.0,1.0,1.0,1.0,2.0,1.0,3.0,1.0,0.0,0.0,1.0,1.0,0.0,1.0,1.0,1.0,1.0,0.0,1.0,1.0,1.0,1.0,0.0,1.0,1.0,1.0,1.0,1.0,1.0,3.0,1.0,1.0,1.0,2.0,1.0,1.0,1.0,1.0,1.0,1.0,1.0,1.0,1.0,1.0,1.0,1.0,2.0,1.0,1.0,1.0,3.0,1.0,1.0,1.0,1.0,1.0,0.0,1.0,2.0,1.0,2.0,1.0,1.0,1.0,1.0,1.0,0.0,3.0,1.0,1.0,1.0,1.0,1.0,0.0,3.0,0.0,1.0,1.0,1.0,0.0,0.0,1.0,1.0,1.0,1.0,1.0,1.0,1.0,1.0,1.0,1.0,1.0,1.0,1.0,1.0,1.0,3.0,3.0,1.0,1.0,1.0,1.0,0.0,3.0,3.0,3.0,1.0,0.0,1.0,3.0,1.0,0.0,1.0,2.0,2.0,1.0,1.0,0.0,3.0,2.0,1.0,0.0,2.0,1.0,1.0,1.0,1.0,1.0,2.0,1.0,1.0,1.0,1.0,1.0,1.0,1.0,1.0,1.0,1.0,1.0,1.0,1.0,0.0,1.0,0.0,1.0,1.0,0.0,3.0,1.0,1.0,0.0,0.0,1.0,1.0,2.0,3.0,1.0,0.0,0.0,1.0,1.0,1.0,0.0,3.0,1.0,1.0,1.0,1.0,1.0,1.0,1.0,3.0,1.0,1.0,1.0,1.0,1.0,1.0,1.0,3.0,2.0,1.0,1.0,2.0,1.0,1.0,1.0,1.0,1.0,3.0,1.0,1.0,1.0,3.0,1.0,1.0,1.0,1.0,0.0,1.0,3.0,1.0,1.0,1.0,3.0,1.0,1.0,1.0,1.0,1.0,1.0,1.0,1.0,1.0,1.0,1.0,1.0,2.0,1.0,1.0,1.0,3.0,1.0,1.0,1.0,1.0,1.0,2.0,3.0,1.0,1.0,1.0,1.0,1.0,3.0,1.0,1.0,1.0,3.0,1.0,1.0,1.0,0.0,1.0,0.0,1.0,1.0,0.0,2.0,1.0,1.0,1.0,3.0,0.0,1.0,1.0,3.0,0.0,2.0,2.0,3.0,2.0,1.0,2.0,1.0,1.0,0.0,1.0,1.0,3.0,1.0,0.0,1.0,1.0,1.0,1.0,1.0,1.0,1.0,1.0,1.0,2.0,1.0,1.0,0.0,2.0,3.0,1.0,2.0,1.0,1.0,0.0,1.0,1.0,1.0,1.0,1.0,2.0,1.0,1.0,1.0,1.0,1.0,1.0,1.0,1.0,3.0,1.0,1.0,1.0,1.0,1.0,3.0,3.0,2.0,1.0,1.0,1.0,1.0,3.0,1.0,1.0,1.0,1.0,1.0,1.0,1.0,1.0,1.0,1.0,3.0,3.0,1.0,1.0,0.0,1.0,3.0,1.0,1.0,1.0,3.0,1.0,1.0,1.0,1.0,1.0,3.0,1.0,1.0,0.0,1.0,1.0,1.0,1.0,1.0,1.0,1.0,2.0,3.0,1.0,1.0,1.0,1.0,0.0,3.0,1.0,1.0,1.0,0.0,1.0,1.0,1.0,1.0,0.0,1.0,1.0,1.0,1.0,1.0,1.0,2.0,1.0,1.0,1.0,1.0,1.0,0.0,1.0,1.0,0.0,1.0,1.0,2.0,1.0,3.0,1.0,1.0,2.0,1.0,0.0,2.0,1.0,1.0,1.0,1.0,1.0,1.0,1.0,1.0,1.0,1.0,1.0,1.0,3.0,1.0,1.0,2.0,1.0,1.0,1.0,1.0,3.0,1.0,1.0,0.0,1.0,1.0,1.0,2.0,3.0,1.0,1.0,1.0,1.0,2.0,3.0,0.0,0.0,0.0,1.0,1.0,0.0,2.0,1.0,1.0,1.0,1.0,1.0,1.0,1.0,1.0,1.0,2.0,0.0,1.0,1.0,1.0,2.0,1.0,1.0,1.0,1.0,1.0,1.0,1.0,0.0,0.0,0.0,1.0,2.0,1.0,0.0,1.0,1.0,2.0,1.0,1.0,1.0,1.0,3.0,0.0,1.0,1.0,1.0,0.0,1.0,1.0,1.0,1.0,0.0,1.0,1.0,3.0,1.0,1.0,1.0,2.0,1.0,3.0,1.0,1.0,1.0,1.0,0.0,1.0,2.0,1.0,1.0,1.0,3.0,1.0,0.0,2.0,3.0,1.0,1.0,1.0,2.0,1.0,1.0,3.0,1.0,1.0,1.0,1.0,1.0,0.0,1.0,1.0,1.0,1.0,1.0,1.0,1.0,3.0,3.0,1.0,0.0,0.0,2.0,1.0,1.0,1.0,1.0,1.0,1.0,0.0,1.0,1.0,1.0,0.0,1.0,2.0,1.0,1.0,3.0,1.0,1.0,2.0,1.0,3.0,2.0,1.0,1.0,1.0,1.0,0.0,3.0,1.0,1.0,1.0,1.0,3.0,1.0,1.0,1.0,2.0,1.0,1.0,1.0,1.0,1.0,1.0,0.0,2.0,1.0,1.0,1.0,2.0,2.0,2.0,3.0,1.0,3.0,1.0,1.0,2.0,1.0,3.0,3.0,1.0,1.0,0.0,1.0,3.0,1.0,2.0,1.0,1.0,1.0,1.0,0.0,1.0,1.0,0.0,0.0,0.0,1.0,1.0,3.0,3.0,0.0,2.0,1.0,1.0,1.0,1.0,1.0,1.0,1.0,3.0,1.0,3.0,0.0,0.0,1.0,2.0,0.0,3.0,3.0,1.0,1.0,1.0,1.0,1.0,2.0,1.0,1.0,0.0,1.0,1.0,1.0,1.0,3.0,2.0,1.0,1.0,2.0,1.0,1.0,1.0,1.0,1.0,1.0,1.0,1.0,3.0,1.0,1.0,1.0,1.0,1.0,0.0,1.0,1.0,2.0,3.0,3.0,3.0,2.0,3.0,1.0,1.0,0.0,1.0,1.0,1.0,2.0,0.0,0.0,1.0,1.0,1.0,1.0,0.0,1.0,0.0,1.0,1.0,0.0,0.0,1.0,1.0,1.0,1.0,1.0,2.0,2.0,1.0,1.0,0.0,1.0,0.0,1.0,1.0,0.0,1.0,0.0,0.0,3.0,1.0,1.0,1.0,1.0,0.0,0.0,0.0,2.0,1.0,3.0,1.0,1.0,1.0,3.0,1.0,1.0,1.0,2.0,1.0,1.0,1.0,1.0,1.0,1.0,1.0,1.0,1.0,0.0,1.0,1.0,1.0,2.0,1.0,1.0,1.0,2.0,1.0,0.0,1.0,2.0,2.0,1.0,1.0,1.0,1.0,3.0,0.0,1.0,1.0,3.0,1.0,0.0,1.0,1.0,1.0,0.0,0.0,2.0,3.0,0.0,1.0,3.0,1.0,1.0,0.0,0.0,2.0,1.0,1.0,1.0,1.0,1.0,1.0,1.0,1.0,1.0,1.0,3.0,1.0,3.0,1.0,1.0,1.0,1.0,1.0,1.0,1.0,1.0,1.0,2.0,1.0,2.0,1.0,2.0,1.0,1.0,1.0,0.0,1.0,1.0,1.0,1.0,1.0,3.0,2.0,3.0,1.0,1.0,0.0,1.0,1.0,3.0,1.0,1.0,0.0,0.0,1.0,1.0,1.0,1.0,2.0,2.0,0.0,1.0,1.0,1.0,1.0,1.0,1.0,1.0,2.0,0.0,1.0,1.0,1.0,1.0,2.0,1.0,1.0,1.0,1.0,1.0,2.0,0.0,1.0,2.0,1.0,1.0,3.0,1.0,3.0,1.0,1.0,2.0,1.0,0.0,0.0,0.0,1.0,1.0,1.0,1.0,1.0,2.0,3.0,1.0,1.0,0.0,3.0,1.0,2.0,1.0,2.0,1.0,2.0,0.0,2.0,1.0,0.0,1.0,1.0,1.0,3.0,1.0,1.0,3.0,2.0,1.0,3.0,1.0,1.0,1.0,1.0,1.0,1.0,1.0,1.0,1.0,0.0,1.0,3.0,1.0,1.0,0.0,1.0,1.0,1.0,3.0,2.0,0.0,1.0,1.0,1.0,2.0,1.0,1.0,1.0,1.0,1.0,1.0,0.0,1.0,0.0,1.0,0.0,2.0,1.0,0.0,3.0,1.0,1.0,1.0,1.0,1.0,0.0,1.0,1.0,3.0,1.0,3.0,1.0,1.0,1.0,1.0,0.0,1.0,2.0,1.0,2.0,1.0,1.0,2.0,0.0,1.0,1.0,1.0,1.0,3.0,1.0,1.0,1.0,1.0,1.0,1.0,1.0,1.0,3.0,1.0,1.0,1.0,1.0,3.0,3.0,1.0,3.0,1.0,1.0,1.0,1.0,1.0,2.0,1.0,1.0,2.0,3.0,1.0,1.0,0.0,2.0,1.0,1.0,1.0,0.0,1.0,2.0,1.0,2.0,1.0,0.0,0.0,1.0,1.0,2.0,1.0,2.0,0.0,1.0,2.0,1.0,1.0,2.0,1.0,3.0,2.0,3.0,1.0,1.0,3.0,1.0,2.0,1.0,1.0,2.0,3.0,1.0,1.0,0.0,1.0,1.0,1.0,1.0,1.0,1.0,1.0,1.0,1.0,1.0,1.0,2.0,1.0,0.0,0.0,2.0,1.0,1.0,1.0,3.0,1.0,1.0,0.0,0.0,1.0,1.0,2.0,1.0,3.0,1.0,1.0,3.0,0.0,2.0,1.0,1.0,2.0,1.0,3.0,1.0,1.0,0.0,1.0,0.0,3.0,1.0,2.0,3.0,1.0,1.0,1.0,1.0,1.0,1.0,1.0,1.0,0.0,1.0,1.0,1.0,3.0,2.0,2.0,1.0,0.0,1.0,1.0,1.0,1.0,1.0,1.0,1.0,1.0,1.0,1.0,1.0,1.0,1.0,1.0,1.0,1.0,1.0,0.0,1.0,1.0,1.0,1.0,1.0,1.0,1.0,2.0,1.0,1.0,2.0,1.0,1.0,1.0,1.0,0.0,1.0,1.0,1.0,1.0,1.0,2.0,1.0,3.0,0.0,0.0,1.0,1.0,1.0,0.0,1.0,1.0,3.0,1.0,2.0,1.0,1.0,2.0,0.0,1.0,1.0,1.0,1.0,1.0,3.0,1.0,1.0,2.0,0.0,1.0,2.0,0.0,0.0,1.0,1.0,2.0,3.0,3.0,1.0,3.0,1.0,1.0,1.0,1.0,2.0,1.0,1.0,1.0,1.0,1.0,3.0,2.0,1.0,1.0,1.0,1.0,2.0,1.0,0.0,1.0,1.0,0.0,1.0,1.0,3.0,1.0,0.0,1.0,2.0,1.0,2.0,3.0,1.0,3.0,1.0,1.0,2.0,0.0,1.0,1.0,2.0,1.0,1.0,1.0,1.0,1.0,2.0,1.0,1.0,1.0,1.0,1.0,1.0,1.0,1.0,1.0,1.0,3.0,2.0,1.0,1.0,1.0,1.0,2.0,2.0,1.0,3.0,1.0,1.0,2.0,2.0,1.0,1.0,1.0,1.0,1.0,1.0,1.0,1.0,0.0,1.0,2.0,1.0,2.0,0.0,1.0,1.0,1.0,1.0,1.0,1.0,1.0,1.0,1.0,3.0,1.0,1.0,1.0,1.0,3.0,1.0,1.0,1.0,1.0,2.0,1.0,1.0,0.0,1.0,2.0,1.0,1.0,1.0,2.0,1.0,1.0,0.0,1.0,1.0,1.0,0.0,2.0,1.0,1.0,1.0,1.0,0.0,1.0,1.0,1.0,3.0,1.0,2.0,3.0,1.0,1.0,2.0,1.0,1.0,3.0,1.0,3.0,3.0,1.0,1.0,1.0,1.0,0.0,3.0,1.0,1.0,1.0,1.0,1.0,1.0,3.0,1.0,1.0,2.0,1.0,1.0,1.0,1.0,1.0,1.0,1.0,1.0,1.0,1.0,1.0,3.0,1.0,0.0,1.0,1.0,1.0,0.0,1.0,1.0,1.0,2.0,1.0,2.0,0.0,3.0,1.0,1.0,3.0,1.0,1.0,3.0,1.0,1.0,1.0,1.0,1.0,1.0,1.0,1.0,1.0,1.0,3.0,3.0,1.0,1.0,3.0,1.0,3.0,1.0,1.0,2.0,1.0,1.0,1.0,3.0,1.0,2.0,1.0,1.0,1.0,1.0,0.0,1.0,1.0,1.0,1.0,1.0,1.0,1.0,2.0,1.0,0.0,1.0,1.0,3.0,1.0,1.0,2.0,3.0,3.0,1.0,2.0,0.0,0.0,1.0,0.0,1.0,1.0,0.0,0.0,3.0,3.0,0.0,2.0,0.0,1.0,1.0,1.0,3.0,2.0,2.0,3.0,1.0,1.0,1.0,1.0,1.0,1.0,1.0,2.0,1.0,1.0,1.0,1.0,1.0,1.0,0.0,1.0,1.0,1.0,1.0,1.0,1.0,1.0,3.0,1.0,1.0,1.0,3.0,1.0,0.0,0.0,0.0,1.0,0.0,1.0,1.0,1.0,1.0,1.0,1.0,2.0,1.0,3.0,1.0,0.0,3.0,1.0,1.0,1.0,1.0,1.0,1.0,1.0,3.0,1.0,1.0,3.0,1.0,1.0,2.0,1.0,1.0,1.0,2.0,2.0,1.0,2.0,1.0,3.0,1.0,1.0,3.0,1.0,1.0,1.0,1.0,1.0,1.0,1.0,1.0,1.0,1.0,1.0,1.0,3.0,0.0,3.0,1.0,1.0,3.0,0.0,1.0,1.0,1.0,1.0,1.0,1.0,2.0,1.0,2.0,0.0,2.0,1.0,1.0,0.0,1.0,1.0,1.0,1.0,0.0,1.0,2.0,1.0,1.0,1.0,0.0,0.0,0.0,1.0,2.0,2.0,2.0,1.0,3.0,1.0,1.0,1.0,1.0,1.0,1.0,3.0,1.0,1.0,2.0,1.0,0.0,1.0,1.0,2.0,1.0,1.0,1.0,3.0,1.0,1.0,1.0,1.0,1.0,3.0,1.0,1.0,1.0,2.0,1.0,1.0,0.0,1.0,1.0,1.0,1.0,0.0,0.0,1.0,1.0,2.0,3.0,1.0,1.0,0.0,2.0,0.0,0.0,1.0,1.0,1.0,2.0,3.0,1.0,1.0,1.0,0.0,1.0,1.0,1.0,2.0,1.0,1.0,1.0,3.0,1.0,1.0,0.0,1.0,2.0,1.0,1.0,3.0,2.0,1.0,1.0,1.0,1.0,1.0,0.0,2.0,2.0,1.0,1.0,2.0,2.0,1.0,1.0,2.0,0.0,3.0,1.0,0.0,2.0,1.0,2.0,1.0,1.0,1.0,1.0,3.0,1.0,0.0,1.0,1.0,0.0,1.0,1.0,0.0,3.0,1.0,1.0,0.0,1.0,1.0,0.0,0.0,1.0,2.0,1.0,1.0,1.0,0.0,3.0,3.0,2.0,2.0,0.0,1.0,2.0,0.0,1.0,1.0,1.0,1.0,1.0,1.0,2.0,1.0,0.0,2.0,1.0,3.0,3.0,1.0,2.0,3.0,1.0,1.0,1.0,0.0,3.0,2.0,1.0,1.0,1.0,3.0,0.0,1.0,3.0,1.0,1.0,1.0,2.0,1.0,1.0,1.0,2.0,1.0,1.0,1.0,3.0,3.0,1.0,3.0,1.0,1.0,3.0,1.0,3.0,1.0,1.0,1.0,1.0,2.0,1.0,0.0,2.0,2.0,2.0,1.0,1.0,1.0,1.0,1.0,1.0,1.0,0.0,1.0,2.0,1.0,3.0,1.0,2.0,0.0,1.0,2.0,2.0,1.0,1.0,1.0,3.0,1.0,0.0,2.0,1.0,1.0,1.0,1.0,1.0,1.0,1.0,3.0,2.0,1.0,1.0,0.0,1.0,1.0,1.0,1.0,1.0,0.0,1.0,1.0,2.0,1.0,3.0,2.0,1.0,1.0,1.0,1.0,0.0,3.0,1.0,1.0,1.0,1.0,0.0,2.0,1.0,1.0,1.0,1.0,0.0,1.0,1.0,1.0,1.0,1.0,3.0,1.0,1.0,1.0,1.0,1.0,1.0,2.0,1.0,1.0,0.0,1.0,2.0,1.0,1.0,3.0,1.0,1.0,1.0,0.0,1.0,1.0,3.0,1.0,1.0,1.0,1.0,0.0,3.0,1.0,1.0,1.0,0.0,1.0,0.0,1.0,1.0,1.0,1.0,1.0,1.0,1.0,3.0,3.0,1.0,1.0,1.0,1.0,1.0,1.0,1.0,1.0,1.0,1.0,0.0,1.0,1.0,3.0,1.0,1.0,0.0,1.0,1.0,0.0,0.0,1.0,1.0,1.0,3.0,1.0,1.0,1.0,1.0,2.0,1.0,1.0,1.0,2.0,1.0,1.0,1.0,1.0,1.0,3.0,1.0,1.0,1.0,1.0,1.0,0.0,1.0,1.0,0.0,1.0,1.0,1.0,1.0,1.0,0.0,1.0,0.0,1.0,1.0,1.0,1.0,1.0,1.0,3.0,1.0,2.0,2.0,1.0,1.0,1.0,1.0,0.0,0.0,1.0,1.0,0.0,1.0,1.0,3.0,1.0,1.0,0.0,0.0,1.0,1.0,1.0,3.0,3.0,0.0,0.0,1.0,1.0,1.0,1.0,1.0,1.0,1.0,1.0,2.0,1.0,1.0,0.0,1.0,2.0,1.0,1.0,0.0,2.0,1.0,2.0,1.0,1.0,0.0,0.0,1.0,1.0,1.0,2.0,1.0,1.0,0.0,1.0,1.0,1.0,1.0,0.0,1.0,1.0,3.0,3.0,1.0,1.0,1.0,1.0,1.0,1.0,1.0,3.0,0.0,2.0,3.0,0.0,1.0,1.0,1.0,3.0,1.0,1.0,1.0,1.0,1.0,1.0,0.0,1.0,1.0,1.0,1.0,1.0,1.0,3.0,1.0,1.0,1.0,1.0,0.0,1.0,3.0,0.0,0.0,3.0,1.0,1.0,3.0,0.0,3.0,1.0,1.0,2.0,1.0,1.0,0.0,1.0,1.0,0.0,1.0,2.0,1.0,2.0,3.0,1.0,1.0,1.0,3.0,1.0,0.0,1.0,1.0,2.0,1.0,0.0,1.0,3.0,1.0,1.0,1.0,1.0,1.0,3.0,1.0,1.0,1.0,1.0,1.0,2.0,1.0,1.0,1.0,1.0,3.0,2.0,1.0,1.0,1.0,1.0,1.0,3.0,1.0,1.0,0.0,1.0,1.0,1.0,1.0,1.0,1.0,1.0,1.0,1.0,0.0,1.0,1.0,1.0,3.0,1.0,1.0,2.0,1.0,1.0,3.0,1.0,1.0,1.0,2.0,0.0,1.0,1.0,2.0,1.0,3.0,1.0,1.0,0.0,1.0,0.0,2.0,1.0,1.0,1.0,0.0,3.0,1.0,1.0,2.0,1.0,2.0,1.0,1.0,1.0,1.0,1.0,1.0,1.0,0.0,1.0,3.0,3.0,3.0,1.0,1.0,3.0,1.0,1.0,1.0,0.0,1.0,3.0,1.0,1.0,2.0,1.0,0.0,1.0,1.0,2.0,1.0,1.0,3.0,3.0,0.0,0.0,1.0,1.0,1.0,1.0,3.0,1.0,1.0,1.0,1.0,1.0,2.0,0.0,1.0,1.0,1.0,1.0,1.0,1.0,3.0,0.0,1.0,3.0,1.0,1.0,1.0,1.0,1.0,1.0,1.0,1.0,1.0,2.0,1.0,0.0,1.0,0.0,3.0,2.0,1.0,1.0,0.0,0.0,1.0,1.0,1.0,1.0,1.0,1.0,0.0,1.0,1.0,3.0,1.0,1.0,1.0,1.0,1.0,1.0,1.0,1.0,1.0,1.0,1.0,1.0,0.0,2.0,1.0,1.0,1.0,0.0,3.0,1.0,1.0,1.0,1.0,3.0,1.0,1.0,1.0,3.0,0.0,3.0,3.0,2.0,1.0,3.0,1.0,1.0,1.0,3.0,2.0,1.0,0.0,0.0,1.0,2.0,1.0,2.0,1.0,2.0,0.0,3.0,1.0,0.0,1.0,3.0,1.0,1.0,1.0,1.0,2.0,2.0,3.0,1.0,2.0,0.0,2.0,2.0,0.0,1.0,2.0,1.0,1.0,1.0,1.0,2.0,3.0,1.0,3.0,1.0,1.0,1.0,1.0,1.0,1.0,1.0,0.0,0.0,2.0,1.0,1.0,1.0,1.0,1.0,3.0,1.0,1.0,1.0,1.0,1.0,1.0,0.0,1.0,1.0,1.0,0.0,1.0,3.0,1.0,2.0,1.0,1.0,3.0,1.0,2.0,1.0,1.0,1.0,1.0,0.0,1.0,3.0,2.0,1.0,0.0,1.0,1.0,1.0,1.0,1.0,1.0,1.0,1.0,1.0,1.0,1.0,0.0,1.0,1.0,2.0,1.0,1.0,1.0,1.0,2.0,1.0,0.0,1.0,0.0,1.0,1.0,2.0,3.0,1.0,1.0,1.0,2.0,0.0,1.0,3.0,2.0,1.0,1.0,1.0,1.0,3.0,1.0,0.0,1.0,1.0,1.0,2.0,1.0,1.0,1.0,3.0,1.0,3.0,1.0,3.0,1.0,1.0,3.0,1.0,1.0,1.0,1.0,1.0,1.0,1.0,3.0,1.0,2.0,1.0,1.0,1.0,1.0,1.0,3.0,1.0,1.0,0.0,1.0,3.0,1.0,1.0,1.0,2.0,1.0,1.0,1.0,0.0,1.0,1.0,1.0,1.0,3.0,1.0,1.0,1.0,0.0,1.0,2.0,1.0,0.0,1.0,1.0,3.0,1.0,1.0,1.0,0.0,1.0,1.0,3.0,2.0,1.0,1.0,1.0,2.0,1.0,1.0,1.0,0.0,2.0,3.0,2.0,1.0,1.0,1.0,1.0,1.0,1.0,3.0,1.0,1.0,1.0,1.0,3.0,2.0,3.0,1.0,1.0,3.0,1.0,1.0,3.0,1.0,1.0,1.0,3.0,2.0,2.0,1.0,1.0,0.0,1.0,1.0,1.0,1.0,1.0,2.0,0.0,1.0,1.0,1.0,1.0,1.0,2.0,1.0,1.0,1.0,0.0,2.0,2.0,1.0,2.0,1.0,1.0,3.0,1.0,1.0,3.0,1.0,3.0,0.0,1.0,2.0,1.0,2.0,1.0,1.0,1.0,1.0,2.0,1.0,1.0,1.0,2.0,1.0,1.0,2.0,1.0,1.0,2.0,1.0,2.0,1.0,0.0,1.0,1.0,1.0,3.0,1.0,1.0,1.0,1.0,0.0,1.0,2.0,0.0,0.0,2.0,1.0,3.0,1.0,1.0,1.0,1.0,1.0,1.0,0.0,2.0,1.0,1.0,0.0,0.0,0.0,1.0,1.0,3.0,3.0,1.0,2.0,1.0,1.0,1.0,1.0,1.0,0.0,1.0,0.0,0.0,1.0,0.0,1.0,1.0,1.0,1.0,1.0,3.0,1.0,3.0,1.0,1.0,3.0,0.0,1.0,0.0,1.0,1.0,2.0,1.0,1.0,1.0,3.0,1.0,1.0,1.0,0.0,1.0,1.0,1.0,2.0,1.0,2.0,1.0,1.0,1.0,1.0,1.0,1.0,3.0,1.0,1.0,1.0,1.0,1.0,0.0,1.0,1.0,1.0,1.0,2.0,1.0,1.0,1.0,1.0,2.0,1.0,2.0,1.0,1.0,1.0,3.0,1.0,1.0,1.0,1.0,1.0,1.0,1.0,1.0,1.0,1.0,0.0,2.0,1.0,1.0,1.0,2.0,1.0,1.0,0.0,1.0,1.0,1.0,1.0,3.0,1.0,1.0,1.0,0.0,1.0,1.0,1.0,2.0,1.0,1.0,1.0,3.0,1.0,1.0,2.0,3.0,0.0,1.0,1.0,1.0,1.0,1.0,0.0,1.0,1.0,2.0,1.0,1.0,1.0,0.0,3.0,1.0,1.0,1.0,1.0,3.0,1.0,3.0,2.0,1.0,1.0,1.0,3.0,0.0,1.0,1.0,2.0,3.0,1.0,1.0,1.0,1.0,1.0,1.0,1.0,0.0,3.0,1.0,1.0,2.0,1.0,1.0,3.0,1.0,0.0,0.0,1.0,0.0,1.0,1.0,1.0,2.0,1.0,0.0,2.0,3.0,1.0,1.0,0.0,1.0,3.0,1.0,1.0,1.0,1.0,3.0,1.0,1.0,2.0,2.0,3.0,1.0,1.0,1.0,0.0,1.0,3.0,1.0,2.0,1.0,1.0,1.0,2.0,1.0,1.0,1.0,2.0,3.0,1.0,2.0,3.0,3.0,2.0,1.0,1.0,1.0,3.0,1.0,1.0,1.0,0.0,1.0,0.0,3.0,1.0,3.0,0.0,0.0,1.0,1.0,2.0,1.0,0.0,1.0,3.0,3.0,1.0,1.0,1.0,1.0,1.0,1.0,1.0,1.0,1.0,1.0,2.0,1.0,1.0,3.0,2.0,0.0,0.0,1.0,1.0,2.0,1.0,3.0,1.0,3.0,2.0,1.0,2.0,1.0,0.0,3.0,3.0,3.0,1.0,1.0,2.0,0.0,1.0,1.0,1.0,1.0,1.0,2.0,1.0,1.0,2.0,3.0,1.0,1.0,3.0,1.0,1.0,1.0,3.0,1.0,1.0,1.0,1.0,1.0,1.0,3.0,0.0,3.0,1.0,1.0,1.0,1.0,1.0,3.0,1.0,1.0,1.0,1.0,1.0,1.0,1.0,2.0,1.0,1.0,1.0,1.0,1.0,1.0,1.0,1.0,1.0,2.0,1.0,2.0,0.0,2.0,1.0,3.0,3.0,1.0,1.0,1.0,1.0,1.0,1.0,3.0,1.0,3.0,3.0,3.0,1.0,2.0,1.0,1.0,1.0,3.0,1.0,1.0,1.0,1.0,2.0,1.0,1.0,3.0,2.0,1.0,0.0,0.0,3.0,0.0,1.0,1.0,0.0,1.0,1.0,1.0,3.0,3.0,3.0,1.0,1.0,3.0,1.0,3.0,3.0,1.0,1.0,1.0,1.0,1.0,1.0,2.0,0.0,1.0,1.0,1.0,1.0,1.0,1.0,3.0,1.0,1.0,1.0,1.0,1.0,2.0,1.0,3.0,1.0,1.0,1.0,1.0,0.0,1.0,0.0,2.0,1.0,1.0,1.0,1.0,0.0,1.0,1.0,1.0,2.0,1.0,0.0,1.0,1.0,1.0,1.0,1.0,1.0,3.0,3.0,0.0,0.0,1.0,1.0,2.0,1.0,1.0,2.0,1.0,1.0,1.0,3.0,1.0,0.0,2.0,0.0,1.0,1.0,2.0,0.0,1.0,0.0,1.0,1.0,2.0,1.0,2.0,3.0,1.0,3.0,1.0,1.0,2.0,0.0,2.0,2.0,1.0,1.0,2.0,0.0,1.0,1.0,1.0,2.0,0.0,1.0,1.0,1.0,3.0,1.0,3.0,0.0,1.0,1.0,1.0,2.0,1.0,1.0,2.0,1.0,1.0,0.0,2.0,3.0,1.0,1.0,1.0,3.0,1.0,1.0,1.0,1.0,3.0,2.0,0.0,1.0,1.0,1.0,3.0,1.0,1.0,0.0,1.0,1.0,3.0,1.0,1.0,1.0,2.0,1.0,1.0,3.0,0.0,2.0,1.0,0.0,1.0,0.0,1.0,1.0,0.0,2.0,0.0,3.0,1.0,1.0,0.0,3.0,0.0,1.0,1.0,3.0,0.0,3.0,1.0,1.0,1.0,2.0,1.0,2.0,1.0,1.0,1.0,0.0,1.0,1.0,1.0,1.0,1.0,1.0,2.0,2.0,0.0,1.0,1.0,1.0,1.0,1.0,3.0,1.0,1.0,3.0,2.0,1.0,1.0,2.0,1.0,3.0,1.0,1.0,1.0,1.0,1.0,2.0,0.0,1.0,0.0,1.0,1.0,1.0,3.0,1.0,1.0,1.0,1.0,2.0,2.0,1.0,1.0,1.0,1.0,0.0,1.0,0.0,1.0,0.0,0.0,2.0,1.0,1.0,1.0,0.0,2.0,3.0,1.0,1.0,1.0,1.0,1.0,0.0,1.0,0.0,1.0,3.0,1.0,3.0,1.0,1.0,2.0,2.0,1.0,1.0,1.0,1.0,2.0,1.0,1.0,1.0,1.0,1.0,1.0,1.0,1.0,1.0,1.0,1.0,1.0,1.0,1.0,1.0,2.0,1.0,1.0,1.0,1.0,0.0,1.0,1.0,1.0,0.0,1.0,1.0,2.0,1.0,1.0,1.0,1.0,2.0,1.0,1.0,2.0,1.0,2.0,1.0,1.0,1.0,0.0,1.0,1.0,1.0,0.0,0.0,2.0,0.0,1.0,1.0,1.0,1.0,1.0,0.0,1.0,1.0,1.0,1.0,1.0,1.0,3.0,1.0,1.0,1.0,1.0,0.0,2.0,1.0,1.0,1.0,1.0,1.0,1.0,1.0,1.0,0.0,3.0,0.0,2.0,1.0,3.0,0.0,1.0,3.0,1.0,1.0,1.0,1.0,1.0,1.0,3.0,1.0,1.0,1.0,1.0,3.0,1.0,1.0,1.0,1.0,1.0,2.0,1.0,1.0,1.0,1.0,3.0,1.0,1.0,1.0,1.0,0.0,0.0,1.0,1.0,1.0,3.0,2.0,1.0,1.0,3.0,1.0,1.0,3.0,1.0,1.0,1.0,1.0,1.0,0.0,1.0,1.0,1.0,1.0,0.0,1.0,1.0,1.0,3.0,1.0,1.0,1.0,1.0,1.0,3.0,1.0,0.0,1.0,2.0,3.0,0.0,1.0,1.0,1.0,3.0,1.0,1.0,1.0,1.0,1.0,0.0,1.0,2.0,3.0,1.0,1.0,1.0,2.0,1.0,0.0,0.0,0.0,1.0,0.0,2.0,0.0,0.0,1.0,1.0,3.0,2.0,1.0,1.0,1.0,1.0,1.0,3.0,3.0,1.0,1.0,1.0,2.0,1.0,1.0,1.0,1.0,1.0,1.0,2.0,1.0,0.0,2.0,3.0,0.0,3.0,1.0,1.0,0.0,1.0,1.0,2.0,1.0,0.0,1.0,0.0,1.0,1.0,1.0,1.0,1.0,1.0,1.0,1.0,1.0,1.0,0.0,1.0,1.0,1.0,1.0,1.0,0.0,1.0,1.0,1.0,1.0,0.0,2.0,1.0,1.0,3.0,3.0,1.0,1.0,2.0,0.0,1.0,3.0,2.0,1.0,1.0,1.0,1.0,3.0,1.0,1.0,1.0,3.0,1.0,1.0,1.0,1.0,3.0,1.0,1.0,1.0,0.0,3.0,0.0,1.0,2.0,1.0,1.0,0.0,2.0,0.0,1.0,2.0,0.0,2.0,1.0,2.0,1.0,2.0,3.0,1.0,1.0,1.0,0.0,1.0,2.0,1.0,2.0,1.0,0.0,0.0,1.0,1.0,3.0,1.0,3.0,0.0,1.0,0.0,2.0,1.0,1.0,1.0,1.0,1.0,3.0,1.0,0.0,1.0,1.0,1.0,3.0,0.0,1.0,1.0,3.0,0.0,0.0,1.0,2.0,1.0,1.0,1.0,1.0,1.0,1.0,1.0,0.0,1.0,1.0,0.0,1.0,1.0,1.0,2.0,1.0,1.0,1.0,2.0,1.0,1.0,1.0,1.0,1.0,0.0,2.0,1.0,2.0,1.0,1.0,1.0,1.0,2.0,1.0,1.0,3.0,3.0,1.0,1.0,2.0,1.0,1.0,1.0,1.0,1.0,1.0,1.0,1.0,1.0,3.0,0.0,0.0,2.0,0.0,1.0,1.0,3.0,1.0,1.0,1.0,1.0,1.0,0.0,1.0,0.0,1.0,1.0,3.0,0.0,1.0,3.0,1.0,1.0,3.0,1.0,1.0,1.0,2.0,1.0,2.0,1.0,1.0,0.0,3.0,1.0,1.0,1.0,1.0,0.0,1.0,0.0,1.0,1.0,3.0,1.0,1.0,2.0,1.0,0.0,1.0,1.0,1.0,1.0,1.0,1.0,1.0,3.0,0.0,3.0,0.0,0.0,1.0,1.0,1.0,1.0,1.0,3.0,1.0,0.0,1.0,1.0,1.0,2.0,1.0,0.0,2.0,1.0,1.0,0.0,0.0,1.0,3.0,1.0,0.0,1.0,0.0,2.0,1.0,1.0,1.0,0.0,0.0,1.0,1.0,3.0,1.0,1.0,2.0,1.0,1.0,1.0,0.0,1.0,0.0,1.0,3.0,0.0,3.0,1.0,2.0,0.0,2.0,1.0,1.0,1.0,2.0,1.0,3.0,1.0,1.0,1.0,1.0,1.0,3.0,2.0,3.0,1.0,1.0,0.0,1.0,3.0,1.0,3.0,1.0,1.0,1.0,1.0,1.0,0.0,1.0,1.0,1.0,1.0,3.0,1.0,1.0,0.0,1.0,3.0,1.0,1.0,1.0,1.0,1.0,1.0,2.0,3.0,2.0,1.0,3.0,0.0,0.0,1.0,1.0,1.0,0.0,3.0,1.0,0.0,1.0,1.0,0.0,1.0,1.0,1.0,1.0,1.0,1.0,1.0,1.0,1.0,1.0,1.0,1.0,1.0,1.0,3.0,1.0,1.0,1.0,1.0,3.0,2.0,1.0,1.0,3.0,1.0,1.0,2.0,1.0,3.0,3.0,0.0,1.0,1.0,0.0,1.0,1.0,1.0,1.0,1.0,0.0,1.0,1.0,1.0,1.0,0.0,2.0,1.0,3.0,1.0,1.0,1.0,1.0,1.0,0.0,2.0,2.0,0.0,1.0,1.0,0.0,1.0,0.0,1.0,3.0,1.0,1.0,1.0,1.0,1.0,1.0,1.0,1.0,1.0,0.0,1.0,1.0,1.0,1.0,3.0,1.0,3.0,1.0,1.0,1.0,1.0,2.0,1.0,1.0,1.0,1.0,1.0,2.0,1.0,1.0,1.0,1.0,1.0,1.0,0.0,1.0,1.0,1.0,0.0,1.0,1.0,2.0,1.0,2.0,3.0,1.0,2.0,1.0,1.0,1.0,1.0,0.0,1.0,1.0,1.0,1.0,1.0,1.0,1.0,1.0,1.0,1.0,1.0,1.0,2.0,1.0,1.0,1.0,0.0,1.0,1.0,0.0,1.0,1.0,2.0,1.0,1.0,2.0,1.0,2.0,1.0,1.0,1.0,1.0,1.0,1.0,1.0,3.0,3.0,1.0,1.0,3.0,0.0,1.0,1.0,1.0,0.0,2.0,0.0,3.0,2.0,1.0,1.0,1.0,1.0,1.0,1.0,2.0,3.0,3.0,1.0,2.0,1.0,1.0,1.0,1.0,1.0,1.0,1.0,1.0,1.0,3.0,1.0,3.0,1.0,2.0,0.0,1.0,1.0,1.0,2.0,1.0,1.0,2.0,1.0,2.0,1.0,1.0,0.0,3.0,1.0,3.0,2.0,1.0,1.0,1.0,2.0,1.0,2.0,2.0,3.0,1.0,1.0,3.0,1.0,1.0,1.0,0.0,1.0,1.0,1.0,1.0,1.0,1.0,3.0,1.0,1.0,3.0,2.0,1.0,1.0,0.0,1.0,1.0,0.0,1.0,1.0,2.0,1.0,1.0,1.0,1.0,1.0,1.0,0.0,1.0,0.0,2.0,1.0,1.0,0.0,3.0,0.0,1.0,1.0,1.0,1.0,0.0,0.0,1.0,2.0,2.0,1.0,1.0,2.0,3.0,1.0,1.0,1.0,1.0,1.0,1.0,2.0,1.0,3.0,1.0,2.0,0.0,1.0,2.0,2.0,1.0,2.0,1.0,0.0,1.0,2.0,1.0,3.0,3.0,0.0,2.0,1.0,1.0,3.0,1.0,1.0,1.0,1.0,1.0,3.0,3.0,2.0,1.0,1.0,0.0,1.0,1.0,0.0,2.0,1.0,1.0,1.0,2.0,0.0,0.0,2.0,2.0,1.0,1.0,1.0,1.0,1.0,1.0,1.0,1.0,1.0,0.0,0.0,1.0,1.0,1.0,2.0,1.0,2.0,1.0,1.0,3.0,2.0,1.0,1.0,3.0,1.0,1.0,1.0,1.0,1.0,2.0,2.0,1.0,1.0,0.0,3.0,1.0,1.0,1.0,1.0,1.0,2.0,0.0,1.0,1.0,1.0,1.0,1.0,2.0,1.0,1.0,1.0,1.0,1.0,2.0,1.0,0.0,3.0,1.0,1.0,1.0,1.0,0.0,1.0,1.0,0.0,1.0,2.0,3.0,1.0,1.0,1.0,1.0,1.0,1.0,1.0,1.0,0.0,3.0,1.0,1.0,1.0,1.0,1.0,3.0,1.0,1.0,1.0,2.0,2.0,0.0,1.0,1.0,1.0,1.0,1.0,2.0,1.0,2.0,3.0,1.0,0.0,1.0,1.0,1.0,1.0,1.0,1.0,1.0,0.0,3.0,2.0,3.0,1.0,3.0,1.0,1.0,1.0,2.0,1.0,0.0,1.0,1.0,2.0,3.0,1.0,3.0,1.0,1.0,0.0,1.0,1.0,1.0,1.0,1.0,2.0,2.0,1.0,0.0,1.0,1.0,1.0,1.0,1.0,1.0,1.0,0.0,1.0,3.0,0.0,1.0,1.0,0.0,1.0,0.0,1.0,1.0,0.0,1.0,1.0,0.0,1.0,1.0,1.0,0.0,0.0,1.0,1.0,1.0,1.0,1.0,1.0,1.0,1.0,1.0,1.0,1.0,2.0,3.0,3.0,1.0,1.0,2.0,1.0,0.0,1.0,1.0,1.0,2.0,1.0,1.0,1.0,2.0,1.0,1.0,0.0,1.0,1.0,1.0,1.0,0.0,3.0,1.0,0.0,0.0,3.0,1.0,1.0,2.0,0.0,1.0,1.0,1.0,3.0,0.0,1.0,1.0,0.0,1.0,0.0,0.0,1.0,1.0,1.0,1.0,1.0,2.0,1.0,1.0,0.0,0.0,0.0,1.0,1.0,1.0,2.0,2.0,1.0,2.0,2.0,3.0,1.0,1.0,0.0,0.0,1.0,3.0,0.0,1.0,3.0,1.0,0.0,3.0,3.0,1.0,2.0,1.0,0.0,0.0,1.0,1.0,3.0,2.0,1.0,1.0,1.0,1.0,1.0,1.0,3.0,1.0,1.0,0.0,1.0,1.0,1.0,1.0,0.0,2.0,1.0,1.0,3.0,3.0,2.0,1.0,1.0,1.0,2.0,0.0,1.0,1.0,1.0,3.0,1.0,1.0,1.0,1.0,1.0,3.0,1.0,1.0,0.0,1.0,1.0,1.0,1.0,1.0,1.0,1.0,2.0,1.0,1.0,1.0,2.0,1.0,1.0,2.0,1.0,1.0,1.0,0.0,1.0,1.0,1.0,2.0,1.0,1.0,0.0,1.0,1.0,1.0,1.0,1.0,2.0,3.0,1.0,3.0,1.0,1.0,2.0,3.0,1.0,3.0,1.0,1.0,1.0,1.0,0.0,3.0,0.0,2.0,3.0,0.0,1.0,1.0,1.0,1.0,1.0,1.0,0.0,1.0,1.0,2.0,1.0,2.0,1.0,1.0,1.0,1.0,3.0,1.0,0.0,1.0,1.0,2.0,1.0,1.0,3.0,0.0,1.0,1.0,2.0,1.0,1.0,0.0,1.0,1.0,0.0,2.0,1.0,1.0,1.0,1.0,1.0,3.0,1.0,1.0,1.0,1.0,1.0,1.0,1.0,3.0,1.0,0.0,2.0,0.0,1.0,1.0,0.0,2.0,1.0,1.0,1.0,1.0,3.0,1.0,1.0,1.0,3.0,1.0,2.0,0.0,1.0,1.0,1.0,1.0,2.0,0.0,1.0,1.0,2.0,3.0,1.0,1.0,0.0,1.0,1.0,2.0,1.0,1.0,2.0,0.0,1.0,0.0,1.0,1.0,2.0,0.0,1.0,1.0,1.0,1.0,1.0,1.0,0.0,0.0,1.0,1.0,3.0,1.0,2.0,1.0,1.0,2.0,1.0,1.0,1.0,1.0,1.0,1.0,1.0,1.0,1.0,1.0,1.0,0.0,1.0,2.0,3.0,1.0,1.0,0.0,1.0,1.0,1.0,1.0,1.0,3.0,1.0,1.0,1.0,1.0,1.0,0.0,1.0,2.0,2.0,3.0,0.0,1.0,1.0,1.0,1.0,1.0,1.0,3.0,1.0,0.0,3.0,1.0,1.0,1.0,2.0,1.0,0.0,1.0,1.0,3.0,1.0,0.0,0.0,1.0,0.0,1.0,0.0,0.0,1.0,0.0,1.0,1.0,1.0,1.0,1.0,1.0,1.0,1.0,1.0,2.0,0.0,1.0,1.0,1.0,1.0,1.0,1.0,1.0,1.0,2.0,0.0,1.0,1.0,0.0,3.0,1.0,1.0,0.0,3.0,3.0,0.0,1.0,1.0,1.0,1.0,1.0,2.0,1.0,3.0,1.0,0.0,0.0,1.0,1.0,2.0,1.0,3.0,0.0,1.0,0.0,1.0,1.0,1.0,1.0,1.0,2.0,2.0,3.0,1.0,1.0,3.0,1.0,0.0,1.0,1.0,1.0,1.0,1.0,2.0,1.0,1.0,1.0,1.0,1.0,0.0,1.0,0.0,1.0,1.0,1.0,1.0,1.0,3.0,1.0,1.0,1.0,1.0,1.0,1.0,1.0,1.0,1.0,1.0,3.0,1.0,1.0,2.0,1.0,1.0,1.0,1.0,3.0,2.0,0.0,1.0,0.0,1.0,3.0,1.0,1.0,2.0,1.0,1.0,1.0,3.0,1.0,0.0,2.0,0.0,1.0,1.0,1.0,1.0,2.0,1.0,0.0,1.0,0.0,1.0,1.0,0.0,3.0,0.0,1.0,0.0,1.0,1.0,1.0,1.0,3.0,2.0,1.0,1.0,1.0,1.0,2.0,1.0,1.0,1.0,0.0,1.0,0.0,1.0,1.0,1.0,1.0,3.0,2.0,1.0,0.0,3.0,3.0,1.0,0.0,2.0,0.0,1.0,0.0,3.0,1.0,1.0,1.0,1.0,1.0,0.0,3.0,1.0,0.0,1.0,1.0,1.0,1.0,1.0,1.0,2.0,0.0,1.0,0.0,3.0,1.0,1.0,1.0,0.0,3.0,1.0,1.0,2.0,1.0,1.0,1.0,1.0,2.0,2.0,1.0,1.0,3.0,1.0,1.0,3.0,0.0,0.0,1.0,0.0,1.0,1.0,3.0,1.0,1.0,1.0,2.0,1.0,1.0,1.0,1.0,1.0,2.0,3.0,1.0,1.0,1.0,3.0,1.0,3.0,1.0,1.0,3.0,2.0,2.0,2.0,1.0,1.0,1.0,1.0,1.0,2.0,1.0,1.0,2.0,1.0,1.0,0.0,1.0,3.0,1.0,1.0,1.0,1.0,3.0,0.0,0.0,1.0,0.0,1.0,1.0,3.0,0.0,1.0,1.0,1.0,1.0,2.0,1.0,1.0,3.0,3.0,2.0,2.0,1.0,1.0,1.0,3.0,1.0,3.0,1.0,1.0,1.0,1.0,1.0,1.0,0.0,2.0,1.0,1.0,2.0,0.0,1.0,3.0,1.0,1.0,1.0,1.0,1.0,1.0,1.0,3.0,1.0,1.0,1.0,1.0,1.0,2.0,1.0,3.0,1.0,1.0,3.0,1.0,0.0,1.0,2.0,1.0,1.0,0.0,1.0,1.0,1.0,0.0,1.0,1.0,3.0,1.0,0.0,2.0,1.0,1.0,1.0,3.0,0.0,1.0,1.0,1.0,3.0,1.0,1.0,1.0,1.0,3.0,1.0,1.0,0.0,1.0,1.0,1.0,0.0,3.0,1.0,1.0,3.0,1.0,3.0,1.0,3.0,2.0,1.0,1.0,1.0,1.0,1.0,1.0,1.0,2.0,1.0,1.0,1.0,1.0,2.0,0.0,0.0,1.0,1.0,2.0,1.0,3.0,1.0,1.0,1.0,2.0,3.0,3.0,1.0,1.0,1.0,1.0,1.0,1.0,0.0,1.0,0.0,1.0,0.0,1.0,1.0,1.0,1.0,1.0,1.0,0.0,1.0,1.0,0.0,1.0,2.0,0.0,1.0,1.0,1.0,1.0,1.0,3.0,2.0,1.0,1.0,2.0,0.0,3.0,3.0,2.0,0.0,2.0,1.0,0.0,0.0,0.0,2.0,0.0,0.0,1.0,2.0,2.0,0.0,0.0,2.0,1.0,1.0,1.0,1.0,2.0,2.0,1.0,1.0,1.0,1.0,3.0,1.0,1.0,1.0,1.0,2.0,2.0,1.0,0.0,1.0,1.0,1.0,1.0,1.0,1.0,1.0,1.0,3.0,1.0,0.0,1.0,0.0,1.0,3.0,0.0,1.0,1.0,3.0,1.0,3.0,0.0,1.0,1.0,1.0,2.0,1.0,1.0,1.0,2.0,1.0,1.0,1.0,1.0,2.0,1.0,1.0,1.0,1.0,2.0,3.0,1.0,1.0,1.0,1.0,2.0,1.0,1.0,1.0,0.0,2.0,3.0,1.0,0.0,1.0,1.0,1.0,1.0,1.0,1.0,0.0,0.0,2.0,1.0,1.0,2.0,1.0,1.0,3.0,1.0,3.0,2.0,1.0,2.0,1.0,1.0,1.0,1.0,1.0,1.0,1.0,0.0,0.0,2.0,0.0,1.0,1.0,0.0,1.0,1.0,1.0,1.0,3.0,2.0,1.0,1.0,3.0,1.0,1.0,3.0,1.0,1.0,1.0,1.0,1.0,1.0,1.0,1.0,2.0,1.0,1.0,1.0,1.0,0.0,2.0,3.0,1.0,3.0,1.0,3.0,1.0,2.0,3.0,2.0,1.0,1.0,1.0,1.0,2.0,1.0,1.0,1.0,0.0,1.0,3.0,1.0,1.0,0.0,1.0,1.0,1.0,0.0,2.0,1.0,1.0,3.0,1.0,1.0,1.0,0.0,0.0,0.0,0.0,1.0,1.0,1.0,1.0,1.0,3.0,1.0,1.0,1.0,1.0,0.0,0.0,1.0,1.0,1.0,0.0,3.0,1.0,1.0,1.0,2.0,1.0,3.0,1.0,0.0,3.0,3.0,3.0,0.0,0.0,1.0,1.0,0.0,0.0,2.0,1.0,1.0,1.0,1.0,3.0,0.0,2.0,0.0,3.0,1.0,1.0,1.0,3.0,1.0,1.0,3.0,1.0,0.0,1.0,1.0,1.0,0.0,1.0,1.0,1.0,1.0,1.0,0.0,1.0,1.0,1.0,1.0,1.0,1.0,0.0,1.0,0.0,1.0,2.0,3.0,1.0,1.0,1.0,1.0,1.0,1.0,1.0,1.0,2.0,1.0,2.0,0.0,1.0,3.0,2.0,1.0,1.0,1.0,3.0,2.0,1.0,3.0,1.0,1.0,1.0,1.0,1.0,1.0,1.0,0.0,2.0,1.0,1.0,1.0,1.0,1.0,1.0,0.0,1.0,1.0,1.0,2.0,1.0,1.0,0.0,3.0,1.0,1.0,1.0,1.0,2.0,1.0,1.0,1.0,1.0,1.0,1.0,1.0,0.0,1.0,1.0,1.0,0.0,2.0,1.0,2.0,1.0,1.0,0.0,1.0,3.0,1.0,1.0,1.0,1.0,1.0,2.0,1.0,1.0,1.0,1.0,1.0,1.0,1.0,1.0,0.0,1.0,1.0,2.0,0.0,3.0,1.0,3.0,2.0,1.0,3.0,1.0,1.0,2.0,0.0,1.0,1.0,3.0,0.0,1.0,0.0,2.0,3.0,0.0,1.0,1.0,3.0,1.0,1.0,0.0,0.0,1.0,1.0,0.0,1.0,3.0,1.0,1.0,1.0,2.0,1.0,2.0,1.0,1.0,1.0,1.0,1.0,0.0,1.0,1.0,3.0,1.0,1.0,3.0,1.0,1.0,1.0,1.0,1.0,1.0,1.0,3.0,1.0,0.0,1.0,1.0,3.0,1.0,1.0,1.0,1.0,1.0,1.0,3.0,0.0,1.0,1.0,0.0,1.0,0.0,1.0,1.0,0.0,0.0,1.0,0.0,3.0,3.0,0.0,1.0,1.0,1.0,2.0,1.0,1.0,2.0,3.0,1.0,0.0,3.0,2.0,1.0,2.0,3.0,1.0,0.0,1.0,3.0,1.0,1.0,1.0,1.0,1.0,1.0,1.0,1.0,2.0,1.0,1.0,1.0,1.0,1.0,1.0,3.0,3.0,3.0,3.0,1.0,0.0,0.0,1.0,0.0,1.0,1.0,1.0,1.0,0.0,1.0,1.0,2.0,1.0,3.0,1.0,0.0,1.0,3.0,1.0,1.0,1.0,1.0,1.0,0.0,1.0,1.0,1.0,0.0,1.0,0.0,1.0,0.0,1.0,3.0,1.0,1.0,1.0,2.0,3.0,2.0,0.0,2.0,1.0,1.0,3.0,1.0,1.0,2.0,0.0,1.0,1.0,1.0,1.0,1.0,1.0,2.0,1.0,1.0,1.0,1.0,1.0,1.0,1.0,0.0,3.0,0.0,1.0,1.0,1.0,1.0,2.0,1.0,3.0,2.0,0.0,1.0,1.0,1.0,1.0,1.0,1.0,1.0,3.0,0.0,1.0,3.0,1.0,0.0,1.0,1.0,1.0,0.0,2.0,1.0,2.0,0.0,1.0,1.0,1.0,1.0,1.0,1.0,1.0,2.0,1.0,1.0,1.0,1.0,3.0,1.0,1.0,0.0,3.0,1.0,3.0,1.0,1.0,1.0,1.0,1.0,1.0,1.0,0.0,3.0,1.0,1.0,1.0,1.0,2.0,3.0,1.0,2.0,1.0,1.0,1.0,1.0,1.0,2.0,0.0,1.0,0.0,1.0,1.0,1.0,1.0,1.0,1.0,1.0,1.0,0.0,1.0,1.0,1.0,2.0,1.0,1.0,1.0,1.0,0.0,1.0,3.0,1.0,1.0,2.0,1.0,3.0,1.0,0.0,1.0,1.0,1.0,1.0,0.0,0.0,1.0,1.0,1.0,1.0,3.0,1.0,1.0,1.0,3.0,1.0,2.0,0.0,2.0,1.0,1.0,1.0,1.0,1.0,1.0,2.0,1.0,3.0,0.0,1.0,2.0,2.0,0.0,1.0,0.0,2.0,1.0,0.0,1.0,1.0,1.0,1.0,1.0,1.0,1.0,1.0,1.0,1.0,1.0,1.0,2.0,1.0,1.0,1.0,3.0,2.0,1.0,1.0,3.0,1.0,3.0,1.0,2.0,3.0,0.0,2.0,1.0,2.0,0.0,1.0,1.0,1.0,3.0,3.0,1.0,1.0,1.0,2.0,1.0,1.0,1.0,0.0,1.0,1.0,0.0,1.0,1.0,1.0,1.0,1.0,0.0,1.0,1.0,1.0,3.0,2.0,1.0,3.0,0.0,3.0,1.0,1.0,1.0,1.0,1.0,3.0,1.0,2.0,1.0,1.0,1.0,1.0,1.0,2.0,1.0,2.0,3.0,1.0,1.0,3.0,1.0,2.0,1.0,1.0,1.0,1.0,0.0,1.0,3.0,1.0,1.0,3.0,1.0,2.0,3.0,1.0,1.0,3.0,3.0,3.0,1.0,1.0,1.0,1.0,1.0,1.0,1.0,1.0,3.0,3.0,1.0,1.0,1.0,2.0,1.0,3.0,2.0,1.0,1.0,1.0,2.0,1.0,1.0,1.0,3.0,1.0,1.0,1.0,0.0,1.0,1.0,1.0,3.0,2.0,1.0,3.0,1.0,1.0,0.0,1.0,0.0,1.0,1.0,1.0,2.0,1.0,1.0,1.0,2.0,0.0,1.0,2.0,1.0,1.0,1.0,2.0,1.0,1.0,1.0,2.0,1.0,1.0,1.0,1.0,1.0,1.0,1.0,1.0,2.0,0.0,0.0,0.0,1.0,0.0,1.0,0.0,1.0,1.0,1.0,1.0,1.0,1.0,1.0,3.0,0.0,3.0,1.0,2.0,1.0,1.0,2.0,1.0,2.0,1.0,1.0,0.0,1.0,3.0,1.0,1.0,1.0,1.0,2.0,0.0,2.0,3.0,1.0,0.0,3.0,1.0,1.0,1.0,1.0,1.0,2.0,1.0,3.0,1.0,0.0,1.0,1.0,1.0,0.0,1.0,1.0,0.0,0.0,1.0,2.0,1.0,0.0,1.0,1.0,1.0,2.0,3.0,1.0,1.0,1.0,3.0,1.0,1.0,2.0,1.0,1.0,1.0,1.0,1.0,2.0,2.0,1.0,1.0,0.0,1.0,3.0,1.0,1.0,2.0,1.0,1.0,1.0,3.0,2.0,3.0,1.0,1.0,2.0,1.0,1.0,1.0,0.0,0.0,1.0,2.0,1.0,1.0,1.0,0.0,1.0,0.0,1.0,1.0,1.0,3.0,1.0,3.0,2.0,0.0,1.0,1.0,3.0,1.0,0.0,1.0,1.0,1.0,3.0,2.0,1.0,0.0,1.0,0.0,1.0,1.0,1.0,0.0,3.0,3.0,1.0,0.0,1.0,2.0,1.0,1.0,1.0,1.0,1.0,3.0,1.0,2.0,1.0,1.0,1.0,1.0,0.0,1.0,1.0,1.0,1.0,1.0,1.0,2.0,1.0,0.0,0.0,1.0,1.0,2.0,0.0,0.0,1.0,1.0,1.0,1.0,1.0,1.0,1.0,1.0,1.0,1.0,1.0,1.0,2.0,1.0,1.0,2.0,3.0,2.0,1.0,1.0,1.0,1.0,1.0,1.0,1.0,1.0,0.0,1.0,1.0,3.0,1.0,1.0,1.0,2.0,2.0,1.0,0.0,1.0,3.0,2.0,1.0,1.0,2.0,0.0,1.0,1.0,1.0,1.0,0.0,1.0,1.0,1.0,0.0,1.0,1.0,1.0,1.0,3.0,1.0,1.0,1.0,1.0,1.0,0.0,1.0,1.0,3.0,0.0,1.0,1.0,1.0,1.0,1.0,1.0,0.0,1.0,2.0,1.0,1.0,3.0,0.0,3.0,3.0,2.0,0.0,2.0,1.0,1.0,1.0,1.0,1.0,1.0,2.0,1.0,1.0,1.0,1.0,1.0,3.0,2.0,2.0,1.0,1.0,0.0,1.0,2.0,1.0,1.0,1.0,2.0,2.0,1.0,1.0,1.0,1.0,2.0,1.0],\"legendgroup\":\"\",\"name\":\"\",\"showlegend\":true,\"values\":[3735.138,443.4228,2097.27,732.38,994.7052,556.6088,343.5528,4022.7636,1076.5986,4710.535,1516.0266,2187.153,1589.2646,2145.2076,1977.426,1547.3192,1621.8888,718.3982,2303.668,2748.4224,3775.086,4064.0432,1587.2672,214.3876,4078.025,838.908,1065.28,308.9312,178.4344,125.8362,163.7868,2741.7644,3068.0064,2174.5028,2085.2856,3791.0652,2797.6916,1609.9044,388.1614,2180.495,3435.528,2150.534,2527.3768,6768.5228,373.5138,358.2004,2428.8384,5815.0972,2576.646,780.3176,3134.5864,850.8924,810.9444,3121.2704,4815.0656,6258.52,2117.244,796.9626,4910.275,892.172,3185.1872,1062.6168,484.7024,147.8076,2543.356,184.4266,4865.6664,1118.544,2302.3364,2027.361,3435.528,599.22,4604.6728,2285.0256,5580.7356,2290.352,1207.0954,643.1628,1587.933,5305.0944,1697.79,1427.4752,4693.89,583.2408,3091.9752,2479.4392,2716.464,3285.723,661.8052,1523.3504,369.519,690.4346,1381.535,622.523,1274.3412,487.3656,1231.73,3755.112,4363.6532,1314.2892,1805.6496,2854.9504,3896.2616,667.7974,3185.853,2247.7408,1794.331,2530.7058,679.116,812.276,699.09,2732.4432,176.437,4097.3332,3151.8972,5942.265,4843.695,2542.0244,2552.6772,1141.847,680.4476,2085.9514,186.424,3036.048,866.8716,868.869,1137.1864,928.1252,762.341,707.0796,7968.2944,1438.128,6976.2524,101.2016,952.094,1969.4364,5262.4832,1314.2892,535.3032,263.6568,1402.1748,1693.7952,2143.876,2676.516,905.488,7370.406,6301.1312,1597.92,529.311,1969.4364,1034.6532,1794.331,2768.3964,898.83,3169.208,3589.9936,262.3252,1910.1802,1701.7848,2471.4496,1331.6,1808.9786,3315.684,2618.5914,2769.728,5375.0034,2838.9712,1743.0644,5555.4352,619.194,2120.573,3823.0236,1360.2294,3969.4996,345.5502,585.2382,1010.6844,161.1236,42.6112,3010.7476,6024.1584,988.713,239.688,1374.2112,4739.8302,1012.016,657.8104,778.986,2336.958,2233.0932,1661.8368,4745.8224,3124.5994,467.3916,5070.7328,540.6296,992.7078,6008.845,2105.2596,5359.69,745.696,3275.736,1701.7848,6704.606,4119.9704,327.5736,780.9834,3630.6074,317.5866,231.6984,133.16,5650.6446,2636.568,1272.3438,324.9104,131.1626,260.9936,260.9936,3690.5294,1139.1838,1995.4026,1416.8224,265.6542,3552.7088,2406.867,213.056,2956.152,153.134,1649.8524,3101.2964,4769.1254,3435.528,1133.8574,2603.278,605.878,2293.0152,119.1782,1929.4884,2074.6328,241.6854,6795.1548,639.168,3248.4382,7222.5984,3225.1352,3755.112,3440.8544,974.7312,535.969,5259.82,306.268,1779.0176,759.012,1877.556,3779.0808,41.2796,259.662,193.082,1687.803,4655.9394,4950.8888,1418.154,1225.072,5359.69,1764.37,2553.343,1006.6896,1081.925,308.9312,2516.724,1428.141,2093.2752,1929.4884,5829.7448,2082.6224,7298.4996,7452.9652,450.0808,500.6816,3668.558,736.3748,6088.0752,2125.2336,2277.036,573.2538,2267.049,296.9468,559.272,5559.43,1237.7222,569.259,3866.9664,1379.5376,1869.5664,5499.508,925.462,583.2408,1418.154,942.7728,2364.9216,3251.7672,254.3356,5895.659,1134.5232,7696.648,2775.7202,5317.0788,874.8612,1039.9796,3038.0454,3848.324,527.3136,2390.8878,1677.816,801.6232,1267.0174,886.8456,452.744,3877.6192,4414.254,5448.9072,4950.8888,958.752,1956.1204,2404.2038,387.4956,994.7052,1754.383,3340.9844,3918.8988,306.268,4278.4308,4425.5726,9267.936,229.701,2055.9904,3339.6528,6410.3224,1992.0736,2870.9296,2807.0128,539.298,4377.635,2716.464,383.5008,703.0848,1937.478,3307.6944,3142.576,2554.0088,1869.5664,5494.8474,6093.4016,2586.633,1255.6988,4093.3384,3163.8816,5033.448,1137.1864,2696.49,898.83,2756.412,878.856,659.142,182.4292,3610.6334,5153.292,2588.6304,1286.3256,1230.3984,1733.7432,384.8324,3969.4996,7763.228,809.6128,1253.7014,5715.2272,1464.76,3251.1014,4274.436,5375.0034,1318.284,2251.7356,1176.4686,3523.4136,610.5386,1237.7222,474.0496,717.7324,2580.6408,2552.6772,3914.904,796.9626,916.1408,3259.7568,1677.816,3707.1744,2954.1546,2652.5472,1037.3164,717.7324,426.112,6911.004,3811.0392,2277.036,48.6034,5770.4886,690.4346,1890.2062,3195.84,1504.708,711.0744,4311.055,521.3214,829.5868,1571.288,2403.538,83.8908,844.2344,2940.1728,291.6204,3259.7568,3415.554,5624.6784,6687.961,5642.655,4943.565,3135.2522,796.9626,848.895,38.6164,4997.4948,588.5672,372.848,155.1314,3038.7112,1587.2672,687.1056,1929.4884,3600.6464,2181.1608,3428.2042,623.1888,2133.2232,3401.5722,1289.6546,50.6008,790.9704,3147.9024,2486.763,1139.8496,1816.3024,199.74,978.726,2683.174,2897.5616,9158.079,1957.452,1296.3126,2528.7084,284.2966,759.012,1787.673,2431.5016,4466.1864,2048.6666,1940.807,2067.309,2663.2,1146.5076,3448.844,1665.8316,8114.7704,1713.7692,810.9444,1193.1136,856.8846,165.7842,1057.9562,2205.1296,2940.1728,3046.7008,3327.6684,520.6556,2999.429,2113.2492,942.7728,75.2354,1581.9408,37.9506,151.8024,3486.1288,4262.4516,731.0484,1398.8458,2336.958,2348.9424,7094.7648,1054.6272,1298.31,2330.3,4584.6988,527.3136,1869.5664,2876.256,407.4696,2189.8162,1603.9122,2013.3792,95.8752,774.9912,2403.538,4380.2982,219.714,729.051,1393.5194,5262.4832,372.848,3273.7386,5344.3766,303.6048,314.2576,276.307,721.0614,3467.4864,5416.9488,283.6308,323.5788,5206.556,2503.408,1960.781,370.1848,95.8752,3299.7048,2684.5056,2085.2856,2210.456,2187.153,1049.9666,2719.793,56.593,231.6984,5734.5354,1398.18,1531.34,319.584,633.8416,1014.6792,2094.6068,2386.2272,780.9834,1693.7952,334.2316,1342.2528,4916.2672,1757.712,1637.868,1747.725,2876.256,1966.7732,958.752,81.2276,1238.388,319.584,4418.2488,2863.6058,1845.5976,1561.9668,3848.324,2097.27,639.168,559.272,2770.3938,295.6152,37.9506,1267.0174,353.5398,1118.544,4655.2736,1547.3192,1045.306,275.6412,2735.1064,347.5476,3817.0314,1905.5196,665.8,2324.9736,3205.1612,2101.9306,1821.6288,3643.2576,2942.836,587.2356,2886.243,2223.772,487.3656,5770.4886,1414.1592,5502.837,2181.8266,1565.9616,1054.6272,1667.829,2812.3392,489.363,2865.6032,1665.8316,2694.4926,1555.9746,3836.3396,543.2928,1950.794,177.7686,1035.319,949.4308,1283.6624,484.7024,934.7832,534.6374,878.856,1332.9316,3560.6984,647.8234,4993.5,1691.7978,1695.7926,4042.7376,4763.799,1640.5312,1288.9888,2334.9606,2207.127,437.4306,2370.248,5087.3778,103.199,4697.8848,2406.867,5736.5328,7192.6374,6611.394,3246.4408,1262.3568,1758.3778,4672.5844,3775.086,2478.7734,3067.3406,3281.7282,1086.5856,229.701,1528.011,1990.742,868.869,1230.3984,938.778,4194.54,1166.4816,5764.4964,113.8518,7443.644,3057.3536,3579.3408,1522.0188,450.0808,607.2096,1325.6078,1270.3464,1107.8912,3542.056,1534.0032,1308.297,1471.418,1239.7196,3896.2616,1496.0526,3460.8284,2870.9296,1259.6936,177.1028,798.96,3185.853,1488.063,5159.2842,5954.2494,4500.808,121.8414,4318.3788,3456.1678,1659.8394,759.012,4974.1918,1707.777,7488.9184,2488.7604,2816.334,2954.1546,761.0094,593.2278,1298.31,1150.5024,3072.667,3259.7568,2756.412,2930.1858,97.2068,1544.656,3165.879,1619.2256,387.4956,415.4592,226.372,1267.6832,1593.9252,585.904,3745.125,1810.976,2358.2636,145.8102,554.6114,3499.4448,1780.3492,2566.659,1230.3984,918.804,3079.9908,744.3644,716.4008,5113.344,886.8456,1039.9796,4554.072,1807.647,2665.8632,1751.054,2626.581,1470.0864,4362.3216,4476.1734,2241.0828,4733.838,258.3304,3174.5344,2924.8594,960.7494,539.298,2041.3428,996.0368,1757.712,1842.9344,3435.528,1402.1748,7833.8028,1221.0772,669.129,1061.951,2874.9244,4592.0226,419.454,5163.9448,323.5788,1265.02,622.523,1125.202,5198.5664,379.506,2432.8332,1657.842,3006.087,2287.023,1687.1372,3237.1196,2746.425,1331.6,607.8754,857.5504,4287.752,1773.6912,597.2226,441.4254,1431.47,2860.2768,3364.9532,1757.712,966.7416,1958.1178,129.1652,365.5242,1783.6782,2790.3678,2328.3026,2822.992,2045.3376,505.3422,3095.97,5141.3076,808.947,2665.8632,2588.6304,1108.557,1304.968,331.5684,3235.788,3089.312,3355.632,2037.348,1867.569,898.83,7759.899,2848.2924,2868.9322,3617.9572,5243.8408,2109.2544,721.0614,1203.1006,1868.2348,322.2472,3942.8676,3195.84,3338.3212,4086.0146,1856.2504,1380.8692,1267.0174,5182.5872,147.1418,58.5904,5367.6796,1358.232,5976.2208,2251.7356,181.7634,5443.5808,1547.3192,145.8102,5063.409,3067.3406,2857.6136,1406.1696,178.4344,1470.0864,2896.23,6515.5188,996.0368,948.0992,87.2198,1178.466,565.2642,2137.8838,547.2876,2691.8294,3057.3536,588.5672,978.726,2356.932,3086.6488,461.3994,2696.49,1649.8524,126.502,2014.7108,1707.777,932.12,2157.192,4643.955,1280.9992,2366.919,886.8456,958.752,1150.5024,2641.8944,1547.985,619.194,2808.3444,2266.3832,1929.4884,1054.6272,1155.8288,1174.4712,3412.8908,300.9416,387.4956,2942.836,4098.6648,452.744,3211.8192,2620.5888,1414.1592,1565.9616,1043.9744,3115.944,729.051,2956.152,527.3136,1058.622,1320.9472,3047.3666,1725.7536,143.147,446.7518,585.904,6331.758,1853.5872,2247.075,33.29,445.4202,657.8104,223.7088,727.0536,218.3824,2665.8632,591.2304,2311.6576,7017.532,895.501,4655.2736,198.4084,451.4124,50.6008,615.1992,876.1928,2454.1388,251.6724,4102.6596,2696.49,1569.9564,189.753,3099.9648,743.0328,1611.9018,1215.7508,367.5216,3150.5656,7370.406,2954.8204,643.1628,89.2172,4940.236,735.709,1170.4764,1135.189,3823.0236,1549.9824,114.5176,1033.3216,4561.3958,2416.854,2133.2232,1482.7366,2892.2352,984.7182,745.696,1323.6104,1547.3192,647.1576,1798.9916,1973.4312,1737.738,1864.24,1516.0266,5060.08,2157.192,5400.9696,5469.547,174.4396,1278.336,1917.504,1017.3424,1998.7316,615.1992,314.2576,123.173,1020.6714,1222.4088,474.0496,1506.0396,762.341,1277.0044,3547.3824,6042.135,384.8324,1223.0746,2182.4924,1478.076,1418.154,5061.4116,2888.2404,5518.1504,741.0354,9133.4444,1857.582,2836.308,2982.784,167.7816,1150.5024,9275.9256,5038.1086,2115.9124,1885.5456,703.0848,2656.542,713.0718,1691.7978,2157.192,2561.9984,2059.9852,1334.2632,10236.675,692.432,1488.7288,6622.7126,3139.9128,1614.565,585.904,5602.707,703.0848,1012.6818,3131.9232,258.3304,4027.4242,352.874,2418.1856,2061.3168,146.476,4207.856,830.9184,145.8102,1198.44,87.2198,1960.781,2929.52,2253.0672,75.9012,2190.482,1693.7952,3661.9,862.8768,1850.924,6351.732,3542.056,3611.2992,7152.0236,6048.793,2187.153,759.012,1451.444,958.752,1808.3128,1099.2358,1810.976,2311.6576,1330.2684,1418.154,2874.9244,2345.6134,3912.2408,1274.3412,5712.564,5390.3168,1160.4894,5510.8266,568.5932,179.766,143.8128,2633.9048,6183.9504,2702.4822,4843.695,952.7598,1985.4156,2061.3168,1025.332,3013.4108,809.6128,623.1888,1088.583,217.0508,2931.5174,4555.4036,490.6946,1584.604,782.9808,5778.4782,5173.266,4420.912,1522.0188,932.12,1006.6896,1765.7016,2503.408,7296.5022,2684.5056,2163.1842,3383.5956,2241.0828,3415.554,5259.82,1957.452,5353.6978,4832.3764,1450.1124,5350.3688,2934.8464,360.8636,708.4112,2220.443,1606.5754,868.869,2237.088,705.748,1544.656,6767.1912,1078.596,4029.4216,1018.674,3700.5164,2024.032,767.0016,1482.0708,593.2278,1125.202,1570.6222,2141.2128,2157.192,3428.2042,6872.3876,1506.0396,174.4396,122.5072,211.7244,1901.5248,2684.5056,294.2836,1139.8496,1012.016,1966.7732,7472.2734,2399.5432,1637.868,1350.2424,3747.1224,1593.9252,261.6594,4889.6352,805.618,1438.128,1146.5076,1171.808,3038.7112,2277.036,2008.0528,649.155,4364.319,1821.6288,708.4112,3048.6982,1443.4544,153.7998,3129.26,509.337,3486.1288,1341.587,4819.0604,759.012,659.142,1737.738,2519.3872,1537.998,2250.404,5704.5744,2251.7356,5404.9644,2265.0516,990.7104,339.558,347.5476,796.2968,303.6048,2190.482,2444.8176,366.19,792.302,1713.7692,822.263,1488.063,2336.958,778.986,1605.9096,2328.3026,3717.8272,121.1756,1571.288,5351.0346,1166.4816,3661.9,3829.0158,1177.1344,519.324,1151.1682,3383.5956,2233.0932,2631.2416,165.1184,571.2564,6040.1376,1358.232,1238.388,169.779,2832.979,2624.5836,3257.7594,1796.3284,1713.7692,2982.784,1303.6364,2897.5616,918.804,866.8716,2884.2456,221.0456,1618.5598,296.9468,241.0196,202.4032,426.112,2647.2208,2503.408,2812.3392,372.848,2612.5992,4845.0266,159.792,872.198,3235.788,841.5712,1379.5376,3559.3668,4244.475,3415.554,3115.944,3769.7596,1186.4556,1540.6612,2552.6772,1619.2256,829.5868,1166.4816,1665.8316,2876.256,2702.4822,189.0872,2956.152,8132.0812,1541.9928,3635.268,4346.3424,466.06,169.1132,5851.0504,2681.8424,3828.35,2373.577,1096.5726,2167.8448,1845.5976,1884.214,147.8076,3425.541,1853.5872,673.7896,172.4422,540.6296,2732.4432,1162.4868,1228.401,874.8612,1917.504,731.0484,790.9704,4264.449,1480.0734,1581.275,3014.7424,4965.5364,438.0964,282.965,1834.9448,1065.28,4189.2136,161.7894,3327.6684,2925.5252,5382.993,1571.288,1427.4752,2695.1584,314.2576,2960.1468,1158.492,3502.108,3008.0844,253.004,866.8716,1151.1682,2768.3964,3364.9532,343.5528,2546.685,1127.8652,67.9116,4402.2696,1901.5248,739.038,1413.4934,2993.4368,1721.093,2864.2716,503.3448,3582.004,575.2512,3149.234,3374.2744,567.2616,288.9572,3358.2952,3663.2316,5321.0736,3511.4292,1744.396,2536.698,1957.452,1911.5118,4098.6648,1653.8472,1981.4208,146.476,3374.2744,2380.9008,1850.924,5909.6408,2207.127,2021.3688,5345.7082,2931.5174,1454.1072,2874.9244,6353.0636,4567.388,369.519,89.883,2356.932,2463.46,1921.4988,1066.6116,644.4944,2428.8384,2516.724,965.41,4563.3932,2700.4848,1581.9408,6165.9738,476.047,2450.144,345.5502,1853.5872,4471.5128,1985.4156,5954.2494,1867.569,2269.0464,5426.27,2518.7214,958.752,1151.1682,2432.8332,1647.855,5816.4288,1575.2828,792.302,639.168,2988.1104,1747.725,2410.8618,3691.1952,1989.4104,2087.283,351.5424,2501.4106,829.5868,1358.232,6897.688,1034.6532,1964.11,1946.7992,1480.0734,5191.2426,1808.9786,3395.58,5201.2296,768.999,2348.9424,1597.92,2492.7552,796.2968,4500.808,3078.6592,5697.9164,679.116,928.791,3663.2316,1304.968,3420.8804,3844.995,3761.77,2768.3964,4570.0512,3020.0688,958.752,2375.5744,852.224,145.8102,270.3148,251.6724,1142.5128,1347.5792,5366.348,711.0744,1661.8368,3415.554,1655.1788,843.5686,146.476,1347.5792,3701.1822,6018.1662,1885.5456,2246.4092,4436.8912,833.5816,2181.1608,1491.392,884.1824,436.7648,1323.6104,141.1496,2647.2208,149.1392,11445.102,1346.2476,773.6596,3731.809,107.8596,5887.6694,351.5424,2826.321,5954.9152,2332.9632,4247.804,3914.904,115.8492,788.973,1923.4962,4074.696,2817.6656,6064.1064,205.0664,2863.6058,2213.1192,1274.3412,2109.2544,1593.9252,2625.9152,4823.721,119.844,540.6296,4211.185,4492.8184,1188.453,175.7712,4138.6128,3579.3408,3848.324,4960.21,5383.6588,2241.0828,671.1264,177.7686,486.034,2380.235,201.0716,651.8182,3968.168,4187.2162,170.4448,3078.6592,4394.28,2577.9776,2628.5784,222.3772,1707.777,1278.336,5522.811,4013.4424,7646.0472,1768.3648,5626.01,3078.6592,3874.956,1713.7692,1492.7236,4006.7844,3368.948,1245.046,95.2094,2388.8904,575.2512,3755.112,1182.4608,262.3252,1342.2528,5478.2024,4629.9732,1644.526,1258.362,729.7168,2220.443,3749.7856,236.359,2043.3402,1641.8628,1943.4702,4923.591,2554.0088,2320.9788,808.947,1330.2684,2475.4444,716.4008,3091.9752,1605.9096,78.5644,3410.2276,677.1186,2050.664,829.5868,660.4736,1229.0668,2727.7826,2330.3,1304.968,483.3708,4153.9262,187.0898,3877.6192,1462.0968,1765.0358,3554.7062,167.7816,446.7518,3101.2964,1898.8616,6179.9556,6668.6528,1342.2528,3095.97,2173.1712,1677.816,5285.1204,2804.3496,1773.6912,4660.6,126.502,171.7764,1603.2464,2133.2232,372.848,1867.569,319.584,4221.172,1031.99,1808.3128,1099.9016,1102.5648,2696.49,1235.059,74.5696,4950.8888,435.4332,2220.443,3110.6176,4514.124,3889.6036,1288.9888,1733.0774,1893.5352,1225.072,2463.46,1043.9744,6574.775,1679.1476,2404.2038,972.068,277.6386,1904.188,419.454,4809.7392,1787.0072,2656.542,6942.9624,2375.5744,4288.4178,990.7104,3511.4292,549.285,311.5944,571.2564,419.454,1537.998,3755.112,1581.9408,657.8104,5528.1374,2267.049,718.3982,7073.4592,491.3604,1052.6298,263.6568,628.5152,1975.4286,3861.64,2816.334,3131.9232,4122.6336,3056.022,1478.076,2626.581,3306.3628,793.6336,211.7244,1198.44,153.7998,3057.3536,1537.998,360.8636,513.3318,4257.1252,7130.718,109.857,498.0184,490.6946,5522.811,1657.842,3455.502,75.9012,6771.186,988.713,918.804,3399.5748,1142.5128,3560.6984,2759.0752,3653.9104,512.666,5608.6992,1426.1436,6201.927,255.0014,1078.596,1024.6662,1322.2788,1231.73,2007.387,830.9184,577.9144,1277.0044,2203.798,495.3552,545.2902,5536.7928,990.7104,1474.0812,2055.3246,792.302,649.8208,1078.596,1114.5492,1294.3152,1384.1982,1869.5664,992.7078,2972.797,2587.9646,254.3356,3910.9092,2113.2492,665.8,7116.0704,127.8336,5326.4,4677.245,1845.5976,6524.84,3271.7412,982.055,85.8882,6426.3016,6769.8544,481.3734,3340.3186,1058.622,1491.392,886.8456,3795.06,2490.092,563.9326,3129.26,1230.3984,3261.7542,1197.7742,2111.2518,2055.9904,1193.1136,1761.7068,2636.568,790.9704,2980.1208,3419.5488,834.9132,3779.0808,814.9392,1114.5492,866.8716,2396.88,1999.3974,468.7232,1342.2528,218.3824,614.5334,1426.1436,1537.998,939.4438,3418.883,404.8064,974.0654,2406.867,5626.01,5956.9126,6404.996,216.385,1158.492,202.4032,2342.9502,2976.7918,3131.9232,108.5254,4448.2098,1442.1228,2841.6344,2876.256,1001.3632,982.7208,3547.3824,3125.931,3142.576,1398.18,4427.57,1956.1204,3078.6592,1018.674,687.1056,3787.0704,2748.4224,109.1912,2609.936,4516.7872,2319.6472,3629.2758,2087.9488,1557.972,2364.9216,4138.6128,3171.8712,2243.746,724.3904,145.1444,175.1054,4111.9808,492.692,1022.6688,194.4136,2808.3444,852.224,828.921,323.5788,2942.836,359.532,719.064,2360.9268,2735.1064,3677.2134,3842.9976,199.74,171.7764,120.5098,628.5152,2946.165,1789.6704,468.7232,1597.92,3681.874,317.5866,1977.426,1230.3984,4410.2592,1496.0526,1012.016,2862.94,6692.6216,1404.838,2812.3392,992.042,5191.2426,1148.505,245.0144,2909.546,122.5072,1468.089,1733.7432,5785.802,1985.4156,4175.8976,6615.3888,569.259,2759.0752,2631.2416,363.5268,1037.3164,355.5372,3283.7256,1468.089,1138.518,189.0872,339.558,314.2576,6006.1818,2988.1104,1761.7068,3560.6984,874.8612,2874.9244,113.186,262.3252,2181.1608,503.3448,1853.5872,7504.2318,644.4944,2885.5772,1017.3424,2530.7058,1617.894,2328.9684,1328.271,209.727,1244.3802,1518.024,1685.8056,3078.6592,2866.269,294.2836,2069.3064,1046.6376,4442.2176,1930.1542,1780.3492,7086.1094,316.9208,3415.554,5241.1776,1025.332,473.3838,2912.875,5976.2208,687.1056,2984.1156,1255.033,3695.19,1068.609,1583.9382,661.1394,958.752,2836.308,5523.4768,972.068,3002.0922,1198.44,4566.0564,4402.9354,4819.7262,6033.4796,1537.998,2181.1608,4916.933,801.6232,1474.0812,3605.307,873.5296,575.2512,860.2136,40.6138,515.3292,2133.2232,2181.1608,2253.0672,746.3618,1482.0708,1272.3438,117.8466,4434.228,719.064,1263.0226,6114.7072,2167.8448,942.7728,1897.53,2631.2416,2978.1234,2332.9632,123.8388,1989.4104,2372.9112,1607.2412,958.752,197.0768,1198.44,2277.036,796.2968,525.982,3105.957,2826.9868,3153.2288,5369.0112,3448.844,1446.1176,1567.2932,1396.1826,1078.596,291.6204,554.6114,731.0484,4250.4672,1514.695,4054.722,3067.3406,2343.616,852.224,5350.3688,4119.3046,425.4462,2133.2232,5145.3024,1162.4868,165.7842,3547.3824,1211.756,2274.3728,4763.799,5033.448,1120.5414,2612.5992,4548.0798,5863.0348,254.3356,2713.135,447.4176,1631.8758,5331.7264,3563.3616,1603.2464,2709.806,4086.0146,1705.7796,1402.1748,7168.6686,962.7468,1281.665,426.112,1764.37,1701.7848,4357.661,3207.8244,732.38,6751.212,306.268,8239.9408,193.082,1209.7586,3878.285,2693.8268,649.155,4777.7808,1416.8224,2422.1804,2914.8724,2380.9008,1556.6404,689.103,373.5138,539.298,1612.5676,559.272,179.766,763.0068,756.3488,181.0976,6029.4848,3083.9856,113.186,2087.9488,2535.3664,1789.6704,4687.232,3425.541,1657.842,3101.2964,1347.5792,2270.378,2556.672,3779.0808,1505.3738,782.9808,480.7076,1911.5118,642.497,1470.0864,159.792,6309.7866,633.8416,3091.9752,1637.868,805.618,3767.0964,529.311,645.1602,849.5608,1328.271,2010.716,4364.9848,792.302,2804.3496,4290.4152,37.2848,2659.871,5406.296,930.1226,1826.9552,1145.176,3150.5656,253.6698,1779.0176,1185.7898,467.3916,1414.1592,1518.024,3034.0506,666.4658,181.0976,210.3928,1662.5026,3791.0652,402.809,749.025,2516.724,5556.7668,1022.6688,525.3162,1576.6144,392.822,5257.1568,4447.544,5652.642,3033.3848,780.9834,2474.7786,101.2016,3929.5516,564.5984,1245.046,151.8024,825.592,2696.49,1231.73,939.4438,2090.612,2801.6864,3364.9532,2343.616,1808.9786,992.042,5768.4912,970.7364,3568.688,3533.4006,6157.3184,4729.8432,9371.8008,1949.4624,4633.968,4211.185,1970.768,3372.9428,934.7832,3375.606,2388.2246,780.3176,102.5332,1713.7692,1605.9096,717.0666,1381.535,215.7192,1076.5986,2931.5174,4211.185,1830.95,939.4438,1856.2504,115.8492,4613.994,1431.47,490.0288,366.19,611.2044,2163.85,575.2512,498.0184,661.8052,5294.4416,1208.427,838.908,660.4736,3928.22,452.744,782.315,2580.6408,1537.998,1687.1372,3115.944,2348.9424,262.991,3542.7218,4701.8796,1768.3648,519.324,1677.816,164.4526,1108.557,4350.3372,1312.9576,659.142,910.8144,2409.5302,2648.5524,1065.28,798.96,3062.0142,774.9912,4958.8784,697.7584,2768.3964,2591.2936,755.0172,354.2056,479.376,1607.2412,1053.2956,1922.8304,1677.1502,1113.2176,1518.024,2406.2012,2069.3064,3621.2862,4969.5312,1245.046,5243.8408,934.7832,521.9872,4578.0408,1062.6168,2579.975,165.1184,459.402,1504.0422,5126.66,2616.594,842.237,1223.0746,755.683,1953.4572,288.9572,2976.7918,2675.1844,755.0172,410.1328,387.4956,3635.268,1323.6104,2942.836,4379.6324,2936.178,600.5516,8851.1452,2428.8384,3813.7024,2556.672,1255.033,2769.728,1571.288,188.4214,1022.6688,3744.4592,2749.754,480.7076,969.4048,4933.578,2720.4588,4527.44,3123.9336,2857.6136,1454.773,1992.0736,1728.4168,2311.6576,7478.2656,593.8936,452.744,856.8846,984.7182,2037.348,149.805,473.3838,293.6178,5105.3544,3010.7476,986.7156,458.0704,589.233,283.6308,1935.4806,1569.9564,437.4306,1717.764,1304.968,784.3124,1816.3024,2070.638,2184.4898,1922.8304,633.8416,2269.0464,1209.7586,1205.098,3338.987,227.7036,4680.574,695.0952,579.246,1478.076,694.4294,703.0848,4514.124,206.398,589.233,3169.208,2490.092,1151.1682,3900.9222,6439.6176,1845.5976,934.7832,3202.498,2684.5056,221.0456,2439.4912,596.5568,2227.101,5159.2842,1366.2216,8604.7992,378.1744,711.0744,1061.951,1004.0264,609.207,3558.0352,2025.3636,1864.24,1907.517,5660.6316,607.2096,1024.6662,3169.208,2740.4328,640.4996,1960.1152,2067.309,231.6984,253.004,131.1626,2153.1972,5383.6588,1724.422,3615.294,168.4474,2999.429,4165.2448,1134.5232,2888.2404,2696.49,53.9298,113.8518,2287.023,555.2772,1120.5414,719.064,437.4306,2050.664,1214.4192,2059.9852,3672.5528,3089.312,815.605,61.2536,1278.336,1528.011,129.831,1301.639,1844.9318,5068.7354,1095.241,307.5996,1295.6468,2607.2728,3455.502,2345.6134,197.7426,1761.7068,1905.5196,3086.6488,1060.6194,4653.942,3339.6528,2439.4912,1379.5376,897.4984,1404.838,615.1992,1069.2748,4101.328,4793.76,1138.518,2771.7254,1948.1308,5206.556,173.7738,73.238,3415.554,3803.0496,3961.51,1384.1982,1251.704,1821.6288,5141.3076,3205.1612,1720.4272,3418.883,4374.306,782.315,1685.8056,153.7998,4101.328,3453.5046,1179.1318,1004.0264,419.454,3845.6608,2024.032,1956.1204,1168.479,55.2614,2020.0372,3073.9986,1884.8798,1364.89,3193.1768,2336.958,370.1848,3756.4436,175.7712,3078.6592,2109.2544,3243.7776,71.9064,189.0872,2579.975,1486.0656,312.2602,4845.0266,171.7764,1834.279,2082.6224,2705.1454,3731.809,1592.5936,2125.2336,998.7,3673.8844,2099.9332,1225.072,3062.0142,4442.2176,4278.4308,631.1784,602.549,2797.6916,445.4202,2348.9424,1975.4286,1374.2112,2006.7212,352.874,908.817,6035.477,1379.5376,171.1106,2045.3376,1332.9316,2848.9582,1278.336,1491.392,195.7452,585.904,1133.8574,1186.4556,93.212,2836.308,3621.952,1761.041,1325.6078,3942.8676,3506.7686,3560.6984,5099.3622,2570.6538,2563.33,2187.153,2348.9424,1682.4766,4274.436,3185.1872,4580.704,1800.3232,517.3266,5668.6212,2125.2336,555.2772,1948.1308,188.4214,367.5216,601.2174,361.5294,2332.2974,4042.7376,1356.2346,948.765,782.9808,1192.4478,1701.7848,3153.2288,1042.6428,633.8416,213.056,312.926,3142.576,1696.4584,639.168,109.1912,796.9626,4687.232,3036.048,2372.9112,770.3306,663.1368,2167.8448,2749.754,3057.3536,1904.188,512.666,605.878,2826.321,3846.9924,557.2746,3542.056,2964.1416,2960.1468,490.0288,3611.2992,1378.206,3119.9388,2013.3792,4761.8016,7590.12,1326.2736,713.0718,982.055,2119.9072,4234.488,2396.88,5757.8384,1303.6364,599.22,3954.852,1050.6324,6503.5344,5972.226,1641.8628,2087.9488,3339.6528,2787.0388,2535.3664,8760.5964,1018.674,1789.6704,1382.2008,5259.82,1512.6976,2090.612,1211.756,1230.3984,1657.842,739.038,1105.228,2619.2572,2721.7904,6381.693,769.6648,1120.5414,1869.5664,1411.496,1941.4728,4301.068,343.5528,3998.7948,585.904,535.3032,1609.9044,649.155,2223.1062,2127.8968,4060.7142,3844.995,1832.2816,1310.2944,659.142,4402.2696,3643.2576,33.9558,4247.804,259.662,2607.2728,1372.2138,529.311,846.8976,2648.5524,1584.604,3629.2758,809.6128,117.8466,1611.236,2402.2064,4225.1668,139.818,4517.453,1573.9512,6796.4864,842.237,1277.0044,447.4176,1584.604,1685.8056,503.3448,3574.0144,1186.4556,3146.5708,6474.2392,745.696,1853.5872,3006.087,736.3748,3956.8494,1807.647,467.3916,3542.056,1949.4624,3344.9792,2684.5056,592.562,736.3748,211.7244,1279.0018,7201.2928,3103.9596,1522.0188,2101.9306,2972.1312,149.805,433.4358,4920.9278,1164.4842,846.8976,2812.3392,865.54,2946.165,3137.2496,1657.1762,3113.2808,1510.0344,1629.8784,690.4346,4447.544,5470.8786,2673.8528,3339.6528,502.0132,3038.7112,1288.9888,4354.332,3202.498,5976.2208,884.1824,3006.087,3282.394,1038.648,6306.4576,2693.8268,2524.0478,3643.2576,1438.128,4195.8716,1263.6884,2066.6432,1281.665,4016.1056,3672.5528,2127.231,2290.352,1258.362,4267.1122,102.5332,291.6204,2139.2154,1540.6612,1724.422,645.1602,3990.8052,1611.236,1116.5466,1203.7664,2999.429,3425.541,4579.3724,4134.618,3384.2614,453.4098,2097.27,6852.4136,1486.7314,3531.4032,1448.7808,1335.5948,2367.5848,2011.3818,6729.9064,1860.2452,3440.8544,1070.6064,1422.1488,129.831,3408.896,3139.9128,3704.5112,2656.542,193.082,1395.5168,3621.952,778.986,2465.4574,347.5476,966.7416,922.7988,1219.7456,747.0276,539.298,4460.1942,1018.674,2816.334,101.8674,2553.343,343.5528,365.5242,169.1132,4224.501,4063.3774,293.6178,3411.5592,2698.4874,425.4462,2588.6304,5901.6512,511.3344,2812.3392,2556.672,3504.1054,171.7764,535.3032,2470.118,525.982,4544.085,743.0328,4848.3556,2656.542,2840.9686,2956.152,1861.5768,4364.319,2797.6916,2759.0752,2431.5016,2530.7058,4761.8016,1229.0668,647.1576,261.6594,1686.4714,2996.1,4458.1968,2239.7512,2712.4692,592.562,2163.85,3275.736,679.116,988.713,1768.3648,1540.6612,2588.6304,3020.0688,2858.9452,3968.168,1737.738,175.7712,452.744,185.7582,934.7832,1765.7016,291.6204,1651.184,4563.3932,1494.0552,1419.4856,1291.652,7931.6754,595.2252,2026.0294,2603.278,2117.244,247.6776,256.333,2680.5108,3487.4604,2816.334,2050.664,1288.9888,3688.532,1644.526,5298.4364,2117.244,327.5736,1837.608,934.7832,308.9312,171.7764,1496.7184,525.982,3928.8858,161.7894,2636.568,3644.5892,6729.9064,2316.984,3302.368,2127.231,2862.94,3231.1274,237.6906,1022.6688,466.06,617.8624,113.186,3075.996,2067.309,4769.1254,243.6828,263.6568,945.436,1306.2996,1821.6288,1230.3984,1887.543,1318.284,186.424,995.371,1380.8692,905.488,1874.8928,6231.888,1837.608,289.623,2133.2232,2250.404,1480.7392,503.3448,1113.2176,6024.1584,4711.2008,152.4682,5851.0504,2251.0698,2796.36,611.2044,3390.2536,492.692,1669.8264,927.4594,6196.6006,744.3644,466.06,4137.2812,207.7296,2463.46,138.4864,1095.241,2258.3936,663.1368,2103.2622,4863.0032,6048.793,2239.0854,5273.136,5852.382,1629.8784,250.3408,180.4318,527.9794,2840.3028,1407.5012,589.233,796.9626,1657.842,1518.024,467.3916,885.514,3165.879,1847.595,491.3604,1808.9786,4506.1344,1705.7796,3113.2808,3020.0688,1779.0176,1185.124,6359.7216,2167.179,1737.738,2846.295,6114.7072,1576.6144,373.5138,1384.1982,473.3838,4697.8848,892.172,2376.906,2709.1402,1997.4,755.0172,2566.659,596.5568,2297.01,2886.9088,340.2238,828.921,3731.809,905.488,1411.496,173.108,399.48,982.055,2390.222,5382.993,2536.698,1941.4728,1448.115,1058.622,759.012,2093.2752,7142.7024,2428.8384,3828.35,431.4384,1733.7432,1034.6532,3174.5344,4604.6728,2820.9946,196.411,5715.2272,3119.9388,2471.4496,3835.008,1261.691,2285.0256,798.96,2125.2336,508.6712,1990.742,3103.9596,575.2512,157.1288,196.411,805.618,2548.6824,3868.9638,2143.2102,697.0926,2423.512,2406.867,1537.998,739.038,2063.98,1454.773,356.8688,3350.3056,1358.232,3731.809,3372.9428,774.9912,397.4826,3068.0064,3276.4018,143.8128,1362.2268,2143.876,1366.2216,1198.44,1757.712,4767.128,870.8664,1031.99,2025.3636,4902.9512,149.1392,2543.356,479.376,3101.2964,1707.777,864.2084,4910.275,1257.0304,243.017,5001.4896,4314.384,843.5686,2073.3012,1230.3984,1693.7952,639.168,4745.8224,3079.9908,5466.8838,2651.2156,2103.928,1090.5804,2141.2128,2145.2076,419.454,591.8962,2501.4106,850.8924,2679.845,3611.2992,3439.5228,727.0536,5695.2532,4762.4674,265.6542,852.224,735.709,1151.1682,2223.1062,1857.582,675.1212,155.1314,1185.124,1697.79,2721.7904,4920.9278,351.5424,856.8846,284.9624,838.908,5920.2936,147.8076,135.8232,651.8182,2103.928,2458.1336,6411.654,1655.1788,2956.152,1833.6132,894.8352,2852.2872,105.8622,1987.413,118.5124,2137.218,1569.9564,531.3084,2224.4378,295.6152,382.1692,1348.245,4578.0408,3761.77,2616.594,3709.8376,34.6216,142.4812,572.588,1749.7224,2736.438,701.7532,1310.2944,1203.7664,1552.6456,4301.068,3110.6176,1608.5728,1705.1138,1018.0082,3103.9596,982.7208,1736.4064,2293.0152,3691.1952,378.1744,6893.0274,279.636,6093.4016,187.7556,792.302,2233.0932,497.3526,4274.436,1239.7196,774.9912,7534.1928,2336.958,607.2096,223.7088,7843.124,1686.4714,3844.995,2541.3586,2886.243,3315.0182,5681.2714,2694.4926,529.311,3896.2616,3427.5384,9467.676,1618.5598,109.1912,978.726,952.094,501.3474,70.5748,250.3408,2365.5874,2695.1584,87.2198,1004.0264,2947.4966,3103.9596,886.8456,199.74,459.402,1146.5076,479.376,2746.425,4159.9184,1171.808,1829.6184,3415.554,3361.6242,663.1368,1437.4622,2603.278,2090.612,2073.3012,5772.486,3844.995,2147.205,1577.946,1966.7732,3292.381,2719.793,5496.8448,3858.9768,2306.997,1139.8496,1757.712,564.5984,808.947,3941.536,1845.5976,2863.6058,852.224,457.4046,256.333,2034.019,1278.336,1366.2216,2940.1728,885.514,2316.984,8912.3988,2847.6266,1725.7536,420.7856,5800.4496,3448.844,2175.1686,2036.6822,683.1108,63.251,455.4072,2348.9424,2090.612,3430.2016,2885.5772,1488.7288,663.1368,251.6724,2889.572,1498.05,3528.74,3861.64,353.5398,4756.4752,801.6232,1821.6288,1524.0162,4414.254,1142.5128,1035.9848,3280.3966,3199.8348,780.9834,2553.343,834.9132,2748.4224,1761.7068,2283.0282,387.4956,4789.7652,2828.3184,2024.032,1603.9122,3981.484,4146.6024,3395.58,2040.0112,3554.7062,539.298,3901.588,311.5944,189.753,219.0482,2606.607,6757.87,642.497,5386.9878,4073.3644,181.0976,7247.233,2255.7304,1486.7314,117.1808,1530.6742,2414.1908,814.9392,2530.7058,3677.2134,852.224,2873.5928,323.5788,3605.307,4604.6728,985.384,1528.011,1813.6392,1416.8224,3266.4148,1274.3412,1388.8588,7503.566,774.9912,818.934,5892.33,4950.8888,3693.8584,805.618,4349.0056,1597.92,777.6544,722.393,6291.81,3365.619,49.2692,3974.826,1677.816,671.1264,2745.0934,519.324,1231.73,2931.5174,7247.233,1631.21,890.8404,567.2616,1105.228,942.7728,960.7494,1544.656,3318.3472,3185.1872,1659.1736,5752.512,4586.0304,2646.555,471.3864,1150.5024,119.1782,4925.5884,157.1288,1025.332,759.012,207.7296,5753.8436,2091.2778,3219.8088,3532.7348,3440.8544,3453.5046,59.2562,428.7752,801.6232,8138.7392,1416.8224,759.012,715.0692,3206.4928,2770.3938,1780.3492,234.3616,1794.331,1314.2892,308.9312,1938.8096,4097.3332,5396.9748,1491.392,47.9376,894.8352,3515.424,2306.997,1618.5598,3430.2016,2069.3064,4647.284,1917.504,284.9624,1346.2476,2252.4014,6033.4796,2336.958,2956.152,1547.3192,291.6204,2797.6916,2614.5966,4386.2904,6391.68,3495.45,5033.448,4578.0408,998.7,3478.805,2013.3792,1398.18,472.718,632.51,1543.3244,1528.011,2109.2544,1017.3424,2821.6604,621.1914,2330.3,1662.5026,1661.8368,527.9794,299.61,1651.184,1470.0864,1277.0044,857.5504,1890.2062,103.199,418.1224,1006.6896,3281.0624,2886.243,3046.7008,628.5152,223.7088,1315.6208,1336.9264,2157.192,2460.7968,463.3968,1583.9382,3494.1184,913.4776,3572.017,2241.0828,3048.6982,3713.1666,355.5372,2257.062,1198.44,275.6412,2277.036,4228.4958,199.74,3739.1328,352.874,2684.5056,1354.2372,1757.712,727.0536,527.3136,838.908,1164.4842,1312.2918,834.9132,3962.8416,4845.0266,1416.8224,1127.8652,97.2068,120.5098,2376.906,1458.102,3403.5696,441.4254,2526.0452,2059.9852,1001.3632,141.8154,285.6282,7033.5112,2679.845,2580.6408,2878.2534,6242.5408,340.2238,2050.664,7334.4528,67.9116,2546.685,4207.856,1947.465,1168.479,1717.764,1549.3166,1566.6274,3179.8608,296.9468,562.601,1102.5648,1845.5976,2466.789,1843.6002,5141.3076,1174.4712,2684.5056,2535.3664,2918.8672,552.614,3418.883,1467.4232,679.116,88.5514,427.4436,3778.415,5069.4012,3874.2902,3571.3512,1701.7848,1757.712,127.1678,1238.388,2050.664,1150.5024,802.9548,3202.498,4619.9862,2153.1972,715.0692,1964.7758,1262.3568,2302.3364,1109.2228,2561.9984,4426.2384,2246.4092,4133.2864,3978.155,460.7336,918.804,1965.4416,1022.6688,4492.8184,1523.3504,1414.1592,1518.024,2816.334,506.008,1761.7068,186.424,3187.8504,2153.1972,824.9262,772.328,755.0172,4633.968,2956.152,1964.11,3150.5656,645.1602,1428.141,1821.6288,5500.8396,223.7088,303.6048,666.4658,1337.5922,1158.492,420.7856,1789.6704,1687.1372,2109.2544,3894.93,535.969,6972.2576,2918.8672,2366.919,225.0404,6458.26,3205.1612,1042.6428,5145.3024,948.765,4255.7936,4122.6336,459.402,1384.1982,288.9572,4579.3724,2460.7968,348.8792,85.8882,3983.4814,599.22,1113.2176,3866.9664,4633.968,1071.938,4202.5296,2087.283,1208.427,4649.9472,1707.777,545.956,2388.8904,410.1328,473.3838,932.12,3872.9586,5546.114,1771.028,755.0172,2220.443,1090.5804,1877.556,2994.7684,5452.902,542.627,857.5504,1238.388,110.5228,5522.811,5512.824,4815.0656,4414.9198,1106.5596,1054.6272,1284.994,1780.3492,1977.426,3056.022,2352.9372,5195.2374,731.0484,1050.6324,2101.2648,203.7348,2432.8332,3739.1328,199.74,1977.426,5728.5432,1398.8458,801.6232,1667.1632,644.4944,3323.0078,3350.3056,540.6296,2006.0554,1298.31,2466.789,2407.5328,1518.024,1867.569,2725.7852,4554.072,3835.008,2528.7084,758.3462,1402.1748,1006.6896,918.804,5660.6316,6851.082,1448.7808,99.87,986.7156,1733.7432,265.6542,6641.355,527.3136,2510.066,3678.545,1926.1594,5331.7264,2826.9868,2759.0752,218.3824,1808.3128,3271.7412,2527.3768,856.8846,330.2368,1458.102,4456.1994,4673.916,1924.162,302.939,209.727,1904.188,2004.058,3149.234,3297.7074,1488.7288,460.7336,2897.5616,591.2304,918.804,1808.9786,2812.3392,1165.15,711.0744,2972.1312,1605.9096,1323.6104,351.5424,2197.14,804.9522,2105.2596,3068.0064,5400.9696,1102.5648,2956.152,1601.249,759.012,6338.416,1166.4816,4595.3516,390.1588,778.986,2544.6876,4474.176,3289.052,2059.9852,852.8898,4258.4568,1534.0032,3257.7594,5681.2714,1765.0358,2763.07,2940.1728,2854.9504,1238.388,1928.1568,2749.754,2739.1012,5093.37,972.068,559.272,4952.8862,3621.2862,774.9912,1318.284,918.804,101.2016,7350.432,1390.1904,1312.9576,6507.5292,2036.6822,3595.32,2460.7968,4560.73,543.2928,2384.8956,543.2928,3135.918,2695.1584,1007.3554,1518.024,2556.672,3528.74,163.7868,2712.4692,1058.622,4933.578,1454.1072,671.1264,4757.8068,146.476,3529.4058,2390.8878,438.0964,229.701,439.428,2529.3742,209.727,415.4592,3795.06,1970.768,48.6034,4904.2828,820.2656,1235.059,4452.8704,810.9444,683.1108,8063.5038,2451.4756,1619.2256,423.4488,1984.7498,5299.768,320.9156,2548.6824,1950.794,2492.7552,1038.648,7580.133,3383.5956,1837.608,4580.704,5000.8238,4781.7756,4821.7236,1896.1984,2281.6966,3408.896,1822.2946,515.3292,173.108,569.259,2878.2534,1162.4868,669.129,2326.971,4769.1254,964.0784,91.8804,2277.036,2570.6538,1677.1502,4334.358,822.263,1569.9564,4233.1564,1984.084,938.778,761.0094,2490.092,2010.716,3998.7948,2886.243,3036.048,5552.1062,8958.339,3523.4136,3006.087,1324.2762,495.3552,196.411,1346.9134,78.5644,2642.5602,5267.8096,402.1432,207.0638,3567.3564,2069.3064,862.8768,770.3306,177.1028,3271.0754,5451.5704,4349.0056,3368.948,2050.664,3563.3616,4604.6728,1571.288,2988.1104,4074.696,3109.9518,2281.6966,3663.2316,3271.7412,1621.8888,1128.531,2109.2544,968.739,3091.9752,3133.2548,2037.348,563.2668,1304.968,483.3708,2805.0154,1060.6194,1325.6078,4502.1396,2889.572,3797.7232,2476.776,2182.4924,1895.5326,3050.6956,3185.1872,916.1408,121.8414,215.7192,2972.1312,875.527,2649.884,745.696,1436.7964,3558.0352,2807.0128,2776.386,2703.148,1686.4714,1754.383,1524.682,316.255,5031.4506,2969.468,1787.0072,1086.5856,3568.688,255.6672,1560.6352,5053.422,1957.452,1158.492,2692.4952,1743.0644,1435.4648,671.1264,703.0848,1559.9694,1773.6912,4364.319,249.0092,383.5008,2101.2648,2348.9424,1657.842,6705.2718,1525.3478,1464.76,3837.0054,1073.2696,2010.716,2189.1504,4540.756,2014.045,1230.3984,1454.1072,308.9312,639.168,2908.2144,1691.7978,6849.0846,1733.7432,175.7712,6072.096,2330.3,1386.1956,7136.7102,296.281,1545.9876,2556.672,2028.6926,2450.144,1906.8512,5033.448,1777.686,3677.2134,945.436,182.4292,1675.1528,3307.6944,1779.0176,311.5944,343.5528,3302.368,4250.4672,759.012,245.6802,1561.9668,1358.232,2821.6604,6199.9296,6867.0612,183.7608,622.523,122.5072,2749.754,958.752,1444.1202,615.1992,1472.7496,7170.666,2446.815,569.259,4794.4258,1438.128,1304.968,2184.4898,1621.8888,5033.448,3036.048,3020.0688,1545.9876,210.3928,1023.3346,4613.994,1201.1032,1505.3738,585.904,2900.2248,3078.6592,3415.554,1896.1984,2936.178,2450.144,1295.6468,2492.7552,2603.278,3159.8868,1154.4972,1145.176,2278.3676,1901.5248,551.2824,1133.8574,1330.2684,3705.177,1151.1682,40.6138,467.3916,4725.8484,3327.6684,1347.5792,4124.631,3485.463,1749.7224,131.8284,237.6906,693.0978,225.7062,1895.5326,3994.8,2693.8268,2931.5174,3214.4824,1414.825,2085.9514,3203.1638,322.2472,1182.4608,555.2772,785.644,2077.296,755.0172,747.0276,3483.4656,5182.5872,1886.8772,1211.756,203.7348,1895.5326,552.614,1201.769,892.8378,1592.5936,3795.06,882.8508,6471.576,1609.9044,585.904,4602.0096,466.06,591.8962,4500.808,4250.4672,1342.2528,1278.336,3197.1716,3020.0688,980.0576,2960.1468,529.9768,2972.797,3098.6332,110.5228,591.2304,529.311,6331.758,703.0848,1315.6208,1947.465,1810.976,4327.7,5070.7328,480.7076,3353.6346,1640.5312,89.883,1749.7224,3374.2744,180.4318,4857.6768,2269.0464,1406.1696,596.5568,539.298,3392.9168,123.8388,238.3564,2563.33,918.804,4586.0304,635.1732,637.1706,322.2472,4346.3424,3285.723,2619.2572,1318.284,221.7114,4623.3152,1771.028,107.8596,579.246,4068.038,1794.331,700.4216,1239.7196,2150.534,517.3266,2239.0854,347.5476,2233.0932,3089.312,3675.216,2516.724,2090.612,1861.5768,6114.7072,3094.6384,5089.3752,1960.781,183.7608,2596.62,1749.7224,1310.9602,2708.4744,1097.9042,5609.365,428.7752,534.6374,1722.4246,1989.4104,1845.5976,2467.4548,1725.7536,1761.7068,2871.5954,2117.244,3815.034,739.038,625.852,4207.856,4828.3816,2450.144,1135.189,1659.1736,3950.1914,1123.2046,5866.3638,1686.4714,1216.4166,2543.356,2120.573,1038.648,3916.2356,1629.8784,2649.2182,221.0456,3874.2902,647.1576,1605.9096,7064.8038,986.7156,1263.0226,1445.4518,1182.4608,2071.3038,5141.3076,575.2512,1104.5622,1505.3738,2912.2092,5522.811,2775.7202,619.194,256.9988,2297.01,2621.9204,790.9704,2976.126,1115.215,309.597,2237.088,2694.4926,234.3616,3089.9778,476.047,1076.5986,633.8416,1549.9824,4082.6856,3448.844,1159.8236,958.752,299.61,2428.8384,3215.814,327.5736,856.8846,3169.208,1406.1696,744.3644,3605.307,262.991,2966.139,383.5008,394.1536,534.6374,5000.8238,1667.829,2439.4912,5034.7796,2087.9488,2157.192,374.1796,1201.769,1725.7536,7028.1848,1970.768,5274.4676,225.7062,1817.634,5725.88,5238.5144,2141.2128,796.9626,264.9884,1938.8096,1444.1202,2992.771,1150.5024,1491.392,1737.738,1904.188,508.6712,4396.9432,1604.578,894.8352,3271.0754,1629.8784,764.3384,126.502,228.3694,2628.5784,3516.7556,653.1498,2406.867,1069.2748,1976.0944,1368.219,355.5372,1001.3632,1644.526,1619.2256,3453.5046,1411.496,3238.4512,2316.984,1240.3854,265.6542,2716.464,639.168,2649.884,852.224,449.415,2303.668,89.883,1263.0226,2277.7018,322.913,1295.6468,2396.88,5487.5236,4637.9628,1981.4208,872.8638,175.7712,1962.7784,2025.3636,1874.8928,2348.9424,3020.7346,4655.2736,1747.0592,2812.3392,1850.924,45.9402,1571.288,2783.044,3200.5006,2316.984,491.3604,233.03,476.047,3173.8686,790.9704,153.134,3369.6138,2348.9424,2002.0606,2101.2648,3379.6008,494.0236,5759.17,1404.1722,1018.674,624.5204,1518.024,1379.5376,1180.4634,857.5504,982.7208,958.752,1693.7952,1874.8928,3648.584,2016.7082,1358.232,1031.99,774.9912,1267.6832,671.1264,323.5788,1837.608,190.4188,2865.6032,1596.5884,2125.2336,1537.998,1255.033,310.2628,1208.427,36.619,1022.6688,2666.529,718.3982,4266.4464,2360.9268,934.7832,2833.6448,1733.0774,1755.7146,561.9352,1803.6522,1145.176,3723.8194,1895.5326,37.9506,259.662,3630.6074,3560.6984,549.285,773.6596,878.856,2741.0986,2098.6016,9779.9362,203.7348,517.3266,3782.4098,425.4462,1947.465,3075.996,3930.8832,41.9454,591.2304,2796.36,1765.0358,3295.71,3338.987,1166.4816,865.54,6855.0768,5153.292,1246.3776,4138.6128,2694.4926,196.411,1342.2528,3099.9648,4541.4218,5106.686,111.1886,1794.331,1853.5872,1625.8836,1090.5804,2892.2352,170.4448,551.2824,978.726,2992.771,1480.0734,2862.94,681.7792,5690.5926,185.7582,1416.8224,5580.0698,905.488,2856.282,347.5476,3962.8416,6040.1376,1323.6104,5704.5744,1114.5492,1006.6896,690.4346,2516.724,1038.648,1208.427,522.653,9251.9568,525.982,2048.6666,10993.6896,39.948,2482.1024,1635.8706,3383.5956,1426.1436,4327.7,3579.3408,2693.8268,1957.452,2931.5174,5438.9202,509.337,1201.769,2564.6616,1411.496,1291.652,4042.7376,5201.2296,2863.6058,1078.596,1846.9292,476.047,2696.49,194.4136,535.3032,2546.685,195.7452,111.8544,6478.234,605.878,2976.7918,5880.3456,889.5088,3435.528,1110.5544,2586.633,1906.8512,2586.633,1378.206,89.883,683.1108,1348.245,111.8544,4514.124,937.4464,2458.1336,4745.8224,3466.1548,2503.408,3089.9778,1342.2528,3938.8728,2021.3688,170.4448,1927.491,873.5296,421.4514,587.2356,280.9676,878.856,6636.6944,1779.6834,492.692,3900.9222,3435.528,5219.872,4913.604,4149.9314,2530.7058,1837.608,2131.2258,2916.204,1528.6768,2934.8464,3171.8712,998.7,1105.8938,918.804,575.2512,3739.1328,2684.5056,2712.4692,4567.388,5480.8656,5033.448,2581.9724,2456.802,227.7036,2120.573,407.4696,230.3668,1286.3256,2189.1504,1859.5794,1744.396,2246.4092,4106.6544,186.424,181.0976,778.986,2947.4966,1918.8356,3705.177,1283.6624,3410.2276,1284.994,785.644,1518.024,2245.0776,4427.57,1230.3984,1174.4712,493.3578,2570.6538,980.0576,2609.936,1395.5168,3426.2068,7028.8506,1402.1748,164.4526,2085.9514,365.5242,4607.336,1091.2462,3395.58,1797.66,517.9924,4093.3384,2804.3496,3797.7232,5690.5926,3235.788,1579.9434,1901.5248,4621.9836,782.9808,755.0172,1406.1696,1194.4452,402.809,127.1678,2436.828,4532.7664,4649.9472,4873.656,1246.3776,5233.188,5229.1932,3075.996,1332.2658,2526.711,158.4604,1697.79,5351.0346,1743.0644,340.2238,2770.3938,508.6712,210.3928,1617.894,5773.1518,383.5008,1090.5804,1283.6624,4379.6324,3237.1196,331.5684,1041.977,3338.987,2302.3364,3111.9492,2011.3818,3374.2744,2013.3792,1895.5326,1853.5872,2693.8268,1384.1982,2706.477,1162.4868,865.54,479.376,5469.547,3877.6192,624.5204,652.484,2844.2976,1324.942,1406.1696,5303.097,2105.2596,3835.008,5195.2374,194.4136,6079.4198,1669.8264,815.605,1328.271,679.116,966.7416,3593.3226,400.8116,1887.543,96.541,2476.776,1854.9188,2162.5184,666.4658,351.5424,181.0976,2183.824,2065.3116,4697.8848,1846.9292,1665.8316,591.2304,143.147,6201.927,972.068,3419.5488,679.116,1104.5622,1777.686,2303.668,1965.4416,1955.4546,407.4696,1384.864,1504.0422,2570.6538,1245.046,3495.45,743.0328,982.7208,1376.2086,2053.3272,3159.8868,191.7504,1543.3244,1029.9926,1800.3232,399.48,2916.204,3719.1588,5273.136,3354.3004,3428.2042,7150.692,161.1236,4602.6754,3695.19,377.5086,1787.0072,3139.9128,2285.0256,4660.6,679.116,3773.7544,1049.9666,1864.24,307.5996,527.3136,2406.867,123.8388,1826.2894,3323.0078,3453.5046,2103.928,243.6828,1235.7248,3685.8688,463.3968,1038.648,1534.0032,3551.3772,3149.234,4727.18,5000.8238,447.4176,1151.1682,3083.9856,2554.0088,3364.9532,215.7192,3984.813,2187.153,372.848,540.6296,3169.208,4326.3684,2221.1088,1225.072,1438.128,3235.788,1041.3112,890.8404,2363.59,2696.49,4530.1032,2117.244,2048.6666,3215.814,1225.072,1378.206,94.5436,439.428,1047.3034,543.2928,2586.633,952.7598,1211.756,2342.9502,3207.8244,1691.132,2432.8332,2890.9036,167.7816,1382.2008,2659.871,97.2068,1599.9174,1797.66,1459.4336,351.5424,708.4112,7741.9224,1186.4556,487.3656,3225.801,2251.0698,8262.578,1946.7992,6327.7632,2313.655,3355.632,1619.2256,2463.46,687.1056,3815.034,966.7416,2025.3636,4119.9704,197.0768,2856.282,4262.4516,2534.0348,2371.5796,782.9808,6831.108,2759.0752,2220.443,2106.5912,1901.5248,1514.695,41.9454,4306.3944,3486.1288,455.4072,2892.2352,2830.3158,2782.3782,1905.5196,602.549,2508.7344,264.9884,3182.524,37.9506,4326.3684,2093.941,592.562,1145.176,319.584,1725.7536,3044.7034,1398.18,303.6048,1917.504,3048.6982,2277.036,5896.3248,4086.0146,968.739,1618.5598,2302.3364,1713.7692,945.436,1896.1984,2759.0752,1006.6896,2805.0154,2153.1972,4460.1942,1605.9096,4012.1108,3361.6242,4278.4308,3263.7516,2660.5368,908.1512,1198.44,1833.6132,756.3488,3793.7284,353.5398,1557.972,2553.343,2812.3392,1105.8938,1304.968,2519.3872,2817.6656,2024.032,4207.856,2756.412,3167.8764,1765.7016,4314.384,529.311,4206.5244,253.004,3057.3536,8413.0488,3131.9232,2283.0282,5896.3248,515.3292,3375.606,3559.3668,1669.8264,585.2382,2784.3756,306.268,2548.6824,2061.3168,5475.5392,3331.6632,3467.4864,3003.4238,258.3304,4333.6922,1148.505,2444.8176,663.1368,4488.1578,1382.2008,4432.2306,3795.06,814.9392,454.0756,488.6972,3237.1196,1059.9536,4199.8664,1884.8798,3523.4136,2105.2596,1874.8928,2628.5784,3440.8544,1687.1372,2063.98,91.8804,1617.894,4538.0928,2323.642,4483.4972,419.454,4434.228,1965.4416,2109.2544,2290.352,3175.866,2376.906,5683.2688,1544.656,2165.1816,3012.745,1547.3192,1125.8678,1528.6768,858.882,3998.7948,279.636,902.8248,4026.7584,2410.8618,2098.6016,509.337,2492.0894,1161.1552,6291.81,3036.048,2876.256,102.5332,2078.6276,3266.4148,671.1264,3146.5708,3251.1014,3585.333,405.4722,1923.4962,2852.2872,4380.2982,3934.878,5313.084,722.393,1607.2412,1438.128,722.393,113.8518,1043.9744,335.5632,4029.4216,856.8846,1640.5312,3924.891,3691.1952,2055.9904,2059.9852,802.9548,2940.1728,4302.3996,498.0184,2220.443,2354.2688,2914.8724,2246.4092,2752.4172,335.5632,2792.3652,1032.6558,1211.756,5635.3312,1697.79,1018.674,1749.7224,10256.649,1829.6184,1181.795,6608.065,2828.3184,1565.9616,830.9184,1006.6896,4570.0512,398.1484,1413.4934,5727.2116,3439.5228,4986.842,2290.352,1794.331,4673.916,735.0432,93.8778,5267.1438,729.051,127.1678,1288.323,3588.662,4853.682,6704.606,2087.283,6595.4148,778.986,2524.0478,3175.866,341.5554,249.0092,4579.3724,2326.971,3515.424,376.8428,47.2718,163.7868,743.0328,1500.7132,2036.0164,3870.9612,1426.1436,2460.7968,5888.3352,828.921,2569.3222,529.311,3658.571,210.3928,1265.02,229.0352,162.4552,2221.1088,352.874,2175.8344,1403.5064,2143.876,296.281,1981.4208,2588.6304,2906.217,1973.4312,452.744,2428.8384,1721.093,83.8908,4566.7222,298.2784,5359.69,111.8544,974.0654,9664.7528,5834.4054,1422.1488,1687.803,2285.0256,1508.037,3146.5708,432.77,4096.6674,1444.786,5410.9566,355.5372,1342.2528,1104.5622,2077.296,3630.6074,2446.815,1784.344,1569.9564,4811.7366,4870.9928,3367.6164,1464.76,667.1316,3475.476,2306.997,455.4072,615.1992,1569.9564,453.4098,8508.924,1177.1344,331.5684,2292.3494,4870.327,914.8092,1239.7196,1810.976,2324.9736,1973.4312,1438.128,4221.8378,4247.804,950.7624,1621.8888,1701.7848,2302.3364,3095.97,4146.6024,2596.62,3155.892,3579.3408,1342.2528,425.4462,1201.1032,2864.9374,3813.7024,1589.2646,3848.324,619.8598,1491.392,120.5098,2546.685,1328.271,519.324,703.0848,3422.212,2079.9592,1133.1916,4908.2776,527.3136,1550.6482,3052.0272,3954.852,978.726,4094.67,721.0614,4795.0916,3339.6528,1843.6002,2659.871,5992.2,2645.2234,592.562,593.2278,1414.825,1471.418,524.6504,502.0132,567.2616,2946.165,3338.987,2940.1728,623.1888,1030.6584,1805.6496,114.5176,4504.8028,3451.5072,2492.7552,402.809,2600.6148,2716.464,2386.2272,8028.8822,1314.2892,4136.6154,3004.0896,2656.542,2748.4224,337.5606,2631.2416,2557.3378,2376.906,2597.2858,319.584,492.692,2796.36,669.129,980.0576,1342.2528,2782.3782,327.5736,1576.6144,2916.204,3022.732,1071.938,792.302,3225.1352,1895.5326,3155.892,229.701,191.0846,894.8352,331.5684,1174.4712,1864.24,1733.0774,1061.951,1037.3164,219.0482,2388.8904,2406.2012,1442.1228,1230.3984,159.1262,1829.6184,4567.388,2745.0934,4211.185,2916.204,984.7182,3004.0896,351.5424,631.8442,4138.6128,2892.901,1832.2816,1752.3856,656.4788,3845.6608,229.0352,732.38,847.5634,539.298,1635.8706,2450.144,1845.5976,3427.5384,5084.0488,4837.7028,639.168,2587.9646,1470.0864,2428.8384,3745.125,2516.724,3185.1872,988.0472,1757.712,2519.3872,1510.0344,337.5606,6026.8216,2909.546,761.6752,809.6128,123.8388,1459.4336,107.8596,768.999,2746.425,4374.306,205.0664,354.2056,1506.0396,1800.3232,1518.024,1325.6078,458.0704,1534.0032,905.488,2267.7148,3263.7516,2954.1546,2106.5912,683.1108,282.2992,1701.7848,1358.232,607.2096,1685.8056,2302.3364,2750.4198,981.3892,1442.7886,7646.0472,1539.9954,243.6828,359.532,4242.4776,2354.2688,2458.1336,2127.231,8388.4142,2799.689,1797.66,2460.7968,2700.4848,4026.7584,1301.639,44.6086,5394.9774,3946.8624,1438.128,3652.5788,3621.2862,529.311,1314.955,2804.3496,3894.93,388.1614,583.2408,3476.1418,3630.6074,388.1614,1298.31,1404.1722,1948.1308,3418.883,2153.1972,1310.2944,3251.7672,1150.5024,980.0576,2783.044,1228.401,591.2304,133.8258,578.5802,3769.7596,1672.4896,12117.56,549.285,6574.775,490.0288,2106.5912,866.8716,2759.0752,1921.4988,2588.6304,703.0848,3751.783,1504.708,2648.5524,6358.39,4725.8484,3199.8348,1948.1308,1257.0304,531.3084,1038.648,850.8924,5355.0294,2924.1936,1245.046,1713.7692,3709.8376,670.4606,3599.3148,652.484,1126.5336,5645.984,3974.826,4261.12,1992.7394,2334.9606,2299.6732,1202.4348,2900.2248,810.9444,6189.2768,2057.9878,1069.2748,2768.3964,2073.967,1006.6896,1323.6104,614.5334,183.095,2127.8968,1444.786,3279.065,5424.9384,1859.5794,2055.3246,1332.9316,878.856,2514.0608,1428.141,6021.4952,612.536,1537.998,392.822,222.3772,2783.7098,792.302,2376.906,768.999,316.9208,3962.8416,6723.2484,701.7532,1071.938,767.0016,3159.8868,652.484,2884.2456,4828.3816,3520.0846,906.8196,4376.9692,639.168,3162.55,2633.9048,1054.6272,3781.744,638.5022,593.2278,115.1834,1959.4494,1840.937,750.3566,750.3566,7685.9952,1768.3648,3472.147,540.6296,1596.5884,1024.6662,205.0664,6096.0648,3289.052,699.09,6207.9192,3950.1914,1331.6,3062.0142,4294.41,399.48,739.038,101.2016,4042.7376,2764.4016,339.558,3089.9778,1231.73,109.857,892.172,5049.4272,1018.674,2540.6928,3215.814,135.8232,3089.9778,2836.308,703.0848,2527.3768,282.2992,679.116,6528.169,2586.633,790.9704,272.978,1091.912,1158.492,5327.0658,4288.4178,4119.9704,4566.7222,1750.3882,1006.6896,1435.4648,3903.5854,4685.9004,111.1886,2596.62,41.2796,1999.3974,2707.1428,1427.4752,191.0846,3819.0288,47.9376,1444.786,5275.7992,985.384,1065.28,926.7936,2768.3964,2841.6344,3020.0688,5797.7864,4012.7766,2929.52,191.0846,2157.192,4965.5364,2848.9582,6145.334,1960.781,790.9704,367.5216,1821.6288,1737.738,2241.7486,61.9194,3681.874,2802.3522,649.155,1078.596,1390.1904,2624.5836,447.4176,2929.52,1665.8316,1571.288,1917.504,3904.917,2316.984,685.1082,3705.8428,6474.2392,150.4708,3629.9416,6759.2016,2045.3376,4729.8432,866.8716,3179.195,2149.2024,4604.6728,2581.9724,2484.7656,5329.0632,4141.276,44.6086,2332.9632,1118.544,1576.6144,2910.2118,2852.2872,3372.9428,1281.665,2127.231,767.0016,293.6178,1038.648,1581.9408,3444.8492,1695.1268,545.2902,162.4552,6207.9192,97.2068,675.787,4532.7664,1304.968,447.4176,858.882,1134.5232,2189.1504,179.766,3094.6384,982.7208,1018.0082,1603.9122,2181.1608,711.0744,2996.1,218.3824,3247.7724,6723.2484,3448.844,316.9208,3199.169,3972.8286,778.986,3815.034,1791.6678,1436.7964,1797.66,3846.9924,7084.112,2085.2856,193.7478,996.0368,3124.5994,4377.635,3567.3564,1048.635,2816.334,524.6504,1178.466,120.5098,3946.8624,1366.2216,1090.5804,607.2096,1304.968,1565.9616,2328.9684,1221.0772,6970.926,777.6544,2950.8256,3961.51,309.597,758.3462,9562.2196,1644.526,3901.588,1617.894,711.0744,3335.658,3265.749,739.038,2580.6408,181.0976,1597.92,4656.6052,2885.5772,2192.4794,3880.2824,2024.032,3238.4512,4146.6024,2463.46,2293.0152,3301.7022,3914.904,703.0848,663.1368,190.4188,830.9184,329.571,2365.5874,523.3188,1094.5752,1704.448,2237.088,2609.936,2182.4924,719.064,3781.744,1845.5976,690.4346,1300.3074,1406.1696,857.5504,2490.092,751.0224,1065.28,159.792,4344.345,1980.755,1794.331,2956.152,1687.1372,7602.1044,1659.8394,167.7816,2456.802,1347.5792,1557.972,2001.3948,559.272,6624.71,2237.088,2731.1116,1300.3074,1657.1762,361.5294,751.0224,3555.372,986.7156,946.7676,2492.7552,4165.2448,3844.995,2566.659,2330.9658,69.2432,2759.0752,885.514,1677.1502,6002.8528,506.008,1340.2554,3691.1952,3831.0132,371.5164,3520.0846,5077.3908,1840.937,894.8352,1231.73,2854.9504,958.752,1000.6974,317.5866,3435.528,5772.486,1123.8704,4761.8016,2708.4744,3001.4264,1882.2166,429.441,1565.9616,3113.2808,5179.924,169.779,213.056,1607.907,447.4176,3691.1952,1565.9616,2406.2012,605.878,4233.1564,331.5684,3942.8676,1574.617,2375.5744,2780.3808,1379.5376,1065.28,8868.456,5369.0112,2097.9358,1165.15,3645.255,53.264,3621.952,1821.6288,589.233,3022.0662,5759.17,386.8298,441.4254,2852.2872,1225.7378,469.389,3661.9,312.926,1094.5752,2440.8228,978.726,444.7544,2153.1972,5978.2182,1860.2452,1612.5676,2077.296,1208.427,5193.24,1274.3412,1021.3372,1235.059,1340.2554,852.224,3769.7596,3515.424,1230.3984,516.6608,818.934,1272.3438,5375.0034,1278.336,1777.686,1062.6168,1174.4712,5086.712,4693.89,2966.139,2530.04,2530.04,985.384,37.9506,822.263,4027.4242,3243.7776,1288.9888,3859.6426,4436.8912,6088.0752,2025.3636,2596.62,1257.0304,3781.744,1701.7848,4643.955,3463.4916,2226.4352,856.8846,2773.057,91.2146,3910.9092,4869.6612,3254.4304,1340.2554,61.2536,1435.4648,1436.7964,1281.665,4705.8744,1334.2632,4660.6,1128.531,1883.5482,1118.544,1211.756,1282.3308,435.4332,701.7532,910.8144,3954.852,430.1068,2013.3792,1877.556,4247.804,2404.8696,533.3058,2703.148,2324.9736,3029.39,2664.5316,683.1108,4351.6688,3412.8908,4157.2552,458.0704,1488.063,830.9184,2103.2622,1904.188,170.4448,474.0496,649.8208,1342.2528,311.5944,3249.104,280.9676,122.5072,1108.557,2097.27,1078.596,2087.283,5321.0736,2668.5264,3419.5488,4807.076,3920.2304,1997.4,5313.084,4379.6324,2241.0828,1607.2412,2731.1116,490.6946,8479.6288,1662.5026,1944.136,1047.3034,3628.61,484.7024,2519.3872,784.9782,545.2902,5976.2208,452.744,3112.615,3315.0182,4180.5582,243.6828,2049.3324,2708.4744,1656.5104,2388.2246,319.584,1895.5326,423.4488,3346.3108,6543.4824,2516.724,335.5632,2559.3352,3355.632,1379.5376,2998.0974,2117.244,2708.4744,724.3904,1584.604,3342.316,3866.9664,642.497,553.9456,247.0118,2524.0478,1022.6688,3588.662,2636.568,93.212,5339.0502,1605.9096,2563.33,7425.0016,6964.9338,3179.8608,1388.193,1807.647,150.4708,259.662,622.523,804.2864,1561.9668,2460.7968,1039.9796,3471.4812,7317.142,1844.266,283.6308,4740.496,5752.512,596.5568,2576.646,729.7168,1090.5804,4566.7222,1860.2452,1416.8224,3595.32,104.5306,4753.812,595.2252,1577.946,2687.8346,1695.7926,3029.39,192.4162,1627.2152,141.8154,732.38,3271.7412,628.5152,3105.2912,3112.615,1446.1176,2833.6448,1014.6792,4876.985,1249.0408,3379.6008,1118.544,543.2928,427.4436,4287.752,1587.2672,1265.02,3615.294,165.7842,115.8492,3554.7062,3488.1262,3515.424,1369.5506,3179.8608,477.3786,3364.9532,1061.951,2387.5588,1201.769,878.856,6636.6944,439.428,2696.49,2994.7684,1794.331,129.831,2059.9852,2422.1804,1864.24,2756.412,219.714,4915.6014,1637.868,4595.3516,171.7764,191.7504,1214.4192,1114.5492,5034.7796,2993.4368,1390.1904,1086.5856,1965.4416,1587.933,4933.578,370.1848,4210.5192,2404.8696,198.4084,4082.6856,948.0992,1372.2138,1102.5648,1751.054,3994.8,2277.036,1193.1136,1470.0864,517.9924,5608.6992,4028.09,647.1576,126.502,2404.2038,2285.0256,824.9262,719.064,1890.872,2343.616,1264.3542,3745.125,1709.1086,5369.0112,6191.94,6338.416,926.7936,3048.6982,1549.3166,2586.633,418.1224,3137.2496,1488.063,980.0576,2609.936,1737.738,1312.9576,2490.092,631.8442,221.0456,234.3616,1326.2736,312.926,1549.3166,4040.7402,2780.3808,1029.9926,1211.756,2125.2336,1034.6532,1607.907,45.9402,1384.864,47.2718,1091.912,3954.852,1498.05,121.1756,3383.5956,4474.176,305.6022,620.5256,1514.695,679.116,3271.7412,4836.3712,2500.7448,1641.197,3398.2432,988.0472,4396.9432,96.541,2306.997,4996.829,6897.688,2308.9944,808.947,549.285,1348.245,229.701,2646.555,447.4176,8474.3024,3970.8312,1727.751,1298.31,1252.3698,194.4136,1627.881,143.8128,2572.6512,2759.0752,2956.152,2217.114,4074.696,1547.3192,422.1172,3243.7776,152.4682,633.8416,1314.2892,868.869,183.7608,4893.63,1416.8224,7393.0432,703.0848,182.4292,1516.0266,1667.829,1693.7952,962.7468,4195.8716,385.4982,2241.0828,1278.336,1531.34,852.224,394.1536,1264.3542,4012.1108,3078.6592,213.056,1438.128,400.8116,1218.414,1187.7872,798.96,1492.0578,171.1106,166.45,1320.9472,615.1992,5056.751,3325.0052,2390.8878,5287.7836,1511.366,709.077,1100.5674,88.5514,3749.7856,179.766,1384.1982,1757.712,110.5228,2106.5912,442.0912,677.1186,308.9312,3237.1196,848.895,1488.063,2281.6966,923.4646,6303.7944,5779.144,4020.7662,2570.6538,579.246,3504.1054,4266.4464,7033.5112,1715.1008,3704.5112,759.012,1326.2736,422.1172,419.454,4474.176,3954.852,2077.296,2197.14,1134.5232,1565.9616,1334.2632,1267.6832,190.4188,2326.971,1583.9382,882.8508,5960.2416,3691.1952,1737.738,341.5554,83.8908,713.7376,4963.539,1874.8928,1787.0072,401.4774,2404.8696,1482.0708,5946.9256,4586.0304,3728.48,3214.4824,6474.2392,3823.0236,165.7842,316.9208,1747.725,4022.7636,2804.3496,567.2616,2259.0594,2999.429,379.506,3935.5438,1510.0344,296.9468,1516.6924,555.2772,5033.448,1655.1788,1146.5076,1668.4948,858.882,2818.3314,5452.902,2612.5992,2093.941,2940.1728,2261.0568,4566.0564,1813.6392,4287.752,1258.362,1810.976,1062.6168,5522.811,894.8352,1225.072,2162.5184,1693.7952,3115.944,3277.0676,5438.9202,2731.1116,8217.3036,3715.164,416.125,3635.268,1842.9344,39.948,2619.2572,4460.86,2579.975,787.6414,986.7156,264.3226,709.077,2599.2832,2740.4328,5890.9984,595.2252,239.688,4165.2448,2067.309,3874.956,4996.829,2550.014,583.2408,1981.4208,697.0926,3705.177,1607.907,645.826,1957.452,4866.998,176.437,406.138,468.7232,2961.4784,6817.792,679.116,3225.801,873.5296,2553.343,922.7988,3089.9778,495.3552,612.536,1182.4608,555.2772,295.6152,4844.3608,3340.9844,3509.4318,4921.5936,5346.374,2387.5588,2404.8696,1011.3502,6371.706,1551.9798,3145.905,922.7988,3475.476,2527.3768,604.5464,343.5528,2526.711,3214.4824,3422.212,1057.9562,3025.3952,1549.9824,2022.7004,677.1186,4727.18,154.4656,4267.1122,183.7608,4492.8184,4807.7418,539.298,2143.876,1428.141,1410.8302,1030.6584,1105.228,4649.9472,4363.6532,2482.7682,2740.4328,451.4124,1282.3308,551.2824,761.0094,1416.8224,5226.53,4961.5416,1414.1592,4174.566,2846.295,1685.8056,2572.6512,4860.34,531.3084,1657.842,3397.5774,4181.224,197.0768,656.4788,2021.3688,160.4578,1895.5326,1303.6364,1125.202,527.3136,719.064,4399.6064,1944.136,619.194,3178.5292,2246.4092,2976.126,1629.8784,3735.138,873.5296,1771.028,1342.2528,2512.7292,2397.5458,2631.2416,4288.4178,141.8154,2808.3444,311.5944,1584.604,89.2172,5592.72,499.35,4436.8912,959.4178,3463.4916,1707.777,552.614,3231.1274,1938.8096,3884.943,401.4774,3757.7752,1565.9616,2614.5966,1138.518,1091.2462,1743.0644,5175.9292,2902.888,2929.52,5747.1856,958.752,2247.075,2314.9866,441.4254,1457.4362,4345.0108,1162.4868,2576.646,247.6776,2227.101,316.9208,2966.139,2239.0854,2013.3792,1789.6704,788.3072,5163.9448,1133.8574,1017.3424,3010.7476,691.1004,4377.635,2117.244,1024.6662,2013.3792,1278.336,3433.5306,705.748,3448.844,4466.1864,253.004,2628.5784,2526.711,413.4618,3064.0116,2410.196,623.1888,2988.1104,940.7754,344.8844,1310.2944,1351.574,2143.876,3124.5994,589.233,1208.427,7883.072,2616.594,1254.3672,2954.1546,4442.2176,976.7286,3123.9336,256.9988,4587.362,1593.9252,242.3512,292.952,629.181,1030.6584,1015.345,3332.329,2277.036,1800.3232,1845.5976,3579.3408,307.5996,1737.738,108.5254,745.696,1378.206,3010.7476,524.6504,1547.985,376.8428,1651.184,4470.1812,1677.816,1970.768,874.8612,143.8128,2631.2416,1662.5026,2217.114,2846.295,2669.1922,1258.362,3705.177,2651.2156,587.2356,1846.9292,2013.3792,3755.112,575.2512,2059.9852,5005.4844,3387.5904,3739.1328,303.6048,223.7088,1298.31,380.8376,4434.228,2586.633,4277.765,1070.6064,1001.3632,2871.5954,4287.752,1864.24,2607.2728,4277.765,155.7972,1222.4088,2766.399,2106.5912,4508.1318,1191.782,3085.3172,649.8208,3293.7126,9069.5276,5672.616,2960.1468,1557.972,447.4176,365.5242,126.502,1162.4868,2858.2794,185.0924,1695.7926,6056.1168,1488.7288,1310.2944,569.259,1041.3112,463.3968,131.8284,3301.7022,1808.9786,4138.6128,1370.2164,852.224,1471.418,2354.2688,4374.306,3563.3616,3506.7686,249.0092,563.2668,1653.8472,1113.2176,1341.587,968.739,3994.8,3844.995,1182.4608,3795.06,2255.7304,1448.115,2535.3664,1098.57,4166.5764,910.8144,2014.7108,6024.1584,1458.102,2423.512,1504.0422,1278.336,1767.699,1677.1502,280.9676,3914.904,1258.362,2195.8084,2659.871,689.7688,2603.278,282.2992,769.6648,4152.5946,1534.0032,3202.498,353.5398,1547.985,2277.036,3475.476,2822.992,1216.4166,3570.6854,3263.0858,2716.464,3558.0352,555.2772,7100.757,2664.5316,1724.422,1308.297,4740.496,433.4358,2388.8904,1868.2348,449.415,4459.5284,370.1848,1516.0266,253.004,1025.9978,592.562,675.1212,1970.768,2950.1598,568.5932,1255.6988,153.134,1917.504,5834.4054,493.3578,1860.2452,2433.499,3251.1014,4454.202,2841.6344,6385.022,2376.906,1677.816,1937.478,296.9468,2259.0594,2504.7396,2069.3064,1701.7848,710.4086,4502.1396,703.0848,2138.5496,2145.2076,331.5684,412.796,1165.15,1324.2762,356.8688,3600.6464,243.6828,1821.6288,4165.2448,88.5514,8789.8916,1149.8366,3281.0624,5742.525,10306.584,263.6568,2237.088,932.12,2184.4898,3139.9128,466.06,447.4176,2063.98,527.3136,2609.936,2082.6224,2450.144,3775.086,713.7376,202.4032,2263.72,837.5764,1635.8706,5841.0634,1030.6584,6275.165,1870.898,3690.5294,296.9468,898.83,1596.5884,6669.3186,7105.4176,1696.4584,1384.864,1390.1904,176.437,1788.3388,4587.362,1034.6532,761.6752,1418.154,415.4592,3803.0496,365.5242,767.0016,1669.8264,151.1366,1922.8304,1713.7692,311.5944,1364.89,2002.7264,3691.1952,575.917,170.4448,820.2656,4275.7676,1304.968,1705.1138,1480.7392,1338.258,6251.862,588.5672,319.584,1491.392,958.752,1418.154,1125.202,9554.23,2966.139,691.1004,1829.6184,758.3462,223.7088,1350.2424,1366.2216,406.138,2109.2544,2111.9176,1338.258,1677.816,2316.984,1158.492,2681.8424,460.7336,1609.9044,2626.581,1138.518,3605.307,343.5528,2719.793,2418.1856,173.108,442.757,1324.942,3880.2824,552.614,1012.016,1090.5804,2006.7212,547.2876,2354.2688,5487.5236,604.5464,680.4476,3773.7544,50.6008,4653.2762,386.164,379.506,1159.8236,3243.7776,1086.5856,1973.4312,715.0692,1132.5258,4527.44,5383.6588,245.6802,862.211,51.9324,3004.0896,4035.4138,3111.9492,173.108,199.74,4440.886,1838.2738,3367.6164,607.8754,4695.2216,1670.4922,264.9884,708.4112,2993.4368,1006.6896,125.8362,371.5164,1597.92,4119.9704,231.6984,4979.5182,3723.1536,1938.8096,2199.1374,2283.0282,157.1288,515.3292,1677.816,2057.9878,5888.3352,1288.323,2247.075,1567.959,4813.734,1957.452,1105.228,2061.3168,6474.2392,5890.9984,999.3658,753.6856,2572.6512,1298.31,1179.1318,1922.8304,195.7452,2822.992,1506.0396,4681.9056,3237.1196,2471.4496,644.4944,3563.3616,2600.6148,2266.3832,1911.5118,356.8688,645.1602,2863.6058,2649.884,1374.2112,1268.349,1573.9512,5865.0322,4984.1788,1454.1072,3691.1952,396.8168,1211.756,473.3838,3338.987,2045.3376,437.4306,2446.815,2030.69,539.298,703.0848,1442.7886,2376.906,1744.396,871.5322,1342.2528,1171.808,4572.0486,265.6542,2503.408,6050.7904,2441.4886,123.8388,1797.66,1926.1594,3094.6384,1428.141,882.8508,4229.1616,1148.505,1318.284,1720.4272,2807.0128,1508.037,1366.2216,1470.0864,5912.304,1393.5194,5289.1152,2213.1192,6930.978,3453.5046,2150.534,1155.8288,3205.827,3942.8676,3894.93,2290.352,892.8378,564.5984,1545.9876,482.0392,2356.932,2061.3168,123.8388,4566.7222,498.0184,3020.0688,4649.9472,610.5386,862.8768,312.926,4625.9784,3387.5904,5932.278,1018.674,3225.1352,3124.5994,1704.448,2884.2456,1133.8574,6881.043,1238.388,175.7712,459.402,932.12,1406.1696,916.1408,1964.7758,1597.92,882.185,3570.0196,4474.176,980.0576,4731.1748,3589.9936,75.9012,3516.7556,1765.7016,185.7582,1492.0578,2395.5484,3338.3212,6041.4692,4262.4516,1258.362,5892.33,3175.866,2773.057,1211.756,1238.388,5540.7876,2540.6928,458.7362,3349.6398,1624.552,254.3356,1259.6936,251.6724,996.0368,2217.114,111.8544,4165.2448,1576.6144,2433.499,4725.8484,601.8832,3410.2276,583.2408,1689.8004,4804.4128,1605.9096,3537.3954,1416.8224,675.1212,3016.7398,1278.336,2093.941,3098.6332,2182.4924,135.8232,2526.711,1627.881,1581.9408,3163.8816,2241.7486,4293.0784,165.7842,982.7208,3020.0688,251.6724,647.8234,284.2966,6042.135,47.2718,3235.788,42.6112,1765.7016,1540.6612,1070.6064,311.5944,2591.2936,3313.6866,2588.6304,3956.8494,3277.0676,1315.6208,223.7088,150.4708,5816.4288,1556.6404,8217.3036,1587.933,203.7348,952.094,1537.998,699.09,247.0118,1845.5976,2080.625,1158.492,4610.665,3261.7542,1151.834,3861.64,4314.384,2988.1104,4713.864,149.805,4011.445,4600.0122,6454.931,2759.0752,5564.7564,913.4776,2450.144,1406.1696,4005.4528,325.5762,1340.2554,2510.066,1797.66,802.9548,1962.7784,3193.8426,777.6544,370.1848,826.9236,5024.1268,1102.5648,3047.3666,354.2056,2209.1244,1938.8096,3149.234,2002.0606,5634.6654,6308.455,970.7364,2616.594,344.8844,3751.1172,1211.756,2864.2716,886.8456,2441.4886,3504.7712,256.9988,325.5762,4777.7808,5238.5144,4026.7584,145.8102,386.164,1116.5466,33.29,1470.0864,139.818,90.5488,2450.144,379.506,2125.2336,6231.888,466.06,1159.8236,1498.05,2356.932,3946.8624,923.4646,2799.689,1877.556,223.7088,2390.8878,755.0172,331.5684,1416.8224,597.2226,1944.136,2332.9632,5424.9384,966.7416,339.558,2199.8032,533.3058,79.896,2836.308,2005.3896,5073.396,357.5346,814.9392,2777.7176,173.108,5007.4818,1556.6404,1049.9666,1655.1788,2502.7422,1406.1696,7719.2852,4976.855,1701.7848,143.8128,312.926,3235.788,2094.6068,651.1524,3799.0548,5000.8238,399.48,870.8664,484.7024,3904.917,1731.08,1805.6496,1927.491,5591.3884,2061.3168,1843.6002,4250.4672,6424.97,1575.2828,8062.838,1336.2606,484.7024,2466.789,1315.6208,286.294,2073.3012,5020.132,1422.1488,6076.0908,4048.064,2848.2924,2024.032,882.8508,249.0092,377.5086,215.7192,1404.838,1436.7964,2826.321,3555.372,539.298,1030.6584,4402.9354,1717.764,1644.526,1398.18,992.7078,3966.1706,3523.4136,3715.164,871.5322,1619.2256,3199.8348,3628.61,503.3448,3675.216,3219.8088,1967.439,4103.9912,3874.956,1973.4312,3083.9856,155.1314,5842.395,105.8622,2475.4444,3735.8038,2380.9008,2749.754,898.83,1948.1308,2410.196,3954.852,6170.6344,5070.7328,335.5632,2856.282,418.1224,5313.084,8245.2672,736.3748,3583.3356,2556.672,2936.178,392.822,2801.6864,198.4084,2277.036,4482.1656,392.822,1924.162,185.0924,872.8638,436.7648,2885.5772,1454.1072,1037.3164,255.6672,5582.733,1332.9316,3635.268,2748.4224,1823.6262,1298.31,1416.8224,4777.115,1036.6506,768.999,975.397,948.0992,230.3668,3020.0688,910.8144,2644.5576,1982.0866,1278.336,732.38,3174.5344,127.8336,2940.1728,3918.8988,7190.64,253.6698,567.2616,209.0612,1398.18,131.8284,2036.6822,713.0718,247.0118,539.298,2908.2144,1454.773,151.1366,1857.582,2449.4782,117.1808,852.224,5688.5952,2496.75,822.263,652.484,1896.1984,753.0198,424.7804,2364.9216,280.9676,5944.2624,885.514,1374.2112,1868.2348,82.5592,6474.2392,4407.596,2466.789,346.216,5779.144,3835.008,1581.9408,2908.8802,1270.3464,5592.72,878.856,1318.284,942.7728,2061.3168,4781.7756,6775.1808,815.605,162.4552,3079.325,223.7088,810.9444,1166.4816,3728.48,3155.892,1662.5026,2174.5028,2293.681,2037.348,1697.79,2836.308,2042.6744,2384.8956,639.168,4013.4424,2116.5782,1669.8264,1225.072,3649.2498,4154.592,13086.9648,1211.756,1948.1308,10072.8882,1267.0174,2037.348,1571.288,1830.95,1701.7848,2247.7408,3981.484,1462.0968,3448.844,1065.28,4225.1668,3616.6256,5287.7836,3004.0896,111.8544,1274.3412,1120.5414,3199.8348,1208.427,3523.4136,3436.1938,5685.932,517.3266,375.5112,745.696,319.584,886.8456,1720.4272,3946.8624,255.6672,589.233,2544.6876,3415.554,4194.54,579.246,848.895,1573.9512,3858.9768,2036.6822,1278.336,1228.401,259.662,1174.4712,627.1836,7939.665,1125.8678,2787.0388,2416.1882,916.1408,2591.2936,2050.664,1205.098,287.6256,517.3266,1842.9344,1725.7536,1289.6546,1829.6184,154.4656,2163.1842,4161.25,1258.362,1844.266,517.3266,8323.8316,5536.7928,2358.2636,3483.4656,2972.1312,5375.6692,4380.964,952.094,1829.6184,1480.0734,3592.6568,2157.192,2189.8162,3325.671,965.41,1298.31,2659.871,412.796,1627.881,2922.1962,1537.998,423.4488,326.242,2501.4106,1743.0644,958.752,194.4136,3848.324,4697.8848,1290.3204,1102.5648,217.7166,1544.656,1651.184,1354.903,5492.85,1713.1034,178.4344,1930.82,2544.6876,1969.4364,4537.427,2787.0388,3352.303,2516.724,3728.48,7873.085,1540.6612,717.7324,263.6568,1062.6168,588.5672,1428.141,193.082,4923.591,1494.0552,1183.7924,3068.0064,1788.3388,1293.6494,1018.0082,2306.997,101.8674,3316.3498,3535.398,1651.184,452.744,1188.453,796.9626,2816.334,4570.0512,2684.5056,423.4488,1034.6532,2285.0256,2458.1336,431.4384,585.904,651.8182,3952.1888,1830.95,1134.5232,4910.275,5865.0322,1618.5598,1593.9252,2408.8644,8209.314,3225.1352,271.6464,3545.385,4008.116,767.0016,485.3682,3950.1914,593.2278,559.272,127.8336,1644.526,80.5618,974.0654,1549.9824,2856.282,3900.9222,2748.4224,3151.8972,369.519,1071.938,3894.93,595.2252,2498.0816,4068.7038,251.6724,950.7624,2693.8268,1711.106,1294.3152,759.012,2529.3742,1557.972,2399.5432,1254.3672,1923.4962,555.2772,4751.8146,3552.7088,1611.236,815.605,2173.1712,4234.488,369.519,657.8104,35.2874,227.7036,191.7504,300.9416,1169.8106,3696.5216,4495.4816,303.6048,258.9962,2587.9646,1494.0552,1713.7692,671.1264,1640.5312,1629.8784,183.7608,4996.829,1398.18,3255.762,3545.385,6157.3184,2828.3184,2462.7942,4466.1864,2026.0294,1733.7432,1120.5414,4390.2852,185.0924,994.7052,5015.4714,2444.8176,1551.9798,3575.346,868.869,1836.2764,1510.0344,1544.656,1406.1696,884.1824,1845.5976,1046.6376,1749.7224,3691.1952,280.9676,3896.2616,3056.022,5872.356,3384.2614,1004.0264,788.973,2816.334,1869.5664,1808.9786,343.5528,1348.245,499.35,1215.7508,755.0172,2693.8268,490.0288,4231.8248,2407.5328,4165.2448,511.3344,509.337,2496.75,2926.191,820.2656,5499.508,777.6544,6311.784,3705.8428,759.6778,1973.4312,3731.809,2922.1962,2302.3364,277.6386,850.8924,1976.0944,2302.3364,659.142,1798.9916,2004.058,1838.2738,1458.102,1685.8056,1494.0552,75.9012,788.973,3530.0716,1186.4556,572.588,3467.4864,4303.0654,671.1264,1901.5248,503.3448,4065.3748,1249.0408,614.5334,607.2096,3175.866,788.3072,695.0952,2271.0438,1860.2452,2868.2664,1956.1204,433.4358,247.6776,644.4944,98.5384,1318.284,1743.0644,214.3876,1797.66,2736.438,2451.4756,352.874,2543.356,3056.022,3111.9492,2082.6224,3415.554,3570.0196,391.4904,4504.137,1382.2008,2577.9776,996.0368,1134.5232,1761.7068,4097.3332,2609.936,3295.71,2175.1686,3775.086,1565.9616,2908.2144,5509.495,160.4578,1640.5312,2631.2416,2572.6512,624.5204,3916.2356,4915.6014,587.2356,1817.634,7017.532,154.4656,5097.3648,785.644,5976.2208,4847.024,1635.8706,4277.765,1970.768,1534.0032,561.2694,832.9158,3229.7958,2773.057,1177.1344,83.225,2045.3376,2914.8724,952.094,79.896,2093.2752,7322.4684,388.1614,7717.9536,1098.57,802.9548,539.298,432.77,395.4852,379.506,303.6048,872.8638,1052.6298,2681.8424,3435.528,4291.7468,641.8312,4364.319,2163.1842,5937.6044,1388.8588,495.3552,167.7816,4291.7468,1867.569,4567.388,49.935,5404.9644,1731.7458,1845.5976,1960.1152,2290.352,4339.0186,6066.7696,1965.4416,99.2042,6431.628,3735.8038,2261.0568,422.1172,334.2316,937.4464,1086.5856,198.4084,291.6204,2263.72,922.7988,2013.3792,2641.8944,2257.062,7433.657,455.4072,1290.9862,36.619,1725.7536,1619.2256,904.1564,1994.7368,2625.9152,974.7312,1853.5872,6183.9504,3137.2496,291.6204,739.038,1772.3596,605.878,144.4786,1120.5414,2163.85,772.328,2167.8448,495.3552,41.9454,834.9132,2636.568,2848.9582,575.2512,1366.2216,412.796,123.173,697.7584,123.8388,1977.426,2492.7552,721.0614,396.8168,790.9704,2741.7644,1070.6064,834.9132,3610.6334,5944.2624,1062.6168,1362.2268,1717.764,2083.2882,288.9572,2051.9956,826.2578,4026.7584,788.3072,1693.7952,5410.9566,4376.9692,938.778,1118.544,2255.7304,2253.0672,4819.7262,2120.573,1278.336,1078.596,474.0496,1724.422,338.2264,2109.2544,3185.853,2045.3376,2876.256,1438.128,419.454,575.2512,786.9756,1072.6038,5343.045,942.7728,1249.0408,2069.3064,4687.232,280.9676,7943.6598,849.5608,2251.0698,3119.9388,1035.9848,1821.6288,778.3202,3453.5046,239.688,1188.453,970.7364,4673.916,922.7988,617.8624,709.077,2143.876,577.2486,328.9052,4832.3764,2220.443,255.6672,1151.1682,1241.0512,316.9208,2985.4472,3301.0364,1797.66,2676.516,4942.8992,1414.825,885.514,1155.8288,1593.9252,2766.399,1491.392,854.8872,4637.9628,2432.1674,1944.136,2189.1504,176.437,1076.5986,5635.3312,467.3916,79.896,4577.375,826.9236,7158.6816,2599.2832,3765.099,4068.038,2078.6276,952.7598,1411.496,450.0808,4431.5648,1901.5248,2291.0178,1470.0864,2972.797,196.411,1263.6884,9678.0688,457.4046,1118.544,1480.0734,2563.33,3103.9596,1414.1592,1775.6886,176.437,1403.5064,778.986,73.238,918.804,3494.1184,1707.777,1743.0644,1986.0814,926.7936,2780.3808,2388.8904,3645.255,1869.5664,1631.8758,3757.1094,2366.919,90.5488,2463.46,1258.362,5592.72,4925.5884,2345.6134,2327.6368,2681.8424,3146.5708,837.5764,2652.5472,5829.7448,838.908,2906.217,4074.696,1775.6886,516.6608,1947.465,605.878,7158.6816,383.5008,633.8416,3197.1716,335.5632,2432.8332,1444.1202,3036.048,382.1692,5543.4508,1539.9954,65.2484,1230.3984,1342.2528,2003.3922,4170.5712,723.0588,109.1912,1311.626,175.7712,7510.224,1584.604,499.35,1174.4712,649.8208,820.2656,719.064,703.0848,838.908,2572.6512,8417.7094,671.1264,892.172,5283.123,1246.3776,2406.2012,493.3578,4482.1656,1133.8574,57.2588,2255.7304,2510.066,1844.266,5073.396,428.7752,3209.156,386.8298,3418.883,1704.448,1120.5414,559.272,4211.185,1120.5414,567.2616,3505.437,3528.74,1342.2528,3515.424,3635.268,978.726,6064.1064,3644.5892,188.4214,151.1366,2352.9372,41.2796,5022.7952,2796.36,6471.576,2984.1156,385.4982,461.3994,2542.0244,2626.581,1480.0734,1677.816,988.713,103.199,2732.4432,5522.811,2137.8838,503.3448,4287.752,3962.8416,1869.5664,469.389,1438.128,1270.3464,2218.4456,139.818,1857.582,179.766,5193.9058,377.5086,2554.0088,6239.8776,3066.6748,2556.672,1593.9252,5100.028,1641.197,1880.885,790.9704,377.5086,3327.6684,4211.185,5257.1568,1498.05,995.371,3805.047,427.4436,4040.7402,1211.756,3169.208,2407.5328,2450.144,1958.1178,4693.89,677.1186,2442.1544,1544.656,743.0328,1965.4416,2988.1104,2394.8826,888.843,801.6232,1010.6844,276.9728,4477.505,7148.0288,4837.7028,1398.8458,1874.8928,9227.988,2247.075,647.1576,552.614,1419.4856,307.5996,4074.696,2362.9242,985.384,2241.0828,5704.5744,79.2302,3237.1196,934.7832,961.4152,185.7582,3795.06,1556.6404,2848.2924,336.8948,1897.53,4218.5088,5243.8408,271.6464,1384.1982,3124.5994,6795.1548,894.8352,3307.6944,1393.5194,639.168,6208.585,565.2642,2006.7212,1118.544,3103.9596,2129.2284,7266.5412,5432.928,77.2328,2157.192,1267.6832,615.1992,1471.418,1830.95,922.7988,2504.7396,798.96,3350.3056,3782.4098,171.7764,6465.5838,2059.9852,2552.6772,1245.046,2916.204,1593.9252,1222.4088,1587.933,1390.1904,732.38,2833.6448,2440.8228,5642.655,3593.3226,4037.4112,379.506,838.908,109.857,2878.2534,4454.202,4233.1564,5033.448,1342.2528,2446.1492,1910.846,2167.8448,262.3252,2743.7618,4229.1616,3605.307,1414.1592,3146.5708,848.895,1693.7952,784.3124,117.1808,765.67,1833.6132,3593.3226,1214.4192,2380.235,5812.434,4165.2448,1772.3596,207.7296,2218.4456,4921.5936,1584.604,751.0224,364.8584,246.346,1194.4452,1831.6158,416.125,3499.4448,5926.2858,1977.426,432.77,8994.958,2985.4472,326.242,2988.1104,283.6308,2350.9398,3515.424,392.822,1890.872,1098.57,731.0484,4175.8976,2175.8344,3006.087,986.7156,503.3448,2852.2872,1731.7458,4391.6168,667.1316,3060.0168,143.8128,2117.244,2073.3012,214.3876,5309.755,4136.6154,4171.9028,2261.0568,1989.4104,3592.6568,868.869,2376.906,4379.6324,1031.99,2416.854,316.9208,1691.7978,1696.4584,5145.3024,3617.9572,3002.758,1872.2296,612.536,2920.1988,1544.656,3528.74,3825.6868,6199.9296,2346.945,3307.6944,161.7894,1171.808,1929.4884,1358.8978,116.515,2014.7108,1163.8184,1235.7248,6171.3002,5219.872,3775.086,2189.1504,1789.6704,105.8622,1470.0864,1155.8288,549.9508,149.805,1731.08,3153.2288,49.2692,363.5268,1105.8938,6579.4356,223.7088,579.246,71.9064,1225.072,735.709,2371.5796,1471.418,1071.938,2648.5524,3150.5656,246.346,3757.1094,3520.0846,6008.1792,2964.1416,659.142,2111.2518,4729.8432,1102.5648,431.4384,1240.3854,1235.059,2006.7212,1182.4608,3568.0222,787.6414,623.1888,452.744,2430.17,2348.9424,1569.9564,3292.381,1691.7978,4211.185,3142.576,202.4032,958.752,2396.88,94.5436,1719.7614,3207.8244,687.1056,2109.2544,2716.464,1406.1696,1571.288,1661.8368,4594.02,615.1992,4506.1344,973.3996,4327.7,679.116,1857.582,764.3384,1651.184,1653.8472,222.3772,2396.88,1686.4714,1001.3632,3352.303,809.6128,1869.5664,4013.4424,904.8222,3174.5344,3221.1404,1225.072,1416.8224,4731.1748,1084.5882,1579.9434,864.2084,2423.512,865.54,1304.968,1286.3256,2908.2144,2656.542,469.389,4422.2436,1186.4556,973.3996,3401.5722,2748.4224,4961.5416,9390.4432,1230.3984,3209.156,195.7452,2410.196,360.8636,3354.3004,6615.3888,3075.996,3435.528,2741.0986,1981.4208,1917.504,4857.6768,387.4956,3016.7398,2726.451,3825.6868,605.878,2621.9204,1603.9122,3029.39,491.3604,3984.1472,2588.6304,366.19,341.5554,1813.6392,3466.1548,703.0848,2693.8268,2171.8396,1025.332,340.8896,551.2824,510.0028,175.1054,4637.9628,67.9116,882.185,73.238,605.878,2362.9242,3964.839,7549.5062,4673.916,1577.946,423.4488,3578.675,228.3694,3675.216,1823.6262,2896.8958,1985.4156,2696.49,1358.232,3881.614,552.614,2336.958,410.1328,621.1914,3271.7412,4036.7454,3705.177,4026.7584,269.649,2567.3248,694.4294,126.502,1937.478,2548.0166,1215.7508,368.8532,4850.353,772.328,958.752,314.2576,3430.2016,3185.853,4326.3684,2366.919,1640.5312,1845.5976,197.0768,1604.578,3325.0052,341.5554,361.5294,2358.2636,371.5164,451.4124,543.2928,850.8924,1925.4936,4028.09,122.5072,1607.907,2889.572,3414.8882,2460.7968,5806.4418,1086.5856,5313.7498,1917.504,4354.9978,2093.941,1201.769,3193.8426,2117.244,3523.4136,2467.4548,5849.7188,1438.128,4853.682,2926.191,2363.59,1306.9654,316.9208,4210.5192,1884.8798,4363.6532,3271.7412,1842.9344,2049.3324,771.6622,3099.9648,3012.0792,5518.1504,6630.0364,610.5386,2223.772,575.2512,1684.474,1099.2358,708.4112,164.4526,193.7478,3914.904,2160.521,5296.439,2423.512,2841.6344,467.3916,2822.992,641.1654,1596.5884,3072.667,822.263,2936.178,7240.575,4602.0096,635.1732,1482.0708,1539.9954,2795.6942,4026.7584,1528.011,121.1756,645.1602,3635.268,1390.1904,2862.94,4138.6128,3355.632,128.4994,459.402,215.7192,1800.3232,1054.6272,871.5322,185.0924,1054.6272,2051.9956,1789.6704,528.6452,3717.8272,1973.4312,810.9444,2372.9112,3635.268,4739.8302,3103.9596,5221.8694,633.8416,2678.5134,813.6076,533.3058,2155.1946,2402.2064,451.4124,3219.8088,836.2448,772.328,309.597,5992.2,2972.1312,830.9184,1367.5532,284.9624,425.4462,1395.5168,1679.1476,3984.1472,153.134,124.5046,999.3658,575.2512,2563.33,4090.6752,788.973,4431.5648,2203.798,1691.132,2263.72,2490.092,925.462,2336.2922,443.4228,942.107,1867.569,2340.9528,417.4566,2600.6148,3739.1328,2756.412,4512.1266,1090.5804,2094.6068,2876.256,4042.7376,848.895,159.792,1813.6392,4332.3606,793.6336,527.3136,2596.62,3034.0506,1296.3126,2960.1468,777.6544,38.6164,2888.2404,482.0392,432.77,510.6686,7588.1226,2093.941,571.2564,1844.9318,3254.4304,3791.0652,3387.5904,159.792,4206.5244,487.3656,1516.6924,452.744,741.0354,2852.2872,4165.2448,1494.0552,810.9444,468.7232,2726.451,673.7896,3881.614,467.3916,367.5216,1551.314,2302.3364,1653.8472,431.4384,2153.1972,378.1744,1280.9992,1970.768,4820.392,2579.3092,459.402,695.0952,763.0068,1612.5676,2324.9736,6261.849,45.2744,4111.315,2756.412,2109.2544,487.3656,4809.7392,2419.5172,4727.18,1637.868,4314.384,3715.164,2247.075,1601.249,2976.126,1907.517,1508.037,3020.0688,3392.9168,4138.6128,2117.244,3944.865,515.995,2587.9646,424.7804,7182.6504,4207.856,2479.4392,595.2252,468.7232,1571.288,858.882,3608.636,2778.3834,549.285,1193.1136,1845.5976,765.67],\"type\":\"pie\"}],                        {\"template\":{\"data\":{\"histogram2dcontour\":[{\"type\":\"histogram2dcontour\",\"colorbar\":{\"outlinewidth\":0,\"ticks\":\"\"},\"colorscale\":[[0.0,\"#0d0887\"],[0.1111111111111111,\"#46039f\"],[0.2222222222222222,\"#7201a8\"],[0.3333333333333333,\"#9c179e\"],[0.4444444444444444,\"#bd3786\"],[0.5555555555555556,\"#d8576b\"],[0.6666666666666666,\"#ed7953\"],[0.7777777777777778,\"#fb9f3a\"],[0.8888888888888888,\"#fdca26\"],[1.0,\"#f0f921\"]]}],\"choropleth\":[{\"type\":\"choropleth\",\"colorbar\":{\"outlinewidth\":0,\"ticks\":\"\"}}],\"histogram2d\":[{\"type\":\"histogram2d\",\"colorbar\":{\"outlinewidth\":0,\"ticks\":\"\"},\"colorscale\":[[0.0,\"#0d0887\"],[0.1111111111111111,\"#46039f\"],[0.2222222222222222,\"#7201a8\"],[0.3333333333333333,\"#9c179e\"],[0.4444444444444444,\"#bd3786\"],[0.5555555555555556,\"#d8576b\"],[0.6666666666666666,\"#ed7953\"],[0.7777777777777778,\"#fb9f3a\"],[0.8888888888888888,\"#fdca26\"],[1.0,\"#f0f921\"]]}],\"heatmap\":[{\"type\":\"heatmap\",\"colorbar\":{\"outlinewidth\":0,\"ticks\":\"\"},\"colorscale\":[[0.0,\"#0d0887\"],[0.1111111111111111,\"#46039f\"],[0.2222222222222222,\"#7201a8\"],[0.3333333333333333,\"#9c179e\"],[0.4444444444444444,\"#bd3786\"],[0.5555555555555556,\"#d8576b\"],[0.6666666666666666,\"#ed7953\"],[0.7777777777777778,\"#fb9f3a\"],[0.8888888888888888,\"#fdca26\"],[1.0,\"#f0f921\"]]}],\"heatmapgl\":[{\"type\":\"heatmapgl\",\"colorbar\":{\"outlinewidth\":0,\"ticks\":\"\"},\"colorscale\":[[0.0,\"#0d0887\"],[0.1111111111111111,\"#46039f\"],[0.2222222222222222,\"#7201a8\"],[0.3333333333333333,\"#9c179e\"],[0.4444444444444444,\"#bd3786\"],[0.5555555555555556,\"#d8576b\"],[0.6666666666666666,\"#ed7953\"],[0.7777777777777778,\"#fb9f3a\"],[0.8888888888888888,\"#fdca26\"],[1.0,\"#f0f921\"]]}],\"contourcarpet\":[{\"type\":\"contourcarpet\",\"colorbar\":{\"outlinewidth\":0,\"ticks\":\"\"}}],\"contour\":[{\"type\":\"contour\",\"colorbar\":{\"outlinewidth\":0,\"ticks\":\"\"},\"colorscale\":[[0.0,\"#0d0887\"],[0.1111111111111111,\"#46039f\"],[0.2222222222222222,\"#7201a8\"],[0.3333333333333333,\"#9c179e\"],[0.4444444444444444,\"#bd3786\"],[0.5555555555555556,\"#d8576b\"],[0.6666666666666666,\"#ed7953\"],[0.7777777777777778,\"#fb9f3a\"],[0.8888888888888888,\"#fdca26\"],[1.0,\"#f0f921\"]]}],\"surface\":[{\"type\":\"surface\",\"colorbar\":{\"outlinewidth\":0,\"ticks\":\"\"},\"colorscale\":[[0.0,\"#0d0887\"],[0.1111111111111111,\"#46039f\"],[0.2222222222222222,\"#7201a8\"],[0.3333333333333333,\"#9c179e\"],[0.4444444444444444,\"#bd3786\"],[0.5555555555555556,\"#d8576b\"],[0.6666666666666666,\"#ed7953\"],[0.7777777777777778,\"#fb9f3a\"],[0.8888888888888888,\"#fdca26\"],[1.0,\"#f0f921\"]]}],\"mesh3d\":[{\"type\":\"mesh3d\",\"colorbar\":{\"outlinewidth\":0,\"ticks\":\"\"}}],\"scatter\":[{\"fillpattern\":{\"fillmode\":\"overlay\",\"size\":10,\"solidity\":0.2},\"type\":\"scatter\"}],\"parcoords\":[{\"type\":\"parcoords\",\"line\":{\"colorbar\":{\"outlinewidth\":0,\"ticks\":\"\"}}}],\"scatterpolargl\":[{\"type\":\"scatterpolargl\",\"marker\":{\"colorbar\":{\"outlinewidth\":0,\"ticks\":\"\"}}}],\"bar\":[{\"error_x\":{\"color\":\"#2a3f5f\"},\"error_y\":{\"color\":\"#2a3f5f\"},\"marker\":{\"line\":{\"color\":\"#E5ECF6\",\"width\":0.5},\"pattern\":{\"fillmode\":\"overlay\",\"size\":10,\"solidity\":0.2}},\"type\":\"bar\"}],\"scattergeo\":[{\"type\":\"scattergeo\",\"marker\":{\"colorbar\":{\"outlinewidth\":0,\"ticks\":\"\"}}}],\"scatterpolar\":[{\"type\":\"scatterpolar\",\"marker\":{\"colorbar\":{\"outlinewidth\":0,\"ticks\":\"\"}}}],\"histogram\":[{\"marker\":{\"pattern\":{\"fillmode\":\"overlay\",\"size\":10,\"solidity\":0.2}},\"type\":\"histogram\"}],\"scattergl\":[{\"type\":\"scattergl\",\"marker\":{\"colorbar\":{\"outlinewidth\":0,\"ticks\":\"\"}}}],\"scatter3d\":[{\"type\":\"scatter3d\",\"line\":{\"colorbar\":{\"outlinewidth\":0,\"ticks\":\"\"}},\"marker\":{\"colorbar\":{\"outlinewidth\":0,\"ticks\":\"\"}}}],\"scattermapbox\":[{\"type\":\"scattermapbox\",\"marker\":{\"colorbar\":{\"outlinewidth\":0,\"ticks\":\"\"}}}],\"scatterternary\":[{\"type\":\"scatterternary\",\"marker\":{\"colorbar\":{\"outlinewidth\":0,\"ticks\":\"\"}}}],\"scattercarpet\":[{\"type\":\"scattercarpet\",\"marker\":{\"colorbar\":{\"outlinewidth\":0,\"ticks\":\"\"}}}],\"carpet\":[{\"aaxis\":{\"endlinecolor\":\"#2a3f5f\",\"gridcolor\":\"white\",\"linecolor\":\"white\",\"minorgridcolor\":\"white\",\"startlinecolor\":\"#2a3f5f\"},\"baxis\":{\"endlinecolor\":\"#2a3f5f\",\"gridcolor\":\"white\",\"linecolor\":\"white\",\"minorgridcolor\":\"white\",\"startlinecolor\":\"#2a3f5f\"},\"type\":\"carpet\"}],\"table\":[{\"cells\":{\"fill\":{\"color\":\"#EBF0F8\"},\"line\":{\"color\":\"white\"}},\"header\":{\"fill\":{\"color\":\"#C8D4E3\"},\"line\":{\"color\":\"white\"}},\"type\":\"table\"}],\"barpolar\":[{\"marker\":{\"line\":{\"color\":\"#E5ECF6\",\"width\":0.5},\"pattern\":{\"fillmode\":\"overlay\",\"size\":10,\"solidity\":0.2}},\"type\":\"barpolar\"}],\"pie\":[{\"automargin\":true,\"type\":\"pie\"}]},\"layout\":{\"autotypenumbers\":\"strict\",\"colorway\":[\"#636efa\",\"#EF553B\",\"#00cc96\",\"#ab63fa\",\"#FFA15A\",\"#19d3f3\",\"#FF6692\",\"#B6E880\",\"#FF97FF\",\"#FECB52\"],\"font\":{\"color\":\"#2a3f5f\"},\"hovermode\":\"closest\",\"hoverlabel\":{\"align\":\"left\"},\"paper_bgcolor\":\"white\",\"plot_bgcolor\":\"#E5ECF6\",\"polar\":{\"bgcolor\":\"#E5ECF6\",\"angularaxis\":{\"gridcolor\":\"white\",\"linecolor\":\"white\",\"ticks\":\"\"},\"radialaxis\":{\"gridcolor\":\"white\",\"linecolor\":\"white\",\"ticks\":\"\"}},\"ternary\":{\"bgcolor\":\"#E5ECF6\",\"aaxis\":{\"gridcolor\":\"white\",\"linecolor\":\"white\",\"ticks\":\"\"},\"baxis\":{\"gridcolor\":\"white\",\"linecolor\":\"white\",\"ticks\":\"\"},\"caxis\":{\"gridcolor\":\"white\",\"linecolor\":\"white\",\"ticks\":\"\"}},\"coloraxis\":{\"colorbar\":{\"outlinewidth\":0,\"ticks\":\"\"}},\"colorscale\":{\"sequential\":[[0.0,\"#0d0887\"],[0.1111111111111111,\"#46039f\"],[0.2222222222222222,\"#7201a8\"],[0.3333333333333333,\"#9c179e\"],[0.4444444444444444,\"#bd3786\"],[0.5555555555555556,\"#d8576b\"],[0.6666666666666666,\"#ed7953\"],[0.7777777777777778,\"#fb9f3a\"],[0.8888888888888888,\"#fdca26\"],[1.0,\"#f0f921\"]],\"sequentialminus\":[[0.0,\"#0d0887\"],[0.1111111111111111,\"#46039f\"],[0.2222222222222222,\"#7201a8\"],[0.3333333333333333,\"#9c179e\"],[0.4444444444444444,\"#bd3786\"],[0.5555555555555556,\"#d8576b\"],[0.6666666666666666,\"#ed7953\"],[0.7777777777777778,\"#fb9f3a\"],[0.8888888888888888,\"#fdca26\"],[1.0,\"#f0f921\"]],\"diverging\":[[0,\"#8e0152\"],[0.1,\"#c51b7d\"],[0.2,\"#de77ae\"],[0.3,\"#f1b6da\"],[0.4,\"#fde0ef\"],[0.5,\"#f7f7f7\"],[0.6,\"#e6f5d0\"],[0.7,\"#b8e186\"],[0.8,\"#7fbc41\"],[0.9,\"#4d9221\"],[1,\"#276419\"]]},\"xaxis\":{\"gridcolor\":\"white\",\"linecolor\":\"white\",\"ticks\":\"\",\"title\":{\"standoff\":15},\"zerolinecolor\":\"white\",\"automargin\":true,\"zerolinewidth\":2},\"yaxis\":{\"gridcolor\":\"white\",\"linecolor\":\"white\",\"ticks\":\"\",\"title\":{\"standoff\":15},\"zerolinecolor\":\"white\",\"automargin\":true,\"zerolinewidth\":2},\"scene\":{\"xaxis\":{\"backgroundcolor\":\"#E5ECF6\",\"gridcolor\":\"white\",\"linecolor\":\"white\",\"showbackground\":true,\"ticks\":\"\",\"zerolinecolor\":\"white\",\"gridwidth\":2},\"yaxis\":{\"backgroundcolor\":\"#E5ECF6\",\"gridcolor\":\"white\",\"linecolor\":\"white\",\"showbackground\":true,\"ticks\":\"\",\"zerolinecolor\":\"white\",\"gridwidth\":2},\"zaxis\":{\"backgroundcolor\":\"#E5ECF6\",\"gridcolor\":\"white\",\"linecolor\":\"white\",\"showbackground\":true,\"ticks\":\"\",\"zerolinecolor\":\"white\",\"gridwidth\":2}},\"shapedefaults\":{\"line\":{\"color\":\"#2a3f5f\"}},\"annotationdefaults\":{\"arrowcolor\":\"#2a3f5f\",\"arrowhead\":0,\"arrowwidth\":1},\"geo\":{\"bgcolor\":\"white\",\"landcolor\":\"#E5ECF6\",\"subunitcolor\":\"white\",\"showland\":true,\"showlakes\":true,\"lakecolor\":\"white\"},\"title\":{\"x\":0.05},\"mapbox\":{\"style\":\"light\"}}},\"legend\":{\"tracegroupgap\":0},\"title\":{\"text\":\"Ventas por tipo de Mercado\"}},                        {\"responsive\": true}                    ).then(function(){\n",
              "                            \n",
              "var gd = document.getElementById('1ff62de2-5613-454e-912c-779320fe8df3');\n",
              "var x = new MutationObserver(function (mutations, observer) {{\n",
              "        var display = window.getComputedStyle(gd).display;\n",
              "        if (!display || display === 'none') {{\n",
              "            console.log([gd, 'removed!']);\n",
              "            Plotly.purge(gd);\n",
              "            observer.disconnect();\n",
              "        }}\n",
              "}});\n",
              "\n",
              "// Listen for the removal of the full notebook cells\n",
              "var notebookContainer = gd.closest('#notebook-container');\n",
              "if (notebookContainer) {{\n",
              "    x.observe(notebookContainer, {childList: true});\n",
              "}}\n",
              "\n",
              "// Listen for the clearing of the current output cell\n",
              "var outputEl = gd.closest('.output');\n",
              "if (outputEl) {{\n",
              "    x.observe(outputEl, {childList: true});\n",
              "}}\n",
              "\n",
              "                        })                };                            </script>        </div>\n",
              "</body>\n",
              "</html>"
            ]
          },
          "metadata": {}
        },
        {
          "output_type": "display_data",
          "data": {
            "text/plain": [
              "<Figure size 576x396 with 0 Axes>"
            ]
          },
          "metadata": {}
        }
      ]
    },
    {
      "cell_type": "code",
      "source": [
        "v1= df.loc[:, [\"Item_Outlet_Sales\",\"Outlet_Type\",\"Item_MRP\"]]\n",
        "\n",
        "sns.set_theme(style=\"ticks\")\n",
        "sns.pairplot(v1, hue=\"Outlet_Type\")"
      ],
      "metadata": {
        "colab": {
          "base_uri": "https://localhost:8080/",
          "height": 389
        },
        "id": "aE7zsPWlN2vT",
        "outputId": "9a44a11a-4bde-499a-f747-f34f4aaa2f2d"
      },
      "execution_count": 69,
      "outputs": [
        {
          "output_type": "execute_result",
          "data": {
            "text/plain": [
              "<seaborn.axisgrid.PairGrid at 0x7f4500f26820>"
            ]
          },
          "metadata": {},
          "execution_count": 69
        },
        {
          "output_type": "display_data",
          "data": {
            "text/plain": [
              "<Figure size 506.975x360 with 6 Axes>"
            ],
            "image/png": "[encoded data removed]"
          },
          "metadata": {}
        }
      ]
    },
    {
      "cell_type": "code",
      "source": [
        "df[\"Item_MRP\"].hist(edgecolor='black')\n",
        "plt.style.use('seaborn')\n",
        "plt.title(\"Distribución de precio\")\n",
        "plt.xlabel(\"Precio por producto\")\n",
        "plt.ylabel(\"Frecuencia\")\n",
        "plt.tick_params(axis='x', rotation=60)"
      ],
      "metadata": {
        "id": "KfULnmjN9U4L",
        "outputId": "52202865-a887-4387-8d52-28b1bf66a144",
        "colab": {
          "base_uri": "https://localhost:8080/",
          "height": 484
        }
      },
      "execution_count": 84,
      "outputs": [
        {
          "output_type": "stream",
          "name": "stderr",
          "text": [
            "<ipython-input-84-2f685b3fa3c7>:2: MatplotlibDeprecationWarning:\n",
            "\n",
            "The seaborn styles shipped by Matplotlib are deprecated since 3.6, as they no longer correspond to the styles shipped by seaborn. However, they will remain available as 'seaborn-v0_8-<style>'. Alternatively, directly use the seaborn API instead.\n",
            "\n"
          ]
        },
        {
          "output_type": "display_data",
          "data": {
            "text/plain": [
              "<Figure size 576x396 with 1 Axes>"
            ],
            "image/png": "[encoded data removed]"
          },
          "metadata": {}
        }
      ]
    },
    {
      "cell_type": "code",
      "source": [
        "df[\"Item_Outlet_Sales\"].hist(edgecolor='black')\n",
        "plt.style.use('seaborn')\n",
        "plt.title(\"Distribución de ventas\")\n",
        "plt.xlabel(\"ventas\")\n",
        "plt.ylabel(\"Frecuencia\")\n",
        "plt.tick_params(axis='x', rotation=60)"
      ],
      "metadata": {
        "id": "jqbtFHvY9mMZ",
        "outputId": "c3ff3d21-2976-4fd4-cbb6-07cfd54cdd29",
        "colab": {
          "base_uri": "https://localhost:8080/",
          "height": 484
        }
      },
      "execution_count": 85,
      "outputs": [
        {
          "output_type": "stream",
          "name": "stderr",
          "text": [
            "<ipython-input-85-5a5a276bddef>:2: MatplotlibDeprecationWarning:\n",
            "\n",
            "The seaborn styles shipped by Matplotlib are deprecated since 3.6, as they no longer correspond to the styles shipped by seaborn. However, they will remain available as 'seaborn-v0_8-<style>'. Alternatively, directly use the seaborn API instead.\n",
            "\n"
          ]
        },
        {
          "output_type": "display_data",
          "data": {
            "text/plain": [
              "<Figure size 576x396 with 1 Axes>"
            ],
            "image/png": "[encoded data removed]"
          },
          "metadata": {}
        }
      ]
    },
    {
      "cell_type": "code",
      "source": [
        "plt.scatter(df[\"Outlet_Type\"], df[\"Item_Outlet_Sales\"])"
      ],
      "metadata": {
        "id": "3A3tzJobAJBf",
        "outputId": "b02234c5-fd77-4520-e879-dd4d723a182f",
        "colab": {
          "base_uri": "https://localhost:8080/",
          "height": 364
        }
      },
      "execution_count": 86,
      "outputs": [
        {
          "output_type": "execute_result",
          "data": {
            "text/plain": [
              "<matplotlib.collections.PathCollection at 0x7f44fbd4bb50>"
            ]
          },
          "metadata": {},
          "execution_count": 86
        },
        {
          "output_type": "display_data",
          "data": {
            "text/plain": [
              "<Figure size 576x396 with 1 Axes>"
            ],
            "image/png": "[encoded data removed]"
          },
          "metadata": {}
        }
      ]
    },
    {
      "cell_type": "code",
      "source": [
        "plt.boxplot([df[\"Item_Outlet_Sales\"],df[\"Item_MRP\"]], labels=['Sales','MRP']);"
      ],
      "metadata": {
        "id": "rVIHw-F4ArAq",
        "outputId": "e5c227e4-3f14-45cd-f38f-899c389e21bd",
        "colab": {
          "base_uri": "https://localhost:8080/",
          "height": 347
        }
      },
      "execution_count": 87,
      "outputs": [
        {
          "output_type": "display_data",
          "data": {
            "text/plain": [
              "<Figure size 576x396 with 1 Axes>"
            ],
            "image/png": "[encoded data removed]"
          },
          "metadata": {}
        }
      ]
    },
    {
      "cell_type": "code",
      "source": [
        "plt.boxplot([df[\"Item_MRP\"]], labels=['MRP'])\n",
        "plt.show()"
      ],
      "metadata": {
        "id": "UMkYgRxdB33_",
        "outputId": "a8cc9ada-4f72-4d12-c9d4-1cce29b80398",
        "colab": {
          "base_uri": "https://localhost:8080/",
          "height": 347
        }
      },
      "execution_count": 88,
      "outputs": [
        {
          "output_type": "display_data",
          "data": {
            "text/plain": [
              "<Figure size 576x396 with 1 Axes>"
            ],
            "image/png": "[encoded data removed]"
          },
          "metadata": {}
        }
      ]
    },
    {
      "cell_type": "markdown",
      "source": [
        "Parte 5"
      ],
      "metadata": {
        "id": "ctpCcQkGEvbt"
      }
    },
    {
      "cell_type": "code",
      "source": [
        "#Codificación ordinal\n",
        "df['Item_Fat_Content'].replace({'Low Fat':0.0, 'Regular':1.0}, inplace=True)\n",
        "df['Item_Fat_Content'].value_counts()"
      ],
      "metadata": {
        "colab": {
          "base_uri": "https://localhost:8080/"
        },
        "id": "4nj12MEfhpT0",
        "outputId": "d8343d0f-0295-4d13-a67a-42f985dee79f"
      },
      "execution_count": 89,
      "outputs": [
        {
          "output_type": "execute_result",
          "data": {
            "text/plain": [
              "0.0    5517\n",
              "1.0    3006\n",
              "Name: Item_Fat_Content, dtype: int64"
            ]
          },
          "metadata": {},
          "execution_count": 89
        }
      ]
    },
    {
      "cell_type": "code",
      "source": [
        "df['Outlet_Size'].replace({'Small':1.0, 'Medium':2.0, 'High':3.0}, inplace=True)\n",
        "df['Outlet_Size'].value_counts()"
      ],
      "metadata": {
        "colab": {
          "base_uri": "https://localhost:8080/"
        },
        "id": "P7iosNf1jBvy",
        "outputId": "a64a3d9e-634f-45ed-fb0b-979c5425169c"
      },
      "execution_count": 90,
      "outputs": [
        {
          "output_type": "execute_result",
          "data": {
            "text/plain": [
              "2.0    2793\n",
              "1.0    2388\n",
              "3.0     932\n",
              "Name: Outlet_Size, dtype: int64"
            ]
          },
          "metadata": {},
          "execution_count": 90
        }
      ]
    },
    {
      "cell_type": "code",
      "source": [
        "df['Outlet_Location_Type'].replace({'Tier 1':1.0, 'Tier 2':2.0, 'Tier 3':3.0}, inplace=True)\n",
        "df['Outlet_Location_Type'].value_counts()"
      ],
      "metadata": {
        "colab": {
          "base_uri": "https://localhost:8080/"
        },
        "id": "7gEpqAQKjlMG",
        "outputId": "724d1c2e-cdc4-45bd-eb38-f3d9621b273f"
      },
      "execution_count": 91,
      "outputs": [
        {
          "output_type": "execute_result",
          "data": {
            "text/plain": [
              "3.0    3350\n",
              "2.0    2785\n",
              "1.0    2388\n",
              "Name: Outlet_Location_Type, dtype: int64"
            ]
          },
          "metadata": {},
          "execution_count": 91
        }
      ]
    },
    {
      "cell_type": "code",
      "source": [
        "df['Outlet_Type'].replace({'Grocery Store':0.0, 'Supermarket Type1':1.0, 'Supermarket Type2':2.0, 'Supermarket Type3':3.0}, inplace=True)\n",
        "df['Outlet_Type'].value_counts()"
      ],
      "metadata": {
        "colab": {
          "base_uri": "https://localhost:8080/"
        },
        "id": "TwXMFifPkOSV",
        "outputId": "e27f1e60-a532-4887-bcdf-1b5759e6f0bc"
      },
      "execution_count": 92,
      "outputs": [
        {
          "output_type": "execute_result",
          "data": {
            "text/plain": [
              "1.0    5577\n",
              "0.0    1083\n",
              "3.0     935\n",
              "2.0     928\n",
              "Name: Outlet_Type, dtype: int64"
            ]
          },
          "metadata": {},
          "execution_count": 92
        }
      ]
    },
    {
      "cell_type": "code",
      "source": [
        "# El objetivo que intentamos predecir.\n",
        "y = df['Item_Outlet_Sales']\n",
        "# Las características que se usarán para hacer la predicción\n",
        "X = df.drop(columns = 'Item_Outlet_Sales')\n",
        "\n",
        "#2)\n",
        "from sklearn.model_selection import train_test_split\n",
        "# Train test split \n",
        "X_train, X_test, y_train, y_test = train_test_split(X, y, random_state=42)\n"
      ],
      "metadata": {
        "id": "5PNCjRl4EpAX"
      },
      "execution_count": 93,
      "outputs": []
    },
    {
      "cell_type": "code",
      "source": [
        "print(len(X_train))\n",
        "print(len(y_train))\n",
        "print(len(X_test))\n",
        "print(len(y_test))"
      ],
      "metadata": {
        "colab": {
          "base_uri": "https://localhost:8080/"
        },
        "id": "TGngOW5sE-Pv",
        "outputId": "73773ad5-2082-42c5-8ad5-555d8efc146c"
      },
      "execution_count": 94,
      "outputs": [
        {
          "output_type": "stream",
          "name": "stdout",
          "text": [
            "6392\n",
            "6392\n",
            "2131\n",
            "2131\n"
          ]
        }
      ]
    },
    {
      "cell_type": "code",
      "source": [
        "from sklearn.preprocessing import StandardScaler, OneHotEncoder\n",
        "# Selectors\n",
        "cat_selector = make_column_selector(dtype_include='object')\n",
        "num_selector = make_column_selector(dtype_include='number')\n",
        "\n",
        "# Imputers\n",
        "freq_imputer = SimpleImputer(strategy='most_frequent')\n",
        "mean_imputer = SimpleImputer(strategy='mean')\n",
        "# Scaler\n",
        "scaler = StandardScaler()\n",
        "# One-hot encoder\n",
        "ohe = OneHotEncoder(handle_unknown='ignore', sparse=False)\n"
      ],
      "metadata": {
        "id": "yf-kBnUlVA8H"
      },
      "execution_count": 95,
      "outputs": []
    },
    {
      "cell_type": "code",
      "source": [
        "from sklearn.pipeline import make_pipeline\n",
        "# Numeric pipeline\n",
        "numeric_pipe = make_pipeline(mean_imputer, scaler)\n",
        "numeric_pipe\n",
        "\n",
        "# Categorical pipeline\n",
        "categorical_pipe = make_pipeline(freq_imputer, ohe)\n",
        "categorical_pipe"
      ],
      "metadata": {
        "colab": {
          "base_uri": "https://localhost:8080/",
          "height": 124
        },
        "id": "bA8_iJGfVhu3",
        "outputId": "4788215f-1208-48c9-8e9d-0c6b6291c768"
      },
      "execution_count": 96,
      "outputs": [
        {
          "output_type": "execute_result",
          "data": {
            "text/plain": [
              "Pipeline(steps=[('simpleimputer', SimpleImputer(strategy='most_frequent')),\n",
              "                ('onehotencoder',\n",
              "                 OneHotEncoder(handle_unknown='ignore', sparse=False))])"
            ],
            "text/html": [
              "<style>#sk-container-id-1 {color: black;background-color: white;}#sk-container-id-1 pre{padding: 0;}#sk-container-id-1 div.sk-toggleable {background-color: white;}#sk-container-id-1 label.sk-toggleable__label {cursor: pointer;display: block;width: 100%;margin-bottom: 0;padding: 0.3em;box-sizing: border-box;text-align: center;}#sk-container-id-1 label.sk-toggleable__label-arrow:before {content: \"▸\";float: left;margin-right: 0.25em;color: #696969;}#sk-container-id-1 label.sk-toggleable__label-arrow:hover:before {color: black;}#sk-container-id-1 div.sk-estimator:hover label.sk-toggleable__label-arrow:before {color: black;}#sk-container-id-1 div.sk-toggleable__content {max-height: 0;max-width: 0;overflow: hidden;text-align: left;background-color: #f0f8ff;}#sk-container-id-1 div.sk-toggleable__content pre {margin: 0.2em;color: black;border-radius: 0.25em;background-color: #f0f8ff;}#sk-container-id-1 input.sk-toggleable__control:checked~div.sk-toggleable__content {max-height: 200px;max-width: 100%;overflow: auto;}#sk-container-id-1 input.sk-toggleable__control:checked~label.sk-toggleable__label-arrow:before {content: \"▾\";}#sk-container-id-1 div.sk-estimator input.sk-toggleable__control:checked~label.sk-toggleable__label {background-color: #d4ebff;}#sk-container-id-1 div.sk-label input.sk-toggleable__control:checked~label.sk-toggleable__label {background-color: #d4ebff;}#sk-container-id-1 input.sk-hidden--visually {border: 0;clip: rect(1px 1px 1px 1px);clip: rect(1px, 1px, 1px, 1px);height: 1px;margin: -1px;overflow: hidden;padding: 0;position: absolute;width: 1px;}#sk-container-id-1 div.sk-estimator {font-family: monospace;background-color: #f0f8ff;border: 1px dotted black;border-radius: 0.25em;box-sizing: border-box;margin-bottom: 0.5em;}#sk-container-id-1 div.sk-estimator:hover {background-color: #d4ebff;}#sk-container-id-1 div.sk-parallel-item::after {content: \"\";width: 100%;border-bottom: 1px solid gray;flex-grow: 1;}#sk-container-id-1 div.sk-label:hover label.sk-toggleable__label {background-color: #d4ebff;}#sk-container-id-1 div.sk-serial::before {content: \"\";position: absolute;border-left: 1px solid gray;box-sizing: border-box;top: 0;bottom: 0;left: 50%;z-index: 0;}#sk-container-id-1 div.sk-serial {display: flex;flex-direction: column;align-items: center;background-color: white;padding-right: 0.2em;padding-left: 0.2em;position: relative;}#sk-container-id-1 div.sk-item {position: relative;z-index: 1;}#sk-container-id-1 div.sk-parallel {display: flex;align-items: stretch;justify-content: center;background-color: white;position: relative;}#sk-container-id-1 div.sk-item::before, #sk-container-id-1 div.sk-parallel-item::before {content: \"\";position: absolute;border-left: 1px solid gray;box-sizing: border-box;top: 0;bottom: 0;left: 50%;z-index: -1;}#sk-container-id-1 div.sk-parallel-item {display: flex;flex-direction: column;z-index: 1;position: relative;background-color: white;}#sk-container-id-1 div.sk-parallel-item:first-child::after {align-self: flex-end;width: 50%;}#sk-container-id-1 div.sk-parallel-item:last-child::after {align-self: flex-start;width: 50%;}#sk-container-id-1 div.sk-parallel-item:only-child::after {width: 0;}#sk-container-id-1 div.sk-dashed-wrapped {border: 1px dashed gray;margin: 0 0.4em 0.5em 0.4em;box-sizing: border-box;padding-bottom: 0.4em;background-color: white;}#sk-container-id-1 div.sk-label label {font-family: monospace;font-weight: bold;display: inline-block;line-height: 1.2em;}#sk-container-id-1 div.sk-label-container {text-align: center;}#sk-container-id-1 div.sk-container {/* jupyter's `normalize.less` sets `[hidden] { display: none; }` but bootstrap.min.css set `[hidden] { display: none !important; }` so we also need the `!important` here to be able to override the default hidden behavior on the sphinx rendered scikit-learn.org. See: https://github.com/scikit-learn/scikit-learn/issues/21755 */display: inline-block !important;position: relative;}#sk-container-id-1 div.sk-text-repr-fallback {display: none;}</style><div id=\"sk-container-id-1\" class=\"sk-top-container\"><div class=\"sk-text-repr-fallback\"><pre>Pipeline(steps=[(&#x27;simpleimputer&#x27;, SimpleImputer(strategy=&#x27;most_frequent&#x27;)),\n",
              "                (&#x27;onehotencoder&#x27;,\n",
              "                 OneHotEncoder(handle_unknown=&#x27;ignore&#x27;, sparse=False))])</pre><b>In a Jupyter environment, please rerun this cell to show the HTML representation or trust the notebook. <br />On GitHub, the HTML representation is unable to render, please try loading this page with nbviewer.org.</b></div><div class=\"sk-container\" hidden><div class=\"sk-item sk-dashed-wrapped\"><div class=\"sk-label-container\"><div class=\"sk-label sk-toggleable\"><input class=\"sk-toggleable__control sk-hidden--visually\" id=\"sk-estimator-id-1\" type=\"checkbox\" ><label for=\"sk-estimator-id-1\" class=\"sk-toggleable__label sk-toggleable__label-arrow\">Pipeline</label><div class=\"sk-toggleable__content\"><pre>Pipeline(steps=[(&#x27;simpleimputer&#x27;, SimpleImputer(strategy=&#x27;most_frequent&#x27;)),\n",
              "                (&#x27;onehotencoder&#x27;,\n",
              "                 OneHotEncoder(handle_unknown=&#x27;ignore&#x27;, sparse=False))])</pre></div></div></div><div class=\"sk-serial\"><div class=\"sk-item\"><div class=\"sk-estimator sk-toggleable\"><input class=\"sk-toggleable__control sk-hidden--visually\" id=\"sk-estimator-id-2\" type=\"checkbox\" ><label for=\"sk-estimator-id-2\" class=\"sk-toggleable__label sk-toggleable__label-arrow\">SimpleImputer</label><div class=\"sk-toggleable__content\"><pre>SimpleImputer(strategy=&#x27;most_frequent&#x27;)</pre></div></div></div><div class=\"sk-item\"><div class=\"sk-estimator sk-toggleable\"><input class=\"sk-toggleable__control sk-hidden--visually\" id=\"sk-estimator-id-3\" type=\"checkbox\" ><label for=\"sk-estimator-id-3\" class=\"sk-toggleable__label sk-toggleable__label-arrow\">OneHotEncoder</label><div class=\"sk-toggleable__content\"><pre>OneHotEncoder(handle_unknown=&#x27;ignore&#x27;, sparse=False)</pre></div></div></div></div></div></div></div>"
            ]
          },
          "metadata": {},
          "execution_count": 96
        }
      ]
    },
    {
      "cell_type": "code",
      "source": [
        "# Tuples para Column Transformer\n",
        "number_tuple = (numeric_pipe, num_selector)\n",
        "category_tuple = (categorical_pipe, cat_selector)\n",
        "# ColumnTransformer\n",
        "preprocessor = make_column_transformer(number_tuple, category_tuple)\n",
        "preprocessor"
      ],
      "metadata": {
        "colab": {
          "base_uri": "https://localhost:8080/",
          "height": 150
        },
        "id": "KmjFW9_nVn4a",
        "outputId": "cdb601b2-35ee-40eb-8ff3-531cbe1f346e"
      },
      "execution_count": 97,
      "outputs": [
        {
          "output_type": "execute_result",
          "data": {
            "text/plain": [
              "ColumnTransformer(transformers=[('pipeline-1',\n",
              "                                 Pipeline(steps=[('simpleimputer',\n",
              "                                                  SimpleImputer()),\n",
              "                                                 ('standardscaler',\n",
              "                                                  StandardScaler())]),\n",
              "                                 <sklearn.compose._column_transformer.make_column_selector object at 0x7f44e61ab310>),\n",
              "                                ('pipeline-2',\n",
              "                                 Pipeline(steps=[('simpleimputer',\n",
              "                                                  SimpleImputer(strategy='most_frequent')),\n",
              "                                                 ('onehotencoder',\n",
              "                                                  OneHotEncoder(handle_unknown='ignore',\n",
              "                                                                sparse=False))]),\n",
              "                                 <sklearn.compose._column_transformer.make_column_selector object at 0x7f44e61ab2b0>)])"
            ],
            "text/html": [
              "<style>#sk-container-id-2 {color: black;background-color: white;}#sk-container-id-2 pre{padding: 0;}#sk-container-id-2 div.sk-toggleable {background-color: white;}#sk-container-id-2 label.sk-toggleable__label {cursor: pointer;display: block;width: 100%;margin-bottom: 0;padding: 0.3em;box-sizing: border-box;text-align: center;}#sk-container-id-2 label.sk-toggleable__label-arrow:before {content: \"▸\";float: left;margin-right: 0.25em;color: #696969;}#sk-container-id-2 label.sk-toggleable__label-arrow:hover:before {color: black;}#sk-container-id-2 div.sk-estimator:hover label.sk-toggleable__label-arrow:before {color: black;}#sk-container-id-2 div.sk-toggleable__content {max-height: 0;max-width: 0;overflow: hidden;text-align: left;background-color: #f0f8ff;}#sk-container-id-2 div.sk-toggleable__content pre {margin: 0.2em;color: black;border-radius: 0.25em;background-color: #f0f8ff;}#sk-container-id-2 input.sk-toggleable__control:checked~div.sk-toggleable__content {max-height: 200px;max-width: 100%;overflow: auto;}#sk-container-id-2 input.sk-toggleable__control:checked~label.sk-toggleable__label-arrow:before {content: \"▾\";}#sk-container-id-2 div.sk-estimator input.sk-toggleable__control:checked~label.sk-toggleable__label {background-color: #d4ebff;}#sk-container-id-2 div.sk-label input.sk-toggleable__control:checked~label.sk-toggleable__label {background-color: #d4ebff;}#sk-container-id-2 input.sk-hidden--visually {border: 0;clip: rect(1px 1px 1px 1px);clip: rect(1px, 1px, 1px, 1px);height: 1px;margin: -1px;overflow: hidden;padding: 0;position: absolute;width: 1px;}#sk-container-id-2 div.sk-estimator {font-family: monospace;background-color: #f0f8ff;border: 1px dotted black;border-radius: 0.25em;box-sizing: border-box;margin-bottom: 0.5em;}#sk-container-id-2 div.sk-estimator:hover {background-color: #d4ebff;}#sk-container-id-2 div.sk-parallel-item::after {content: \"\";width: 100%;border-bottom: 1px solid gray;flex-grow: 1;}#sk-container-id-2 div.sk-label:hover label.sk-toggleable__label {background-color: #d4ebff;}#sk-container-id-2 div.sk-serial::before {content: \"\";position: absolute;border-left: 1px solid gray;box-sizing: border-box;top: 0;bottom: 0;left: 50%;z-index: 0;}#sk-container-id-2 div.sk-serial {display: flex;flex-direction: column;align-items: center;background-color: white;padding-right: 0.2em;padding-left: 0.2em;position: relative;}#sk-container-id-2 div.sk-item {position: relative;z-index: 1;}#sk-container-id-2 div.sk-parallel {display: flex;align-items: stretch;justify-content: center;background-color: white;position: relative;}#sk-container-id-2 div.sk-item::before, #sk-container-id-2 div.sk-parallel-item::before {content: \"\";position: absolute;border-left: 1px solid gray;box-sizing: border-box;top: 0;bottom: 0;left: 50%;z-index: -1;}#sk-container-id-2 div.sk-parallel-item {display: flex;flex-direction: column;z-index: 1;position: relative;background-color: white;}#sk-container-id-2 div.sk-parallel-item:first-child::after {align-self: flex-end;width: 50%;}#sk-container-id-2 div.sk-parallel-item:last-child::after {align-self: flex-start;width: 50%;}#sk-container-id-2 div.sk-parallel-item:only-child::after {width: 0;}#sk-container-id-2 div.sk-dashed-wrapped {border: 1px dashed gray;margin: 0 0.4em 0.5em 0.4em;box-sizing: border-box;padding-bottom: 0.4em;background-color: white;}#sk-container-id-2 div.sk-label label {font-family: monospace;font-weight: bold;display: inline-block;line-height: 1.2em;}#sk-container-id-2 div.sk-label-container {text-align: center;}#sk-container-id-2 div.sk-container {/* jupyter's `normalize.less` sets `[hidden] { display: none; }` but bootstrap.min.css set `[hidden] { display: none !important; }` so we also need the `!important` here to be able to override the default hidden behavior on the sphinx rendered scikit-learn.org. See: https://github.com/scikit-learn/scikit-learn/issues/21755 */display: inline-block !important;position: relative;}#sk-container-id-2 div.sk-text-repr-fallback {display: none;}</style><div id=\"sk-container-id-2\" class=\"sk-top-container\"><div class=\"sk-text-repr-fallback\"><pre>ColumnTransformer(transformers=[(&#x27;pipeline-1&#x27;,\n",
              "                                 Pipeline(steps=[(&#x27;simpleimputer&#x27;,\n",
              "                                                  SimpleImputer()),\n",
              "                                                 (&#x27;standardscaler&#x27;,\n",
              "                                                  StandardScaler())]),\n",
              "                                 &lt;sklearn.compose._column_transformer.make_column_selector object at 0x7f44e61ab310&gt;),\n",
              "                                (&#x27;pipeline-2&#x27;,\n",
              "                                 Pipeline(steps=[(&#x27;simpleimputer&#x27;,\n",
              "                                                  SimpleImputer(strategy=&#x27;most_frequent&#x27;)),\n",
              "                                                 (&#x27;onehotencoder&#x27;,\n",
              "                                                  OneHotEncoder(handle_unknown=&#x27;ignore&#x27;,\n",
              "                                                                sparse=False))]),\n",
              "                                 &lt;sklearn.compose._column_transformer.make_column_selector object at 0x7f44e61ab2b0&gt;)])</pre><b>In a Jupyter environment, please rerun this cell to show the HTML representation or trust the notebook. <br />On GitHub, the HTML representation is unable to render, please try loading this page with nbviewer.org.</b></div><div class=\"sk-container\" hidden><div class=\"sk-item sk-dashed-wrapped\"><div class=\"sk-label-container\"><div class=\"sk-label sk-toggleable\"><input class=\"sk-toggleable__control sk-hidden--visually\" id=\"sk-estimator-id-4\" type=\"checkbox\" ><label for=\"sk-estimator-id-4\" class=\"sk-toggleable__label sk-toggleable__label-arrow\">ColumnTransformer</label><div class=\"sk-toggleable__content\"><pre>ColumnTransformer(transformers=[(&#x27;pipeline-1&#x27;,\n",
              "                                 Pipeline(steps=[(&#x27;simpleimputer&#x27;,\n",
              "                                                  SimpleImputer()),\n",
              "                                                 (&#x27;standardscaler&#x27;,\n",
              "                                                  StandardScaler())]),\n",
              "                                 &lt;sklearn.compose._column_transformer.make_column_selector object at 0x7f44e61ab310&gt;),\n",
              "                                (&#x27;pipeline-2&#x27;,\n",
              "                                 Pipeline(steps=[(&#x27;simpleimputer&#x27;,\n",
              "                                                  SimpleImputer(strategy=&#x27;most_frequent&#x27;)),\n",
              "                                                 (&#x27;onehotencoder&#x27;,\n",
              "                                                  OneHotEncoder(handle_unknown=&#x27;ignore&#x27;,\n",
              "                                                                sparse=False))]),\n",
              "                                 &lt;sklearn.compose._column_transformer.make_column_selector object at 0x7f44e61ab2b0&gt;)])</pre></div></div></div><div class=\"sk-parallel\"><div class=\"sk-parallel-item\"><div class=\"sk-item\"><div class=\"sk-label-container\"><div class=\"sk-label sk-toggleable\"><input class=\"sk-toggleable__control sk-hidden--visually\" id=\"sk-estimator-id-5\" type=\"checkbox\" ><label for=\"sk-estimator-id-5\" class=\"sk-toggleable__label sk-toggleable__label-arrow\">pipeline-1</label><div class=\"sk-toggleable__content\"><pre>&lt;sklearn.compose._column_transformer.make_column_selector object at 0x7f44e61ab310&gt;</pre></div></div></div><div class=\"sk-serial\"><div class=\"sk-item\"><div class=\"sk-serial\"><div class=\"sk-item\"><div class=\"sk-estimator sk-toggleable\"><input class=\"sk-toggleable__control sk-hidden--visually\" id=\"sk-estimator-id-6\" type=\"checkbox\" ><label for=\"sk-estimator-id-6\" class=\"sk-toggleable__label sk-toggleable__label-arrow\">SimpleImputer</label><div class=\"sk-toggleable__content\"><pre>SimpleImputer()</pre></div></div></div><div class=\"sk-item\"><div class=\"sk-estimator sk-toggleable\"><input class=\"sk-toggleable__control sk-hidden--visually\" id=\"sk-estimator-id-7\" type=\"checkbox\" ><label for=\"sk-estimator-id-7\" class=\"sk-toggleable__label sk-toggleable__label-arrow\">StandardScaler</label><div class=\"sk-toggleable__content\"><pre>StandardScaler()</pre></div></div></div></div></div></div></div></div><div class=\"sk-parallel-item\"><div class=\"sk-item\"><div class=\"sk-label-container\"><div class=\"sk-label sk-toggleable\"><input class=\"sk-toggleable__control sk-hidden--visually\" id=\"sk-estimator-id-8\" type=\"checkbox\" ><label for=\"sk-estimator-id-8\" class=\"sk-toggleable__label sk-toggleable__label-arrow\">pipeline-2</label><div class=\"sk-toggleable__content\"><pre>&lt;sklearn.compose._column_transformer.make_column_selector object at 0x7f44e61ab2b0&gt;</pre></div></div></div><div class=\"sk-serial\"><div class=\"sk-item\"><div class=\"sk-serial\"><div class=\"sk-item\"><div class=\"sk-estimator sk-toggleable\"><input class=\"sk-toggleable__control sk-hidden--visually\" id=\"sk-estimator-id-9\" type=\"checkbox\" ><label for=\"sk-estimator-id-9\" class=\"sk-toggleable__label sk-toggleable__label-arrow\">SimpleImputer</label><div class=\"sk-toggleable__content\"><pre>SimpleImputer(strategy=&#x27;most_frequent&#x27;)</pre></div></div></div><div class=\"sk-item\"><div class=\"sk-estimator sk-toggleable\"><input class=\"sk-toggleable__control sk-hidden--visually\" id=\"sk-estimator-id-10\" type=\"checkbox\" ><label for=\"sk-estimator-id-10\" class=\"sk-toggleable__label sk-toggleable__label-arrow\">OneHotEncoder</label><div class=\"sk-toggleable__content\"><pre>OneHotEncoder(handle_unknown=&#x27;ignore&#x27;, sparse=False)</pre></div></div></div></div></div></div></div></div></div></div></div></div>"
            ]
          },
          "metadata": {},
          "execution_count": 97
        }
      ]
    },
    {
      "cell_type": "code",
      "source": [
        "# fit on train\n",
        "preprocessor.fit(X_train)"
      ],
      "metadata": {
        "colab": {
          "base_uri": "https://localhost:8080/",
          "height": 220
        },
        "id": "rJ2lgcIZVpyi",
        "outputId": "fbc12967-eac7-4917-eab1-d756cb15ab39"
      },
      "execution_count": 98,
      "outputs": [
        {
          "output_type": "stream",
          "name": "stderr",
          "text": [
            "/usr/local/lib/python3.9/dist-packages/sklearn/preprocessing/_encoders.py:868: FutureWarning:\n",
            "\n",
            "`sparse` was renamed to `sparse_output` in version 1.2 and will be removed in 1.4. `sparse_output` is ignored unless you leave `sparse` to its default value.\n",
            "\n"
          ]
        },
        {
          "output_type": "execute_result",
          "data": {
            "text/plain": [
              "ColumnTransformer(transformers=[('pipeline-1',\n",
              "                                 Pipeline(steps=[('simpleimputer',\n",
              "                                                  SimpleImputer()),\n",
              "                                                 ('standardscaler',\n",
              "                                                  StandardScaler())]),\n",
              "                                 <sklearn.compose._column_transformer.make_column_selector object at 0x7f44e61ab310>),\n",
              "                                ('pipeline-2',\n",
              "                                 Pipeline(steps=[('simpleimputer',\n",
              "                                                  SimpleImputer(strategy='most_frequent')),\n",
              "                                                 ('onehotencoder',\n",
              "                                                  OneHotEncoder(handle_unknown='ignore',\n",
              "                                                                sparse=False))]),\n",
              "                                 <sklearn.compose._column_transformer.make_column_selector object at 0x7f44e61ab2b0>)])"
            ],
            "text/html": [
              "<style>#sk-container-id-3 {color: black;background-color: white;}#sk-container-id-3 pre{padding: 0;}#sk-container-id-3 div.sk-toggleable {background-color: white;}#sk-container-id-3 label.sk-toggleable__label {cursor: pointer;display: block;width: 100%;margin-bottom: 0;padding: 0.3em;box-sizing: border-box;text-align: center;}#sk-container-id-3 label.sk-toggleable__label-arrow:before {content: \"▸\";float: left;margin-right: 0.25em;color: #696969;}#sk-container-id-3 label.sk-toggleable__label-arrow:hover:before {color: black;}#sk-container-id-3 div.sk-estimator:hover label.sk-toggleable__label-arrow:before {color: black;}#sk-container-id-3 div.sk-toggleable__content {max-height: 0;max-width: 0;overflow: hidden;text-align: left;background-color: #f0f8ff;}#sk-container-id-3 div.sk-toggleable__content pre {margin: 0.2em;color: black;border-radius: 0.25em;background-color: #f0f8ff;}#sk-container-id-3 input.sk-toggleable__control:checked~div.sk-toggleable__content {max-height: 200px;max-width: 100%;overflow: auto;}#sk-container-id-3 input.sk-toggleable__control:checked~label.sk-toggleable__label-arrow:before {content: \"▾\";}#sk-container-id-3 div.sk-estimator input.sk-toggleable__control:checked~label.sk-toggleable__label {background-color: #d4ebff;}#sk-container-id-3 div.sk-label input.sk-toggleable__control:checked~label.sk-toggleable__label {background-color: #d4ebff;}#sk-container-id-3 input.sk-hidden--visually {border: 0;clip: rect(1px 1px 1px 1px);clip: rect(1px, 1px, 1px, 1px);height: 1px;margin: -1px;overflow: hidden;padding: 0;position: absolute;width: 1px;}#sk-container-id-3 div.sk-estimator {font-family: monospace;background-color: #f0f8ff;border: 1px dotted black;border-radius: 0.25em;box-sizing: border-box;margin-bottom: 0.5em;}#sk-container-id-3 div.sk-estimator:hover {background-color: #d4ebff;}#sk-container-id-3 div.sk-parallel-item::after {content: \"\";width: 100%;border-bottom: 1px solid gray;flex-grow: 1;}#sk-container-id-3 div.sk-label:hover label.sk-toggleable__label {background-color: #d4ebff;}#sk-container-id-3 div.sk-serial::before {content: \"\";position: absolute;border-left: 1px solid gray;box-sizing: border-box;top: 0;bottom: 0;left: 50%;z-index: 0;}#sk-container-id-3 div.sk-serial {display: flex;flex-direction: column;align-items: center;background-color: white;padding-right: 0.2em;padding-left: 0.2em;position: relative;}#sk-container-id-3 div.sk-item {position: relative;z-index: 1;}#sk-container-id-3 div.sk-parallel {display: flex;align-items: stretch;justify-content: center;background-color: white;position: relative;}#sk-container-id-3 div.sk-item::before, #sk-container-id-3 div.sk-parallel-item::before {content: \"\";position: absolute;border-left: 1px solid gray;box-sizing: border-box;top: 0;bottom: 0;left: 50%;z-index: -1;}#sk-container-id-3 div.sk-parallel-item {display: flex;flex-direction: column;z-index: 1;position: relative;background-color: white;}#sk-container-id-3 div.sk-parallel-item:first-child::after {align-self: flex-end;width: 50%;}#sk-container-id-3 div.sk-parallel-item:last-child::after {align-self: flex-start;width: 50%;}#sk-container-id-3 div.sk-parallel-item:only-child::after {width: 0;}#sk-container-id-3 div.sk-dashed-wrapped {border: 1px dashed gray;margin: 0 0.4em 0.5em 0.4em;box-sizing: border-box;padding-bottom: 0.4em;background-color: white;}#sk-container-id-3 div.sk-label label {font-family: monospace;font-weight: bold;display: inline-block;line-height: 1.2em;}#sk-container-id-3 div.sk-label-container {text-align: center;}#sk-container-id-3 div.sk-container {/* jupyter's `normalize.less` sets `[hidden] { display: none; }` but bootstrap.min.css set `[hidden] { display: none !important; }` so we also need the `!important` here to be able to override the default hidden behavior on the sphinx rendered scikit-learn.org. See: https://github.com/scikit-learn/scikit-learn/issues/21755 */display: inline-block !important;position: relative;}#sk-container-id-3 div.sk-text-repr-fallback {display: none;}</style><div id=\"sk-container-id-3\" class=\"sk-top-container\"><div class=\"sk-text-repr-fallback\"><pre>ColumnTransformer(transformers=[(&#x27;pipeline-1&#x27;,\n",
              "                                 Pipeline(steps=[(&#x27;simpleimputer&#x27;,\n",
              "                                                  SimpleImputer()),\n",
              "                                                 (&#x27;standardscaler&#x27;,\n",
              "                                                  StandardScaler())]),\n",
              "                                 &lt;sklearn.compose._column_transformer.make_column_selector object at 0x7f44e61ab310&gt;),\n",
              "                                (&#x27;pipeline-2&#x27;,\n",
              "                                 Pipeline(steps=[(&#x27;simpleimputer&#x27;,\n",
              "                                                  SimpleImputer(strategy=&#x27;most_frequent&#x27;)),\n",
              "                                                 (&#x27;onehotencoder&#x27;,\n",
              "                                                  OneHotEncoder(handle_unknown=&#x27;ignore&#x27;,\n",
              "                                                                sparse=False))]),\n",
              "                                 &lt;sklearn.compose._column_transformer.make_column_selector object at 0x7f44e61ab2b0&gt;)])</pre><b>In a Jupyter environment, please rerun this cell to show the HTML representation or trust the notebook. <br />On GitHub, the HTML representation is unable to render, please try loading this page with nbviewer.org.</b></div><div class=\"sk-container\" hidden><div class=\"sk-item sk-dashed-wrapped\"><div class=\"sk-label-container\"><div class=\"sk-label sk-toggleable\"><input class=\"sk-toggleable__control sk-hidden--visually\" id=\"sk-estimator-id-11\" type=\"checkbox\" ><label for=\"sk-estimator-id-11\" class=\"sk-toggleable__label sk-toggleable__label-arrow\">ColumnTransformer</label><div class=\"sk-toggleable__content\"><pre>ColumnTransformer(transformers=[(&#x27;pipeline-1&#x27;,\n",
              "                                 Pipeline(steps=[(&#x27;simpleimputer&#x27;,\n",
              "                                                  SimpleImputer()),\n",
              "                                                 (&#x27;standardscaler&#x27;,\n",
              "                                                  StandardScaler())]),\n",
              "                                 &lt;sklearn.compose._column_transformer.make_column_selector object at 0x7f44e61ab310&gt;),\n",
              "                                (&#x27;pipeline-2&#x27;,\n",
              "                                 Pipeline(steps=[(&#x27;simpleimputer&#x27;,\n",
              "                                                  SimpleImputer(strategy=&#x27;most_frequent&#x27;)),\n",
              "                                                 (&#x27;onehotencoder&#x27;,\n",
              "                                                  OneHotEncoder(handle_unknown=&#x27;ignore&#x27;,\n",
              "                                                                sparse=False))]),\n",
              "                                 &lt;sklearn.compose._column_transformer.make_column_selector object at 0x7f44e61ab2b0&gt;)])</pre></div></div></div><div class=\"sk-parallel\"><div class=\"sk-parallel-item\"><div class=\"sk-item\"><div class=\"sk-label-container\"><div class=\"sk-label sk-toggleable\"><input class=\"sk-toggleable__control sk-hidden--visually\" id=\"sk-estimator-id-12\" type=\"checkbox\" ><label for=\"sk-estimator-id-12\" class=\"sk-toggleable__label sk-toggleable__label-arrow\">pipeline-1</label><div class=\"sk-toggleable__content\"><pre>&lt;sklearn.compose._column_transformer.make_column_selector object at 0x7f44e61ab310&gt;</pre></div></div></div><div class=\"sk-serial\"><div class=\"sk-item\"><div class=\"sk-serial\"><div class=\"sk-item\"><div class=\"sk-estimator sk-toggleable\"><input class=\"sk-toggleable__control sk-hidden--visually\" id=\"sk-estimator-id-13\" type=\"checkbox\" ><label for=\"sk-estimator-id-13\" class=\"sk-toggleable__label sk-toggleable__label-arrow\">SimpleImputer</label><div class=\"sk-toggleable__content\"><pre>SimpleImputer()</pre></div></div></div><div class=\"sk-item\"><div class=\"sk-estimator sk-toggleable\"><input class=\"sk-toggleable__control sk-hidden--visually\" id=\"sk-estimator-id-14\" type=\"checkbox\" ><label for=\"sk-estimator-id-14\" class=\"sk-toggleable__label sk-toggleable__label-arrow\">StandardScaler</label><div class=\"sk-toggleable__content\"><pre>StandardScaler()</pre></div></div></div></div></div></div></div></div><div class=\"sk-parallel-item\"><div class=\"sk-item\"><div class=\"sk-label-container\"><div class=\"sk-label sk-toggleable\"><input class=\"sk-toggleable__control sk-hidden--visually\" id=\"sk-estimator-id-15\" type=\"checkbox\" ><label for=\"sk-estimator-id-15\" class=\"sk-toggleable__label sk-toggleable__label-arrow\">pipeline-2</label><div class=\"sk-toggleable__content\"><pre>&lt;sklearn.compose._column_transformer.make_column_selector object at 0x7f44e61ab2b0&gt;</pre></div></div></div><div class=\"sk-serial\"><div class=\"sk-item\"><div class=\"sk-serial\"><div class=\"sk-item\"><div class=\"sk-estimator sk-toggleable\"><input class=\"sk-toggleable__control sk-hidden--visually\" id=\"sk-estimator-id-16\" type=\"checkbox\" ><label for=\"sk-estimator-id-16\" class=\"sk-toggleable__label sk-toggleable__label-arrow\">SimpleImputer</label><div class=\"sk-toggleable__content\"><pre>SimpleImputer(strategy=&#x27;most_frequent&#x27;)</pre></div></div></div><div class=\"sk-item\"><div class=\"sk-estimator sk-toggleable\"><input class=\"sk-toggleable__control sk-hidden--visually\" id=\"sk-estimator-id-17\" type=\"checkbox\" ><label for=\"sk-estimator-id-17\" class=\"sk-toggleable__label sk-toggleable__label-arrow\">OneHotEncoder</label><div class=\"sk-toggleable__content\"><pre>OneHotEncoder(handle_unknown=&#x27;ignore&#x27;, sparse=False)</pre></div></div></div></div></div></div></div></div></div></div></div></div>"
            ]
          },
          "metadata": {},
          "execution_count": 98
        }
      ]
    },
    {
      "cell_type": "code",
      "source": [
        "# transform train and test\n",
        "X_train_processed = preprocessor.transform(X_train)\n",
        "X_test_processed = preprocessor.transform(X_test)"
      ],
      "metadata": {
        "id": "2UlahVpyVp06"
      },
      "execution_count": 99,
      "outputs": []
    },
    {
      "cell_type": "code",
      "source": [
        "# Comprueben los valores faltantes y que los datos se escalen y tengan una codificación one-hot\n",
        "print(np.isnan(X_train_processed).sum().sum(), 'missing values in training data')\n",
        "print(np.isnan(X_test_processed).sum().sum(), 'missing values in testing data')\n",
        "print('')\n",
        "print('All data in X_train_processed are', X_train_processed.dtype)\n",
        "print('All data in X_test_processed are', X_test_processed.dtype)\n",
        "print('')\n",
        "print('shape of data is', X_train_processed.shape)"
      ],
      "metadata": {
        "colab": {
          "base_uri": "https://localhost:8080/"
        },
        "id": "8WdUHnxJVp2_",
        "outputId": "5f0c08fb-35d6-4863-eb6b-02926bedfebd"
      },
      "execution_count": 100,
      "outputs": [
        {
          "output_type": "stream",
          "name": "stdout",
          "text": [
            "0 missing values in training data\n",
            "0 missing values in testing data\n",
            "\n",
            "All data in X_train_processed are float64\n",
            "All data in X_test_processed are float64\n",
            "\n",
            "shape of data is (6392, 23)\n"
          ]
        }
      ]
    },
    {
      "cell_type": "code",
      "source": [
        "col=preprocessor.get_feature_names_out()\n",
        "X_train = pd.DataFrame(X_train_processed, columns=col)\n",
        "X_test = pd.DataFrame(X_test_processed, columns=col)"
      ],
      "metadata": {
        "id": "0mcnsxLnyZmZ"
      },
      "execution_count": 101,
      "outputs": []
    },
    {
      "cell_type": "code",
      "source": [
        "X_train.head()"
      ],
      "metadata": {
        "colab": {
          "base_uri": "https://localhost:8080/",
          "height": 334
        },
        "id": "RO3T6ZWJzL5o",
        "outputId": "7d3c85d4-a5b1-44e6-f386-0f0fa7dd31f6"
      },
      "execution_count": 102,
      "outputs": [
        {
          "output_type": "execute_result",
          "data": {
            "text/plain": [
              "   pipeline-1__Item_Weight  pipeline-1__Item_Fat_Content  \\\n",
              "0                 0.817249                     -0.740321   \n",
              "1                 0.556340                      1.350766   \n",
              "2                -0.131512                      1.350766   \n",
              "3                -1.169219                     -0.740321   \n",
              "4                 1.528819                     -0.740321   \n",
              "\n",
              "   pipeline-1__Item_Visibility  pipeline-1__Item_MRP  pipeline-1__Outlet_Size  \\\n",
              "0                    -0.712775              1.828109             4.077854e-01   \n",
              "1                    -1.291052              0.603369             4.077854e-01   \n",
              "2                     1.813319              0.244541             4.077854e-01   \n",
              "3                    -1.004931             -0.952591            -1.291630e+00   \n",
              "4                    -0.965484             -0.336460            -3.773459e-16   \n",
              "\n",
              "   pipeline-1__Outlet_Location_Type  pipeline-1__Outlet_Type  \\\n",
              "0                          1.084948                 0.983572   \n",
              "1                          1.084948                 0.983572   \n",
              "2                         -1.384777                -0.263600   \n",
              "3                         -0.149914                -0.263600   \n",
              "4                         -0.149914                -0.263600   \n",
              "\n",
              "   pipeline-2__Item_Type_Baking Goods  pipeline-2__Item_Type_Breads  \\\n",
              "0                                 0.0                           0.0   \n",
              "1                                 0.0                           0.0   \n",
              "2                                 0.0                           0.0   \n",
              "3                                 1.0                           0.0   \n",
              "4                                 0.0                           0.0   \n",
              "\n",
              "   pipeline-2__Item_Type_Breakfast  ...  \\\n",
              "0                              0.0  ...   \n",
              "1                              0.0  ...   \n",
              "2                              0.0  ...   \n",
              "3                              0.0  ...   \n",
              "4                              0.0  ...   \n",
              "\n",
              "   pipeline-2__Item_Type_Fruits and Vegetables  \\\n",
              "0                                          0.0   \n",
              "1                                          0.0   \n",
              "2                                          0.0   \n",
              "3                                          0.0   \n",
              "4                                          0.0   \n",
              "\n",
              "   pipeline-2__Item_Type_Hard Drinks  \\\n",
              "0                                0.0   \n",
              "1                                0.0   \n",
              "2                                0.0   \n",
              "3                                0.0   \n",
              "4                                0.0   \n",
              "\n",
              "   pipeline-2__Item_Type_Health and Hygiene  pipeline-2__Item_Type_Household  \\\n",
              "0                                       0.0                              1.0   \n",
              "1                                       0.0                              0.0   \n",
              "2                                       0.0                              0.0   \n",
              "3                                       0.0                              0.0   \n",
              "4                                       0.0                              0.0   \n",
              "\n",
              "   pipeline-2__Item_Type_Meat  pipeline-2__Item_Type_Others  \\\n",
              "0                         0.0                           0.0   \n",
              "1                         0.0                           0.0   \n",
              "2                         1.0                           0.0   \n",
              "3                         0.0                           0.0   \n",
              "4                         0.0                           0.0   \n",
              "\n",
              "   pipeline-2__Item_Type_Seafood  pipeline-2__Item_Type_Snack Foods  \\\n",
              "0                            0.0                                0.0   \n",
              "1                            0.0                                1.0   \n",
              "2                            0.0                                0.0   \n",
              "3                            0.0                                0.0   \n",
              "4                            0.0                                0.0   \n",
              "\n",
              "   pipeline-2__Item_Type_Soft Drinks  pipeline-2__Item_Type_Starchy Foods  \n",
              "0                                0.0                                  0.0  \n",
              "1                                0.0                                  0.0  \n",
              "2                                0.0                                  0.0  \n",
              "3                                0.0                                  0.0  \n",
              "4                                0.0                                  0.0  \n",
              "\n",
              "[5 rows x 23 columns]"
            ],
            "text/html": [
              "\n",
              "  <div id=\"df-56d0e129-aa82-45d4-aca6-0997c08e15df\">\n",
              "    <div class=\"colab-df-container\">\n",
              "      <div>\n",
              "<style scoped>\n",
              "    .dataframe tbody tr th:only-of-type {\n",
              "        vertical-align: middle;\n",
              "    }\n",
              "\n",
              "    .dataframe tbody tr th {\n",
              "        vertical-align: top;\n",
              "    }\n",
              "\n",
              "    .dataframe thead th {\n",
              "        text-align: right;\n",
              "    }\n",
              "</style>\n",
              "<table border=\"1\" class=\"dataframe\">\n",
              "  <thead>\n",
              "    <tr style=\"text-align: right;\">\n",
              "      <th></th>\n",
              "      <th>pipeline-1__Item_Weight</th>\n",
              "      <th>pipeline-1__Item_Fat_Content</th>\n",
              "      <th>pipeline-1__Item_Visibility</th>\n",
              "      <th>pipeline-1__Item_MRP</th>\n",
              "      <th>pipeline-1__Outlet_Size</th>\n",
              "      <th>pipeline-1__Outlet_Location_Type</th>\n",
              "      <th>pipeline-1__Outlet_Type</th>\n",
              "      <th>pipeline-2__Item_Type_Baking Goods</th>\n",
              "      <th>pipeline-2__Item_Type_Breads</th>\n",
              "      <th>pipeline-2__Item_Type_Breakfast</th>\n",
              "      <th>...</th>\n",
              "      <th>pipeline-2__Item_Type_Fruits and Vegetables</th>\n",
              "      <th>pipeline-2__Item_Type_Hard Drinks</th>\n",
              "      <th>pipeline-2__Item_Type_Health and Hygiene</th>\n",
              "      <th>pipeline-2__Item_Type_Household</th>\n",
              "      <th>pipeline-2__Item_Type_Meat</th>\n",
              "      <th>pipeline-2__Item_Type_Others</th>\n",
              "      <th>pipeline-2__Item_Type_Seafood</th>\n",
              "      <th>pipeline-2__Item_Type_Snack Foods</th>\n",
              "      <th>pipeline-2__Item_Type_Soft Drinks</th>\n",
              "      <th>pipeline-2__Item_Type_Starchy Foods</th>\n",
              "    </tr>\n",
              "  </thead>\n",
              "  <tbody>\n",
              "    <tr>\n",
              "      <th>0</th>\n",
              "      <td>0.817249</td>\n",
              "      <td>-0.740321</td>\n",
              "      <td>-0.712775</td>\n",
              "      <td>1.828109</td>\n",
              "      <td>4.077854e-01</td>\n",
              "      <td>1.084948</td>\n",
              "      <td>0.983572</td>\n",
              "      <td>0.0</td>\n",
              "      <td>0.0</td>\n",
              "      <td>0.0</td>\n",
              "      <td>...</td>\n",
              "      <td>0.0</td>\n",
              "      <td>0.0</td>\n",
              "      <td>0.0</td>\n",
              "      <td>1.0</td>\n",
              "      <td>0.0</td>\n",
              "      <td>0.0</td>\n",
              "      <td>0.0</td>\n",
              "      <td>0.0</td>\n",
              "      <td>0.0</td>\n",
              "      <td>0.0</td>\n",
              "    </tr>\n",
              "    <tr>\n",
              "      <th>1</th>\n",
              "      <td>0.556340</td>\n",
              "      <td>1.350766</td>\n",
              "      <td>-1.291052</td>\n",
              "      <td>0.603369</td>\n",
              "      <td>4.077854e-01</td>\n",
              "      <td>1.084948</td>\n",
              "      <td>0.983572</td>\n",
              "      <td>0.0</td>\n",
              "      <td>0.0</td>\n",
              "      <td>0.0</td>\n",
              "      <td>...</td>\n",
              "      <td>0.0</td>\n",
              "      <td>0.0</td>\n",
              "      <td>0.0</td>\n",
              "      <td>0.0</td>\n",
              "      <td>0.0</td>\n",
              "      <td>0.0</td>\n",
              "      <td>0.0</td>\n",
              "      <td>1.0</td>\n",
              "      <td>0.0</td>\n",
              "      <td>0.0</td>\n",
              "    </tr>\n",
              "    <tr>\n",
              "      <th>2</th>\n",
              "      <td>-0.131512</td>\n",
              "      <td>1.350766</td>\n",
              "      <td>1.813319</td>\n",
              "      <td>0.244541</td>\n",
              "      <td>4.077854e-01</td>\n",
              "      <td>-1.384777</td>\n",
              "      <td>-0.263600</td>\n",
              "      <td>0.0</td>\n",
              "      <td>0.0</td>\n",
              "      <td>0.0</td>\n",
              "      <td>...</td>\n",
              "      <td>0.0</td>\n",
              "      <td>0.0</td>\n",
              "      <td>0.0</td>\n",
              "      <td>0.0</td>\n",
              "      <td>1.0</td>\n",
              "      <td>0.0</td>\n",
              "      <td>0.0</td>\n",
              "      <td>0.0</td>\n",
              "      <td>0.0</td>\n",
              "      <td>0.0</td>\n",
              "    </tr>\n",
              "    <tr>\n",
              "      <th>3</th>\n",
              "      <td>-1.169219</td>\n",
              "      <td>-0.740321</td>\n",
              "      <td>-1.004931</td>\n",
              "      <td>-0.952591</td>\n",
              "      <td>-1.291630e+00</td>\n",
              "      <td>-0.149914</td>\n",
              "      <td>-0.263600</td>\n",
              "      <td>1.0</td>\n",
              "      <td>0.0</td>\n",
              "      <td>0.0</td>\n",
              "      <td>...</td>\n",
              "      <td>0.0</td>\n",
              "      <td>0.0</td>\n",
              "      <td>0.0</td>\n",
              "      <td>0.0</td>\n",
              "      <td>0.0</td>\n",
              "      <td>0.0</td>\n",
              "      <td>0.0</td>\n",
              "      <td>0.0</td>\n",
              "      <td>0.0</td>\n",
              "      <td>0.0</td>\n",
              "    </tr>\n",
              "    <tr>\n",
              "      <th>4</th>\n",
              "      <td>1.528819</td>\n",
              "      <td>-0.740321</td>\n",
              "      <td>-0.965484</td>\n",
              "      <td>-0.336460</td>\n",
              "      <td>-3.773459e-16</td>\n",
              "      <td>-0.149914</td>\n",
              "      <td>-0.263600</td>\n",
              "      <td>0.0</td>\n",
              "      <td>0.0</td>\n",
              "      <td>0.0</td>\n",
              "      <td>...</td>\n",
              "      <td>0.0</td>\n",
              "      <td>0.0</td>\n",
              "      <td>0.0</td>\n",
              "      <td>0.0</td>\n",
              "      <td>0.0</td>\n",
              "      <td>0.0</td>\n",
              "      <td>0.0</td>\n",
              "      <td>0.0</td>\n",
              "      <td>0.0</td>\n",
              "      <td>0.0</td>\n",
              "    </tr>\n",
              "  </tbody>\n",
              "</table>\n",
              "<p>5 rows × 23 columns</p>\n",
              "</div>\n",
              "      <button class=\"colab-df-convert\" onclick=\"convertToInteractive('df-56d0e129-aa82-45d4-aca6-0997c08e15df')\"\n",
              "              title=\"Convert this dataframe to an interactive table.\"\n",
              "              style=\"display:none;\">\n",
              "        \n",
              "  <svg xmlns=\"http://www.w3.org/2000/svg\" height=\"24px\"viewBox=\"0 0 24 24\"\n",
              "       width=\"24px\">\n",
              "    <path d=\"M0 0h24v24H0V0z\" fill=\"none\"/>\n",
              "    <path d=\"M18.56 5.44l.94 2.06.94-2.06 2.06-.94-2.06-.94-.94-2.06-.94 2.06-2.06.94zm-11 1L8.5 8.5l.94-2.06 2.06-.94-2.06-.94L8.5 2.5l-.94 2.06-2.06.94zm10 10l.94 2.06.94-2.06 2.06-.94-2.06-.94-.94-2.06-.94 2.06-2.06.94z\"/><path d=\"M17.41 7.96l-1.37-1.37c-.4-.4-.92-.59-1.43-.59-.52 0-1.04.2-1.43.59L10.3 9.45l-7.72 7.72c-.78.78-.78 2.05 0 2.83L4 21.41c.39.39.9.59 1.41.59.51 0 1.02-.2 1.41-.59l7.78-7.78 2.81-2.81c.8-.78.8-2.07 0-2.86zM5.41 20L4 18.59l7.72-7.72 1.47 1.35L5.41 20z\"/>\n",
              "  </svg>\n",
              "      </button>\n",
              "      \n",
              "  <style>\n",
              "    .colab-df-container {\n",
              "      display:flex;\n",
              "      flex-wrap:wrap;\n",
              "      gap: 12px;\n",
              "    }\n",
              "\n",
              "    .colab-df-convert {\n",
              "      background-color: #E8F0FE;\n",
              "      border: none;\n",
              "      border-radius: 50%;\n",
              "      cursor: pointer;\n",
              "      display: none;\n",
              "      fill: #1967D2;\n",
              "      height: 32px;\n",
              "      padding: 0 0 0 0;\n",
              "      width: 32px;\n",
              "    }\n",
              "\n",
              "    .colab-df-convert:hover {\n",
              "      background-color: #E2EBFA;\n",
              "      box-shadow: 0px 1px 2px rgba(60, 64, 67, 0.3), 0px 1px 3px 1px rgba(60, 64, 67, 0.15);\n",
              "      fill: #174EA6;\n",
              "    }\n",
              "\n",
              "    [theme=dark] .colab-df-convert {\n",
              "      background-color: #3B4455;\n",
              "      fill: #D2E3FC;\n",
              "    }\n",
              "\n",
              "    [theme=dark] .colab-df-convert:hover {\n",
              "      background-color: #434B5C;\n",
              "      box-shadow: 0px 1px 3px 1px rgba(0, 0, 0, 0.15);\n",
              "      filter: drop-shadow(0px 1px 2px rgba(0, 0, 0, 0.3));\n",
              "      fill: #FFFFFF;\n",
              "    }\n",
              "  </style>\n",
              "\n",
              "      <script>\n",
              "        const buttonEl =\n",
              "          document.querySelector('#df-56d0e129-aa82-45d4-aca6-0997c08e15df button.colab-df-convert');\n",
              "        buttonEl.style.display =\n",
              "          google.colab.kernel.accessAllowed ? 'block' : 'none';\n",
              "\n",
              "        async function convertToInteractive(key) {\n",
              "          const element = document.querySelector('#df-56d0e129-aa82-45d4-aca6-0997c08e15df');\n",
              "          const dataTable =\n",
              "            await google.colab.kernel.invokeFunction('convertToInteractive',\n",
              "                                                     [key], {});\n",
              "          if (!dataTable) return;\n",
              "\n",
              "          const docLinkHtml = 'Like what you see? Visit the ' +\n",
              "            '<a target=\"_blank\" href=https://colab.research.google.com/notebooks/data_table.ipynb>data table notebook</a>'\n",
              "            + ' to learn more about interactive tables.';\n",
              "          element.innerHTML = '';\n",
              "          dataTable['output_type'] = 'display_data';\n",
              "          await google.colab.output.renderOutput(dataTable, element);\n",
              "          const docLink = document.createElement('div');\n",
              "          docLink.innerHTML = docLinkHtml;\n",
              "          element.appendChild(docLink);\n",
              "        }\n",
              "      </script>\n",
              "    </div>\n",
              "  </div>\n",
              "  "
            ]
          },
          "metadata": {},
          "execution_count": 102
        }
      ]
    },
    {
      "cell_type": "code",
      "source": [
        "X_test.head()"
      ],
      "metadata": {
        "colab": {
          "base_uri": "https://localhost:8080/",
          "height": 334
        },
        "id": "nDKdYhoR2_7t",
        "outputId": "f6552ede-bab3-41f7-8be5-448bb3e12674"
      },
      "execution_count": 103,
      "outputs": [
        {
          "output_type": "execute_result",
          "data": {
            "text/plain": [
              "   pipeline-1__Item_Weight  pipeline-1__Item_Fat_Content  \\\n",
              "0             3.310089e-01                     -0.740321   \n",
              "1            -1.179892e+00                     -0.740321   \n",
              "2             3.784469e-01                      1.350766   \n",
              "3             4.213344e-16                      1.350766   \n",
              "4            -6.426567e-01                      1.350766   \n",
              "\n",
              "   pipeline-1__Item_Visibility  pipeline-1__Item_MRP  pipeline-1__Outlet_Size  \\\n",
              "0                    -0.776646             -0.998816                 2.107200   \n",
              "1                     0.100317             -1.585194                -1.291630   \n",
              "2                    -0.482994             -1.595784                 0.407785   \n",
              "3                    -0.415440              0.506592                 0.407785   \n",
              "4                    -1.047426              0.886725                -1.291630   \n",
              "\n",
              "   pipeline-1__Outlet_Location_Type  pipeline-1__Outlet_Type  \\\n",
              "0                          1.084948                -0.263600   \n",
              "1                         -1.384777                -0.263600   \n",
              "2                         -1.384777                -0.263600   \n",
              "3                          1.084948                 2.230744   \n",
              "4                         -0.149914                -0.263600   \n",
              "\n",
              "   pipeline-2__Item_Type_Baking Goods  pipeline-2__Item_Type_Breads  \\\n",
              "0                                 0.0                           0.0   \n",
              "1                                 0.0                           0.0   \n",
              "2                                 0.0                           0.0   \n",
              "3                                 0.0                           0.0   \n",
              "4                                 0.0                           0.0   \n",
              "\n",
              "   pipeline-2__Item_Type_Breakfast  ...  \\\n",
              "0                              0.0  ...   \n",
              "1                              0.0  ...   \n",
              "2                              0.0  ...   \n",
              "3                              0.0  ...   \n",
              "4                              0.0  ...   \n",
              "\n",
              "   pipeline-2__Item_Type_Fruits and Vegetables  \\\n",
              "0                                          0.0   \n",
              "1                                          0.0   \n",
              "2                                          0.0   \n",
              "3                                          0.0   \n",
              "4                                          0.0   \n",
              "\n",
              "   pipeline-2__Item_Type_Hard Drinks  \\\n",
              "0                                0.0   \n",
              "1                                0.0   \n",
              "2                                0.0   \n",
              "3                                0.0   \n",
              "4                                0.0   \n",
              "\n",
              "   pipeline-2__Item_Type_Health and Hygiene  pipeline-2__Item_Type_Household  \\\n",
              "0                                       0.0                              0.0   \n",
              "1                                       1.0                              0.0   \n",
              "2                                       0.0                              0.0   \n",
              "3                                       0.0                              0.0   \n",
              "4                                       0.0                              0.0   \n",
              "\n",
              "   pipeline-2__Item_Type_Meat  pipeline-2__Item_Type_Others  \\\n",
              "0                         0.0                           0.0   \n",
              "1                         0.0                           0.0   \n",
              "2                         0.0                           0.0   \n",
              "3                         0.0                           0.0   \n",
              "4                         1.0                           0.0   \n",
              "\n",
              "   pipeline-2__Item_Type_Seafood  pipeline-2__Item_Type_Snack Foods  \\\n",
              "0                            0.0                                0.0   \n",
              "1                            0.0                                0.0   \n",
              "2                            0.0                                0.0   \n",
              "3                            0.0                                0.0   \n",
              "4                            0.0                                0.0   \n",
              "\n",
              "   pipeline-2__Item_Type_Soft Drinks  pipeline-2__Item_Type_Starchy Foods  \n",
              "0                                0.0                                  0.0  \n",
              "1                                0.0                                  0.0  \n",
              "2                                0.0                                  0.0  \n",
              "3                                1.0                                  0.0  \n",
              "4                                0.0                                  0.0  \n",
              "\n",
              "[5 rows x 23 columns]"
            ],
            "text/html": [
              "\n",
              "  <div id=\"df-f68690fa-ee4f-444d-80af-eceb60e9af29\">\n",
              "    <div class=\"colab-df-container\">\n",
              "      <div>\n",
              "<style scoped>\n",
              "    .dataframe tbody tr th:only-of-type {\n",
              "        vertical-align: middle;\n",
              "    }\n",
              "\n",
              "    .dataframe tbody tr th {\n",
              "        vertical-align: top;\n",
              "    }\n",
              "\n",
              "    .dataframe thead th {\n",
              "        text-align: right;\n",
              "    }\n",
              "</style>\n",
              "<table border=\"1\" class=\"dataframe\">\n",
              "  <thead>\n",
              "    <tr style=\"text-align: right;\">\n",
              "      <th></th>\n",
              "      <th>pipeline-1__Item_Weight</th>\n",
              "      <th>pipeline-1__Item_Fat_Content</th>\n",
              "      <th>pipeline-1__Item_Visibility</th>\n",
              "      <th>pipeline-1__Item_MRP</th>\n",
              "      <th>pipeline-1__Outlet_Size</th>\n",
              "      <th>pipeline-1__Outlet_Location_Type</th>\n",
              "      <th>pipeline-1__Outlet_Type</th>\n",
              "      <th>pipeline-2__Item_Type_Baking Goods</th>\n",
              "      <th>pipeline-2__Item_Type_Breads</th>\n",
              "      <th>pipeline-2__Item_Type_Breakfast</th>\n",
              "      <th>...</th>\n",
              "      <th>pipeline-2__Item_Type_Fruits and Vegetables</th>\n",
              "      <th>pipeline-2__Item_Type_Hard Drinks</th>\n",
              "      <th>pipeline-2__Item_Type_Health and Hygiene</th>\n",
              "      <th>pipeline-2__Item_Type_Household</th>\n",
              "      <th>pipeline-2__Item_Type_Meat</th>\n",
              "      <th>pipeline-2__Item_Type_Others</th>\n",
              "      <th>pipeline-2__Item_Type_Seafood</th>\n",
              "      <th>pipeline-2__Item_Type_Snack Foods</th>\n",
              "      <th>pipeline-2__Item_Type_Soft Drinks</th>\n",
              "      <th>pipeline-2__Item_Type_Starchy Foods</th>\n",
              "    </tr>\n",
              "  </thead>\n",
              "  <tbody>\n",
              "    <tr>\n",
              "      <th>0</th>\n",
              "      <td>3.310089e-01</td>\n",
              "      <td>-0.740321</td>\n",
              "      <td>-0.776646</td>\n",
              "      <td>-0.998816</td>\n",
              "      <td>2.107200</td>\n",
              "      <td>1.084948</td>\n",
              "      <td>-0.263600</td>\n",
              "      <td>0.0</td>\n",
              "      <td>0.0</td>\n",
              "      <td>0.0</td>\n",
              "      <td>...</td>\n",
              "      <td>0.0</td>\n",
              "      <td>0.0</td>\n",
              "      <td>0.0</td>\n",
              "      <td>0.0</td>\n",
              "      <td>0.0</td>\n",
              "      <td>0.0</td>\n",
              "      <td>0.0</td>\n",
              "      <td>0.0</td>\n",
              "      <td>0.0</td>\n",
              "      <td>0.0</td>\n",
              "    </tr>\n",
              "    <tr>\n",
              "      <th>1</th>\n",
              "      <td>-1.179892e+00</td>\n",
              "      <td>-0.740321</td>\n",
              "      <td>0.100317</td>\n",
              "      <td>-1.585194</td>\n",
              "      <td>-1.291630</td>\n",
              "      <td>-1.384777</td>\n",
              "      <td>-0.263600</td>\n",
              "      <td>0.0</td>\n",
              "      <td>0.0</td>\n",
              "      <td>0.0</td>\n",
              "      <td>...</td>\n",
              "      <td>0.0</td>\n",
              "      <td>0.0</td>\n",
              "      <td>1.0</td>\n",
              "      <td>0.0</td>\n",
              "      <td>0.0</td>\n",
              "      <td>0.0</td>\n",
              "      <td>0.0</td>\n",
              "      <td>0.0</td>\n",
              "      <td>0.0</td>\n",
              "      <td>0.0</td>\n",
              "    </tr>\n",
              "    <tr>\n",
              "      <th>2</th>\n",
              "      <td>3.784469e-01</td>\n",
              "      <td>1.350766</td>\n",
              "      <td>-0.482994</td>\n",
              "      <td>-1.595784</td>\n",
              "      <td>0.407785</td>\n",
              "      <td>-1.384777</td>\n",
              "      <td>-0.263600</td>\n",
              "      <td>0.0</td>\n",
              "      <td>0.0</td>\n",
              "      <td>0.0</td>\n",
              "      <td>...</td>\n",
              "      <td>0.0</td>\n",
              "      <td>0.0</td>\n",
              "      <td>0.0</td>\n",
              "      <td>0.0</td>\n",
              "      <td>0.0</td>\n",
              "      <td>0.0</td>\n",
              "      <td>0.0</td>\n",
              "      <td>0.0</td>\n",
              "      <td>0.0</td>\n",
              "      <td>0.0</td>\n",
              "    </tr>\n",
              "    <tr>\n",
              "      <th>3</th>\n",
              "      <td>4.213344e-16</td>\n",
              "      <td>1.350766</td>\n",
              "      <td>-0.415440</td>\n",
              "      <td>0.506592</td>\n",
              "      <td>0.407785</td>\n",
              "      <td>1.084948</td>\n",
              "      <td>2.230744</td>\n",
              "      <td>0.0</td>\n",
              "      <td>0.0</td>\n",
              "      <td>0.0</td>\n",
              "      <td>...</td>\n",
              "      <td>0.0</td>\n",
              "      <td>0.0</td>\n",
              "      <td>0.0</td>\n",
              "      <td>0.0</td>\n",
              "      <td>0.0</td>\n",
              "      <td>0.0</td>\n",
              "      <td>0.0</td>\n",
              "      <td>0.0</td>\n",
              "      <td>1.0</td>\n",
              "      <td>0.0</td>\n",
              "    </tr>\n",
              "    <tr>\n",
              "      <th>4</th>\n",
              "      <td>-6.426567e-01</td>\n",
              "      <td>1.350766</td>\n",
              "      <td>-1.047426</td>\n",
              "      <td>0.886725</td>\n",
              "      <td>-1.291630</td>\n",
              "      <td>-0.149914</td>\n",
              "      <td>-0.263600</td>\n",
              "      <td>0.0</td>\n",
              "      <td>0.0</td>\n",
              "      <td>0.0</td>\n",
              "      <td>...</td>\n",
              "      <td>0.0</td>\n",
              "      <td>0.0</td>\n",
              "      <td>0.0</td>\n",
              "      <td>0.0</td>\n",
              "      <td>1.0</td>\n",
              "      <td>0.0</td>\n",
              "      <td>0.0</td>\n",
              "      <td>0.0</td>\n",
              "      <td>0.0</td>\n",
              "      <td>0.0</td>\n",
              "    </tr>\n",
              "  </tbody>\n",
              "</table>\n",
              "<p>5 rows × 23 columns</p>\n",
              "</div>\n",
              "      <button class=\"colab-df-convert\" onclick=\"convertToInteractive('df-f68690fa-ee4f-444d-80af-eceb60e9af29')\"\n",
              "              title=\"Convert this dataframe to an interactive table.\"\n",
              "              style=\"display:none;\">\n",
              "        \n",
              "  <svg xmlns=\"http://www.w3.org/2000/svg\" height=\"24px\"viewBox=\"0 0 24 24\"\n",
              "       width=\"24px\">\n",
              "    <path d=\"M0 0h24v24H0V0z\" fill=\"none\"/>\n",
              "    <path d=\"M18.56 5.44l.94 2.06.94-2.06 2.06-.94-2.06-.94-.94-2.06-.94 2.06-2.06.94zm-11 1L8.5 8.5l.94-2.06 2.06-.94-2.06-.94L8.5 2.5l-.94 2.06-2.06.94zm10 10l.94 2.06.94-2.06 2.06-.94-2.06-.94-.94-2.06-.94 2.06-2.06.94z\"/><path d=\"M17.41 7.96l-1.37-1.37c-.4-.4-.92-.59-1.43-.59-.52 0-1.04.2-1.43.59L10.3 9.45l-7.72 7.72c-.78.78-.78 2.05 0 2.83L4 21.41c.39.39.9.59 1.41.59.51 0 1.02-.2 1.41-.59l7.78-7.78 2.81-2.81c.8-.78.8-2.07 0-2.86zM5.41 20L4 18.59l7.72-7.72 1.47 1.35L5.41 20z\"/>\n",
              "  </svg>\n",
              "      </button>\n",
              "      \n",
              "  <style>\n",
              "    .colab-df-container {\n",
              "      display:flex;\n",
              "      flex-wrap:wrap;\n",
              "      gap: 12px;\n",
              "    }\n",
              "\n",
              "    .colab-df-convert {\n",
              "      background-color: #E8F0FE;\n",
              "      border: none;\n",
              "      border-radius: 50%;\n",
              "      cursor: pointer;\n",
              "      display: none;\n",
              "      fill: #1967D2;\n",
              "      height: 32px;\n",
              "      padding: 0 0 0 0;\n",
              "      width: 32px;\n",
              "    }\n",
              "\n",
              "    .colab-df-convert:hover {\n",
              "      background-color: #E2EBFA;\n",
              "      box-shadow: 0px 1px 2px rgba(60, 64, 67, 0.3), 0px 1px 3px 1px rgba(60, 64, 67, 0.15);\n",
              "      fill: #174EA6;\n",
              "    }\n",
              "\n",
              "    [theme=dark] .colab-df-convert {\n",
              "      background-color: #3B4455;\n",
              "      fill: #D2E3FC;\n",
              "    }\n",
              "\n",
              "    [theme=dark] .colab-df-convert:hover {\n",
              "      background-color: #434B5C;\n",
              "      box-shadow: 0px 1px 3px 1px rgba(0, 0, 0, 0.15);\n",
              "      filter: drop-shadow(0px 1px 2px rgba(0, 0, 0, 0.3));\n",
              "      fill: #FFFFFF;\n",
              "    }\n",
              "  </style>\n",
              "\n",
              "      <script>\n",
              "        const buttonEl =\n",
              "          document.querySelector('#df-f68690fa-ee4f-444d-80af-eceb60e9af29 button.colab-df-convert');\n",
              "        buttonEl.style.display =\n",
              "          google.colab.kernel.accessAllowed ? 'block' : 'none';\n",
              "\n",
              "        async function convertToInteractive(key) {\n",
              "          const element = document.querySelector('#df-f68690fa-ee4f-444d-80af-eceb60e9af29');\n",
              "          const dataTable =\n",
              "            await google.colab.kernel.invokeFunction('convertToInteractive',\n",
              "                                                     [key], {});\n",
              "          if (!dataTable) return;\n",
              "\n",
              "          const docLinkHtml = 'Like what you see? Visit the ' +\n",
              "            '<a target=\"_blank\" href=https://colab.research.google.com/notebooks/data_table.ipynb>data table notebook</a>'\n",
              "            + ' to learn more about interactive tables.';\n",
              "          element.innerHTML = '';\n",
              "          dataTable['output_type'] = 'display_data';\n",
              "          await google.colab.output.renderOutput(dataTable, element);\n",
              "          const docLink = document.createElement('div');\n",
              "          docLink.innerHTML = docLinkHtml;\n",
              "          element.appendChild(docLink);\n",
              "        }\n",
              "      </script>\n",
              "    </div>\n",
              "  </div>\n",
              "  "
            ]
          },
          "metadata": {},
          "execution_count": 103
        }
      ]
    },
    {
      "cell_type": "code",
      "source": [
        "#Corrección de titulos\n",
        "col= X_train.columns\n",
        "coln = [i[12:] for i in col]\n",
        "X_train.columns = coln\n",
        "X_train.columns"
      ],
      "metadata": {
        "colab": {
          "base_uri": "https://localhost:8080/"
        },
        "id": "iYx5rrL31xnX",
        "outputId": "b01d9839-aa15-4731-a014-4d9e4b0d6e63"
      },
      "execution_count": 104,
      "outputs": [
        {
          "output_type": "execute_result",
          "data": {
            "text/plain": [
              "Index(['Item_Weight', 'Item_Fat_Content', 'Item_Visibility', 'Item_MRP',\n",
              "       'Outlet_Size', 'Outlet_Location_Type', 'Outlet_Type',\n",
              "       'Item_Type_Baking Goods', 'Item_Type_Breads', 'Item_Type_Breakfast',\n",
              "       'Item_Type_Canned', 'Item_Type_Dairy', 'Item_Type_Frozen Foods',\n",
              "       'Item_Type_Fruits and Vegetables', 'Item_Type_Hard Drinks',\n",
              "       'Item_Type_Health and Hygiene', 'Item_Type_Household', 'Item_Type_Meat',\n",
              "       'Item_Type_Others', 'Item_Type_Seafood', 'Item_Type_Snack Foods',\n",
              "       'Item_Type_Soft Drinks', 'Item_Type_Starchy Foods'],\n",
              "      dtype='object')"
            ]
          },
          "metadata": {},
          "execution_count": 104
        }
      ]
    },
    {
      "cell_type": "code",
      "source": [
        "col2= X_test.columns\n",
        "coln2 = [j[12:] for j in col2]\n",
        "X_test.columns = coln2\n",
        "X_test.columns"
      ],
      "metadata": {
        "colab": {
          "base_uri": "https://localhost:8080/"
        },
        "id": "KZc6-P5X2xlc",
        "outputId": "57019c32-f8c8-4e12-8a64-e5e2e52f9f18"
      },
      "execution_count": 105,
      "outputs": [
        {
          "output_type": "execute_result",
          "data": {
            "text/plain": [
              "Index(['Item_Weight', 'Item_Fat_Content', 'Item_Visibility', 'Item_MRP',\n",
              "       'Outlet_Size', 'Outlet_Location_Type', 'Outlet_Type',\n",
              "       'Item_Type_Baking Goods', 'Item_Type_Breads', 'Item_Type_Breakfast',\n",
              "       'Item_Type_Canned', 'Item_Type_Dairy', 'Item_Type_Frozen Foods',\n",
              "       'Item_Type_Fruits and Vegetables', 'Item_Type_Hard Drinks',\n",
              "       'Item_Type_Health and Hygiene', 'Item_Type_Household', 'Item_Type_Meat',\n",
              "       'Item_Type_Others', 'Item_Type_Seafood', 'Item_Type_Snack Foods',\n",
              "       'Item_Type_Soft Drinks', 'Item_Type_Starchy Foods'],\n",
              "      dtype='object')"
            ]
          },
          "metadata": {},
          "execution_count": 105
        }
      ]
    },
    {
      "cell_type": "code",
      "source": [
        "X_train.info()"
      ],
      "metadata": {
        "colab": {
          "base_uri": "https://localhost:8080/"
        },
        "id": "zBPUnLNOzd1S",
        "outputId": "90336028-0b04-4780-96aa-2619dca0f221"
      },
      "execution_count": 106,
      "outputs": [
        {
          "output_type": "stream",
          "name": "stdout",
          "text": [
            "<class 'pandas.core.frame.DataFrame'>\n",
            "RangeIndex: 6392 entries, 0 to 6391\n",
            "Data columns (total 23 columns):\n",
            " #   Column                           Non-Null Count  Dtype  \n",
            "---  ------                           --------------  -----  \n",
            " 0   Item_Weight                      6392 non-null   float64\n",
            " 1   Item_Fat_Content                 6392 non-null   float64\n",
            " 2   Item_Visibility                  6392 non-null   float64\n",
            " 3   Item_MRP                         6392 non-null   float64\n",
            " 4   Outlet_Size                      6392 non-null   float64\n",
            " 5   Outlet_Location_Type             6392 non-null   float64\n",
            " 6   Outlet_Type                      6392 non-null   float64\n",
            " 7   Item_Type_Baking Goods           6392 non-null   float64\n",
            " 8   Item_Type_Breads                 6392 non-null   float64\n",
            " 9   Item_Type_Breakfast              6392 non-null   float64\n",
            " 10  Item_Type_Canned                 6392 non-null   float64\n",
            " 11  Item_Type_Dairy                  6392 non-null   float64\n",
            " 12  Item_Type_Frozen Foods           6392 non-null   float64\n",
            " 13  Item_Type_Fruits and Vegetables  6392 non-null   float64\n",
            " 14  Item_Type_Hard Drinks            6392 non-null   float64\n",
            " 15  Item_Type_Health and Hygiene     6392 non-null   float64\n",
            " 16  Item_Type_Household              6392 non-null   float64\n",
            " 17  Item_Type_Meat                   6392 non-null   float64\n",
            " 18  Item_Type_Others                 6392 non-null   float64\n",
            " 19  Item_Type_Seafood                6392 non-null   float64\n",
            " 20  Item_Type_Snack Foods            6392 non-null   float64\n",
            " 21  Item_Type_Soft Drinks            6392 non-null   float64\n",
            " 22  Item_Type_Starchy Foods          6392 non-null   float64\n",
            "dtypes: float64(23)\n",
            "memory usage: 1.1 MB\n"
          ]
        }
      ]
    },
    {
      "cell_type": "code",
      "source": [
        "X_test.info()"
      ],
      "metadata": {
        "colab": {
          "base_uri": "https://localhost:8080/"
        },
        "id": "JjtXcVNC3Pp4",
        "outputId": "11ecf393-1175-4d4a-9551-1342358d57c7"
      },
      "execution_count": 107,
      "outputs": [
        {
          "output_type": "stream",
          "name": "stdout",
          "text": [
            "<class 'pandas.core.frame.DataFrame'>\n",
            "RangeIndex: 2131 entries, 0 to 2130\n",
            "Data columns (total 23 columns):\n",
            " #   Column                           Non-Null Count  Dtype  \n",
            "---  ------                           --------------  -----  \n",
            " 0   Item_Weight                      2131 non-null   float64\n",
            " 1   Item_Fat_Content                 2131 non-null   float64\n",
            " 2   Item_Visibility                  2131 non-null   float64\n",
            " 3   Item_MRP                         2131 non-null   float64\n",
            " 4   Outlet_Size                      2131 non-null   float64\n",
            " 5   Outlet_Location_Type             2131 non-null   float64\n",
            " 6   Outlet_Type                      2131 non-null   float64\n",
            " 7   Item_Type_Baking Goods           2131 non-null   float64\n",
            " 8   Item_Type_Breads                 2131 non-null   float64\n",
            " 9   Item_Type_Breakfast              2131 non-null   float64\n",
            " 10  Item_Type_Canned                 2131 non-null   float64\n",
            " 11  Item_Type_Dairy                  2131 non-null   float64\n",
            " 12  Item_Type_Frozen Foods           2131 non-null   float64\n",
            " 13  Item_Type_Fruits and Vegetables  2131 non-null   float64\n",
            " 14  Item_Type_Hard Drinks            2131 non-null   float64\n",
            " 15  Item_Type_Health and Hygiene     2131 non-null   float64\n",
            " 16  Item_Type_Household              2131 non-null   float64\n",
            " 17  Item_Type_Meat                   2131 non-null   float64\n",
            " 18  Item_Type_Others                 2131 non-null   float64\n",
            " 19  Item_Type_Seafood                2131 non-null   float64\n",
            " 20  Item_Type_Snack Foods            2131 non-null   float64\n",
            " 21  Item_Type_Soft Drinks            2131 non-null   float64\n",
            " 22  Item_Type_Starchy Foods          2131 non-null   float64\n",
            "dtypes: float64(23)\n",
            "memory usage: 383.0 KB\n"
          ]
        }
      ]
    },
    {
      "cell_type": "markdown",
      "source": [
        "Regresion Lineal"
      ],
      "metadata": {
        "id": "UOMC-YXJYEQO"
      }
    },
    {
      "cell_type": "code",
      "source": [
        "from sklearn.linear_model import LinearRegression\n",
        "\n",
        "reg = LinearRegression()\n",
        "reg.fit(X_train,y_train)\n",
        "\n",
        "print(reg.coef_)\n",
        "print(reg.intercept_)"
      ],
      "metadata": {
        "colab": {
          "base_uri": "https://localhost:8080/"
        },
        "id": "aLIZSvJrXZHJ",
        "outputId": "8109a96d-2d1d-4d1d-9baf-3ffb004d7bef"
      },
      "execution_count": 108,
      "outputs": [
        {
          "output_type": "stream",
          "name": "stdout",
          "text": [
            "[ -10.16918859   34.63859484  -84.49010837  983.16061408  186.82152544\n",
            " -318.81434948  776.42455602  -24.57295579  -48.85594407   43.38241353\n",
            "   26.49024156 -133.0709718   -24.65481932   29.57281019   19.39615989\n",
            "  -12.85719227  -20.01611895  -51.10494499  -99.69875079  290.04063254\n",
            "  -40.55899947  -40.71387956   87.2223193 ]\n",
            "2230.3744673916667\n"
          ]
        }
      ]
    },
    {
      "cell_type": "code",
      "source": [
        "train_score = round(reg.score(X_train, y_train),2)\n",
        "print(\"Entrenamiento:\",train_score)\n",
        "\n",
        "test_score = round(reg.score(X_test, y_test),2)\n",
        "print(\"Prueba:\",test_score)"
      ],
      "metadata": {
        "colab": {
          "base_uri": "https://localhost:8080/"
        },
        "id": "t3VGkEy6XZJm",
        "outputId": "4275da12-f0b1-4a6f-cad2-5202ffa4e88f"
      },
      "execution_count": 109,
      "outputs": [
        {
          "output_type": "stream",
          "name": "stdout",
          "text": [
            "Entrenamiento: 0.51\n",
            "Prueba: 0.5\n"
          ]
        }
      ]
    },
    {
      "cell_type": "code",
      "source": [
        "import warnings\n",
        "warnings.filterwarnings('ignore')\n",
        "\n",
        "# Predicciones del conjunto de entrenamiento\n",
        "train_preds = reg.predict(X_train_processed)\n",
        "# Predicciones del conjunto de prueba\n",
        "test_preds = reg.predict(X_test_processed)\n"
      ],
      "metadata": {
        "id": "_NHeeLPOXZLv"
      },
      "execution_count": 110,
      "outputs": []
    },
    {
      "cell_type": "code",
      "source": [
        "from sklearn.metrics import r2_score\n",
        "from sklearn.metrics import mean_absolute_error\n",
        "from sklearn.metrics import mean_squared_error\n",
        "\n",
        "\n",
        "mae_train = mean_absolute_error(y_train, train_preds).round(2)\n",
        "mae_test = mean_absolute_error(y_test, test_preds).round(2)\n",
        "\n",
        "print(\"EAM Error Train:\",mae_train)\n",
        "print(\"EAM Error Test:\",mae_test)\n",
        "print(\"\")\n",
        "\n",
        "mse_train = mean_squared_error(y_train, train_preds).round(2)\n",
        "mse_test = mean_squared_error(y_test, test_preds).round(2)\n",
        "print(\"MSE Error Train:\",mse_train)\n",
        "print(\"MSE Error Test:\",mse_test)\n",
        "print(\"\")\n",
        "\n",
        "rmse_train = np.sqrt(mean_squared_error(y_train, train_preds)).round(2)\n",
        "rmse_test = np.sqrt(mean_squared_error(y_test, test_preds)).round(2)\n",
        "print(\"RMSE Error Train:\",rmse_train)\n",
        "print(\"RMSE Error Test:\",rmse_test)"
      ],
      "metadata": {
        "colab": {
          "base_uri": "https://localhost:8080/"
        },
        "id": "dFlKnCdoYUDU",
        "outputId": "98d3402c-317c-4ad5-80a0-111c81757620"
      },
      "execution_count": 111,
      "outputs": [
        {
          "output_type": "stream",
          "name": "stdout",
          "text": [
            "EAM Error Train: 911.06\n",
            "EAM Error Test: 872.73\n",
            "\n",
            "MSE Error Train: 1461347.79\n",
            "MSE Error Test: 1365856.68\n",
            "\n",
            "RMSE Error Train: 1208.86\n",
            "RMSE Error Test: 1168.7\n"
          ]
        }
      ]
    },
    {
      "cell_type": "markdown",
      "source": [
        "* Mediante regresión lineal se obtuvo un R^2 de 0.5, este índice es un poco bajo, por lo que para poder predecir el precio de una forma mas exacta, es necasario probar otros modelos.\n",
        "\n",
        "* El RMSE Error es de aproximadamente $1200 "
      ],
      "metadata": {
        "id": "uiAvuvmoPKXT"
      }
    },
    {
      "cell_type": "markdown",
      "source": [
        "Árbol de regresión"
      ],
      "metadata": {
        "id": "3FnL67NQYHcs"
      }
    },
    {
      "cell_type": "code",
      "source": [
        "from sklearn.tree import DecisionTreeRegressor\n",
        "\n",
        "dec_tree = DecisionTreeRegressor(random_state = 42)\n",
        "dec_tree.fit(X_train, y_train)"
      ],
      "metadata": {
        "colab": {
          "base_uri": "https://localhost:8080/",
          "height": 74
        },
        "id": "hp-tKqcQYAt9",
        "outputId": "0a9a7feb-3ce6-4df4-ae81-c18e7e242b54"
      },
      "execution_count": 112,
      "outputs": [
        {
          "output_type": "execute_result",
          "data": {
            "text/plain": [
              "DecisionTreeRegressor(random_state=42)"
            ],
            "text/html": [
              "<style>#sk-container-id-4 {color: black;background-color: white;}#sk-container-id-4 pre{padding: 0;}#sk-container-id-4 div.sk-toggleable {background-color: white;}#sk-container-id-4 label.sk-toggleable__label {cursor: pointer;display: block;width: 100%;margin-bottom: 0;padding: 0.3em;box-sizing: border-box;text-align: center;}#sk-container-id-4 label.sk-toggleable__label-arrow:before {content: \"▸\";float: left;margin-right: 0.25em;color: #696969;}#sk-container-id-4 label.sk-toggleable__label-arrow:hover:before {color: black;}#sk-container-id-4 div.sk-estimator:hover label.sk-toggleable__label-arrow:before {color: black;}#sk-container-id-4 div.sk-toggleable__content {max-height: 0;max-width: 0;overflow: hidden;text-align: left;background-color: #f0f8ff;}#sk-container-id-4 div.sk-toggleable__content pre {margin: 0.2em;color: black;border-radius: 0.25em;background-color: #f0f8ff;}#sk-container-id-4 input.sk-toggleable__control:checked~div.sk-toggleable__content {max-height: 200px;max-width: 100%;overflow: auto;}#sk-container-id-4 input.sk-toggleable__control:checked~label.sk-toggleable__label-arrow:before {content: \"▾\";}#sk-container-id-4 div.sk-estimator input.sk-toggleable__control:checked~label.sk-toggleable__label {background-color: #d4ebff;}#sk-container-id-4 div.sk-label input.sk-toggleable__control:checked~label.sk-toggleable__label {background-color: #d4ebff;}#sk-container-id-4 input.sk-hidden--visually {border: 0;clip: rect(1px 1px 1px 1px);clip: rect(1px, 1px, 1px, 1px);height: 1px;margin: -1px;overflow: hidden;padding: 0;position: absolute;width: 1px;}#sk-container-id-4 div.sk-estimator {font-family: monospace;background-color: #f0f8ff;border: 1px dotted black;border-radius: 0.25em;box-sizing: border-box;margin-bottom: 0.5em;}#sk-container-id-4 div.sk-estimator:hover {background-color: #d4ebff;}#sk-container-id-4 div.sk-parallel-item::after {content: \"\";width: 100%;border-bottom: 1px solid gray;flex-grow: 1;}#sk-container-id-4 div.sk-label:hover label.sk-toggleable__label {background-color: #d4ebff;}#sk-container-id-4 div.sk-serial::before {content: \"\";position: absolute;border-left: 1px solid gray;box-sizing: border-box;top: 0;bottom: 0;left: 50%;z-index: 0;}#sk-container-id-4 div.sk-serial {display: flex;flex-direction: column;align-items: center;background-color: white;padding-right: 0.2em;padding-left: 0.2em;position: relative;}#sk-container-id-4 div.sk-item {position: relative;z-index: 1;}#sk-container-id-4 div.sk-parallel {display: flex;align-items: stretch;justify-content: center;background-color: white;position: relative;}#sk-container-id-4 div.sk-item::before, #sk-container-id-4 div.sk-parallel-item::before {content: \"\";position: absolute;border-left: 1px solid gray;box-sizing: border-box;top: 0;bottom: 0;left: 50%;z-index: -1;}#sk-container-id-4 div.sk-parallel-item {display: flex;flex-direction: column;z-index: 1;position: relative;background-color: white;}#sk-container-id-4 div.sk-parallel-item:first-child::after {align-self: flex-end;width: 50%;}#sk-container-id-4 div.sk-parallel-item:last-child::after {align-self: flex-start;width: 50%;}#sk-container-id-4 div.sk-parallel-item:only-child::after {width: 0;}#sk-container-id-4 div.sk-dashed-wrapped {border: 1px dashed gray;margin: 0 0.4em 0.5em 0.4em;box-sizing: border-box;padding-bottom: 0.4em;background-color: white;}#sk-container-id-4 div.sk-label label {font-family: monospace;font-weight: bold;display: inline-block;line-height: 1.2em;}#sk-container-id-4 div.sk-label-container {text-align: center;}#sk-container-id-4 div.sk-container {/* jupyter's `normalize.less` sets `[hidden] { display: none; }` but bootstrap.min.css set `[hidden] { display: none !important; }` so we also need the `!important` here to be able to override the default hidden behavior on the sphinx rendered scikit-learn.org. See: https://github.com/scikit-learn/scikit-learn/issues/21755 */display: inline-block !important;position: relative;}#sk-container-id-4 div.sk-text-repr-fallback {display: none;}</style><div id=\"sk-container-id-4\" class=\"sk-top-container\"><div class=\"sk-text-repr-fallback\"><pre>DecisionTreeRegressor(random_state=42)</pre><b>In a Jupyter environment, please rerun this cell to show the HTML representation or trust the notebook. <br />On GitHub, the HTML representation is unable to render, please try loading this page with nbviewer.org.</b></div><div class=\"sk-container\" hidden><div class=\"sk-item\"><div class=\"sk-estimator sk-toggleable\"><input class=\"sk-toggleable__control sk-hidden--visually\" id=\"sk-estimator-id-18\" type=\"checkbox\" checked><label for=\"sk-estimator-id-18\" class=\"sk-toggleable__label sk-toggleable__label-arrow\">DecisionTreeRegressor</label><div class=\"sk-toggleable__content\"><pre>DecisionTreeRegressor(random_state=42)</pre></div></div></div></div></div>"
            ]
          },
          "metadata": {},
          "execution_count": 112
        }
      ]
    },
    {
      "cell_type": "code",
      "source": [
        "train_preds = dec_tree.predict(X_train)\n",
        "test_preds = dec_tree.predict(X_test)\n"
      ],
      "metadata": {
        "id": "Tr-WvPFCYAwR"
      },
      "execution_count": 113,
      "outputs": []
    },
    {
      "cell_type": "code",
      "source": [
        "train_score = dec_tree.score(X_train_processed, y_train)\n",
        "test_score = dec_tree.score(X_test_processed, y_test)\n",
        "print(train_score)\n",
        "print(test_score)"
      ],
      "metadata": {
        "colab": {
          "base_uri": "https://localhost:8080/"
        },
        "id": "YNrlgN37YAy6",
        "outputId": "bf2e8fc7-b4cb-4bdc-c767-2f9208af0acf"
      },
      "execution_count": 114,
      "outputs": [
        {
          "output_type": "stream",
          "name": "stdout",
          "text": [
            "1.0\n",
            "0.15866641598692743\n"
          ]
        }
      ]
    },
    {
      "cell_type": "markdown",
      "source": [
        "* Vemos que el modelo de árbol de regresión sobreajustó el modelo, esto causa que sea capaz de predecir con exactitud los resultados del set de datos de entrenamiento, pero al momento de ingresar los datos de prueba falla por lo que el R^2 es muy bajo (0.15) Bajo estos parametros, no sería un buen módelo. Para solicionar este problema se puede cambiar los hiperparámetros del modelo para buscar el punto optimo que minimice los errores en las predicciones.\n"
      ],
      "metadata": {
        "id": "99UV6LU1aj9Y"
      }
    },
    {
      "cell_type": "code",
      "source": [
        "dec_tree.get_params()"
      ],
      "metadata": {
        "colab": {
          "base_uri": "https://localhost:8080/"
        },
        "id": "eldhVFNE5O5e",
        "outputId": "13d0a70d-3e11-472c-c657-1dc7184f3d46"
      },
      "execution_count": 115,
      "outputs": [
        {
          "output_type": "execute_result",
          "data": {
            "text/plain": [
              "{'ccp_alpha': 0.0,\n",
              " 'criterion': 'squared_error',\n",
              " 'max_depth': None,\n",
              " 'max_features': None,\n",
              " 'max_leaf_nodes': None,\n",
              " 'min_impurity_decrease': 0.0,\n",
              " 'min_samples_leaf': 1,\n",
              " 'min_samples_split': 2,\n",
              " 'min_weight_fraction_leaf': 0.0,\n",
              " 'random_state': 42,\n",
              " 'splitter': 'best'}"
            ]
          },
          "metadata": {},
          "execution_count": 115
        }
      ]
    },
    {
      "cell_type": "code",
      "source": [
        "max_depth_range = [2,3,4,5,6,7,8,9,10,11,12,13,14,15,16,17,18,19,20,21,22,23,24,25,26,27,28,29,30,31,32,33,34,35,36]\n",
        "\n",
        "r2 = []\n",
        "for depth in max_depth_range:\n",
        "    dec_tree = DecisionTreeRegressor(max_depth = depth, \n",
        "                             random_state = 42)\n",
        "    dec_tree.fit(X_train, y_train)\n",
        "    score = dec_tree.score(X_test, y_test)\n",
        "    r2.append(score)\n",
        "\n",
        "\n",
        "\n",
        "plt.plot(max_depth_range, r2)\n",
        "plt.xlabel('max_depth')\n",
        "plt.ylabel('R2');"
      ],
      "metadata": {
        "colab": {
          "base_uri": "https://localhost:8080/",
          "height": 361
        },
        "id": "BYz0gtye8cW8",
        "outputId": "039aa8d3-22c0-4e00-9a5d-94410457b287"
      },
      "execution_count": 116,
      "outputs": [
        {
          "output_type": "display_data",
          "data": {
            "text/plain": [
              "<Figure size 576x396 with 1 Axes>"
            ],
            "image/png": "[encoded data removed]"
          },
          "metadata": {}
        }
      ]
    },
    {
      "cell_type": "code",
      "source": [
        "dec_tree = DecisionTreeRegressor(random_state = 42, max_depth=5)\n",
        "dec_tree.fit(X_train, y_train)"
      ],
      "metadata": {
        "colab": {
          "base_uri": "https://localhost:8080/",
          "height": 74
        },
        "id": "gaTWZgqb81IK",
        "outputId": "0f4c8845-8563-4c58-88ed-6d848af63ea5"
      },
      "execution_count": 117,
      "outputs": [
        {
          "output_type": "execute_result",
          "data": {
            "text/plain": [
              "DecisionTreeRegressor(max_depth=5, random_state=42)"
            ],
            "text/html": [
              "<style>#sk-container-id-5 {color: black;background-color: white;}#sk-container-id-5 pre{padding: 0;}#sk-container-id-5 div.sk-toggleable {background-color: white;}#sk-container-id-5 label.sk-toggleable__label {cursor: pointer;display: block;width: 100%;margin-bottom: 0;padding: 0.3em;box-sizing: border-box;text-align: center;}#sk-container-id-5 label.sk-toggleable__label-arrow:before {content: \"▸\";float: left;margin-right: 0.25em;color: #696969;}#sk-container-id-5 label.sk-toggleable__label-arrow:hover:before {color: black;}#sk-container-id-5 div.sk-estimator:hover label.sk-toggleable__label-arrow:before {color: black;}#sk-container-id-5 div.sk-toggleable__content {max-height: 0;max-width: 0;overflow: hidden;text-align: left;background-color: #f0f8ff;}#sk-container-id-5 div.sk-toggleable__content pre {margin: 0.2em;color: black;border-radius: 0.25em;background-color: #f0f8ff;}#sk-container-id-5 input.sk-toggleable__control:checked~div.sk-toggleable__content {max-height: 200px;max-width: 100%;overflow: auto;}#sk-container-id-5 input.sk-toggleable__control:checked~label.sk-toggleable__label-arrow:before {content: \"▾\";}#sk-container-id-5 div.sk-estimator input.sk-toggleable__control:checked~label.sk-toggleable__label {background-color: #d4ebff;}#sk-container-id-5 div.sk-label input.sk-toggleable__control:checked~label.sk-toggleable__label {background-color: #d4ebff;}#sk-container-id-5 input.sk-hidden--visually {border: 0;clip: rect(1px 1px 1px 1px);clip: rect(1px, 1px, 1px, 1px);height: 1px;margin: -1px;overflow: hidden;padding: 0;position: absolute;width: 1px;}#sk-container-id-5 div.sk-estimator {font-family: monospace;background-color: #f0f8ff;border: 1px dotted black;border-radius: 0.25em;box-sizing: border-box;margin-bottom: 0.5em;}#sk-container-id-5 div.sk-estimator:hover {background-color: #d4ebff;}#sk-container-id-5 div.sk-parallel-item::after {content: \"\";width: 100%;border-bottom: 1px solid gray;flex-grow: 1;}#sk-container-id-5 div.sk-label:hover label.sk-toggleable__label {background-color: #d4ebff;}#sk-container-id-5 div.sk-serial::before {content: \"\";position: absolute;border-left: 1px solid gray;box-sizing: border-box;top: 0;bottom: 0;left: 50%;z-index: 0;}#sk-container-id-5 div.sk-serial {display: flex;flex-direction: column;align-items: center;background-color: white;padding-right: 0.2em;padding-left: 0.2em;position: relative;}#sk-container-id-5 div.sk-item {position: relative;z-index: 1;}#sk-container-id-5 div.sk-parallel {display: flex;align-items: stretch;justify-content: center;background-color: white;position: relative;}#sk-container-id-5 div.sk-item::before, #sk-container-id-5 div.sk-parallel-item::before {content: \"\";position: absolute;border-left: 1px solid gray;box-sizing: border-box;top: 0;bottom: 0;left: 50%;z-index: -1;}#sk-container-id-5 div.sk-parallel-item {display: flex;flex-direction: column;z-index: 1;position: relative;background-color: white;}#sk-container-id-5 div.sk-parallel-item:first-child::after {align-self: flex-end;width: 50%;}#sk-container-id-5 div.sk-parallel-item:last-child::after {align-self: flex-start;width: 50%;}#sk-container-id-5 div.sk-parallel-item:only-child::after {width: 0;}#sk-container-id-5 div.sk-dashed-wrapped {border: 1px dashed gray;margin: 0 0.4em 0.5em 0.4em;box-sizing: border-box;padding-bottom: 0.4em;background-color: white;}#sk-container-id-5 div.sk-label label {font-family: monospace;font-weight: bold;display: inline-block;line-height: 1.2em;}#sk-container-id-5 div.sk-label-container {text-align: center;}#sk-container-id-5 div.sk-container {/* jupyter's `normalize.less` sets `[hidden] { display: none; }` but bootstrap.min.css set `[hidden] { display: none !important; }` so we also need the `!important` here to be able to override the default hidden behavior on the sphinx rendered scikit-learn.org. See: https://github.com/scikit-learn/scikit-learn/issues/21755 */display: inline-block !important;position: relative;}#sk-container-id-5 div.sk-text-repr-fallback {display: none;}</style><div id=\"sk-container-id-5\" class=\"sk-top-container\"><div class=\"sk-text-repr-fallback\"><pre>DecisionTreeRegressor(max_depth=5, random_state=42)</pre><b>In a Jupyter environment, please rerun this cell to show the HTML representation or trust the notebook. <br />On GitHub, the HTML representation is unable to render, please try loading this page with nbviewer.org.</b></div><div class=\"sk-container\" hidden><div class=\"sk-item\"><div class=\"sk-estimator sk-toggleable\"><input class=\"sk-toggleable__control sk-hidden--visually\" id=\"sk-estimator-id-19\" type=\"checkbox\" checked><label for=\"sk-estimator-id-19\" class=\"sk-toggleable__label sk-toggleable__label-arrow\">DecisionTreeRegressor</label><div class=\"sk-toggleable__content\"><pre>DecisionTreeRegressor(max_depth=5, random_state=42)</pre></div></div></div></div></div>"
            ]
          },
          "metadata": {},
          "execution_count": 117
        }
      ]
    },
    {
      "cell_type": "code",
      "source": [
        "train_score = dec_tree.score(X_train_processed, y_train).round(2)\n",
        "test_score = dec_tree.score(X_test_processed, y_test).round(2)\n",
        "print(train_score)\n",
        "print(test_score)"
      ],
      "metadata": {
        "colab": {
          "base_uri": "https://localhost:8080/"
        },
        "id": "Pxqo1V9g8_Y7",
        "outputId": "1460a22e-c18e-45b9-bc21-68a0d2999801"
      },
      "execution_count": 118,
      "outputs": [
        {
          "output_type": "stream",
          "name": "stdout",
          "text": [
            "0.6\n",
            "0.59\n"
          ]
        }
      ]
    },
    {
      "cell_type": "code",
      "source": [
        "train_preds = dec_tree.predict(X_train)\n",
        "test_preds = dec_tree.predict(X_test)\n"
      ],
      "metadata": {
        "id": "ZAFjV4Uo9WLx"
      },
      "execution_count": 119,
      "outputs": []
    },
    {
      "cell_type": "code",
      "source": [
        "mae_train = mean_absolute_error(y_train, train_preds).round(2)\n",
        "mae_test = mean_absolute_error(y_test, test_preds).round(2)\n",
        "\n",
        "print(\"EAM Error Train:\",mae_train)\n",
        "print(\"EAM Error Test:\",mae_test)\n",
        "print(\"\")\n",
        "\n",
        "mse_train = mean_squared_error(y_train, train_preds).round(2)\n",
        "mse_test = mean_squared_error(y_test, test_preds).round(2)\n",
        "print(\"MSE Error Train:\",mse_train)\n",
        "print(\"MSE Error Test:\",mse_test)\n",
        "print(\"\")\n",
        "\n",
        "rmse_train = np.sqrt(mean_squared_error(y_train, train_preds)).round(2)\n",
        "rmse_test = np.sqrt(mean_squared_error(y_test, test_preds)).round(2)\n",
        "print(\"RMSE Error Train:\",rmse_train)\n",
        "print(\"RMSE Error Test:\",rmse_test)"
      ],
      "metadata": {
        "colab": {
          "base_uri": "https://localhost:8080/"
        },
        "id": "6ouLv_CW8_Vx",
        "outputId": "ef8de6e1-be10-481c-e8b1-57848147c7c3"
      },
      "execution_count": 120,
      "outputs": [
        {
          "output_type": "stream",
          "name": "stdout",
          "text": [
            "EAM Error Train: 762.61\n",
            "EAM Error Test: 738.32\n",
            "\n",
            "MSE Error Train: 1172122.77\n",
            "MSE Error Test: 1118185.97\n",
            "\n",
            "RMSE Error Train: 1082.65\n",
            "RMSE Error Test: 1057.44\n"
          ]
        }
      ]
    },
    {
      "cell_type": "markdown",
      "source": [
        "* Ahora se obtuvo un R^2 de 0.6, mejor que el obtenido mediante la regresión lineal.\n",
        "* Además, el RMSE Error disminuyó a $1057.44 en comparación al modelo de regresión.\n",
        "* Por ende, se recomienda el uso del modelo de arboles de regresión ya que se acerca más al comportamiento de los datos."
      ],
      "metadata": {
        "id": "WRLoLKzRblf3"
      }
    }
  ]
}